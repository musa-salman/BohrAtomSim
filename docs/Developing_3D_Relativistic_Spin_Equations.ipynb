{
 "cells": [
  {
   "cell_type": "code",
   "execution_count": 1,
   "metadata": {},
   "outputs": [],
   "source": [
    "import sympy as sp"
   ]
  },
  {
   "cell_type": "markdown",
   "metadata": {},
   "source": [
    "Use the Lagrangian formalism to derive equations of motion. \n",
    "The Lagrangian is defined as:\n",
    " \n",
    "${L=L_0+{\\vec \\mu}\\cdot{\\vec B}}$\n",
    "\n",
    "$L_0=3DR$\n",
    "\n",
    "${{\\vec \\mu}\\cdot{\\vec B}={\\frac{ge^2}{2Mc^2r}}sin(\\theta)^2\\dot\\phi s_z}$\n",
    "\n",
    "where:\n",
    "$g=2$ and $s_z=\\frac{\\hbar}{2}$\n",
    "By applying the Euler-Lagrange equation:\n",
    "\n",
    "$\\frac{\\partial}{\\partial t} (\\frac{\\partial L}{\\partial \\dot q})= \\frac{\\partial L}{\\partial q}$"
   ]
  },
  {
   "cell_type": "code",
   "execution_count": 2,
   "metadata": {},
   "outputs": [],
   "source": [
    "t, v = sp.symbols('t v', real=True)\n",
    "r = sp.Symbol('r', real=True, positive=True)\n",
    "theta, phi, gamma = sp.symbols('\\\\theta \\\\phi \\\\gamma', real=True)\n",
    "r_dot, phi_dot, theta_dot, gamma_dot = sp.symbols('\\\\dot{r} \\\\dot{\\\\phi} \\\\dot{\\\\theta} \\\\dot{\\\\gamma}', real=True)\n",
    "r_ddot, theta_ddot = sp.symbols('\\\\ddot{r} \\\\ddot{\\\\theta}', real=True)\n",
    "k, M, c, e, hbar, g, s_z = sp.symbols('k M c e hbar g s_z', positive = True)\n",
    "\n",
    "r_t = sp.Function('r')(t)\n",
    "theta_t = sp.Function('theta')(t)\n",
    "phi_t = sp.Function('phi')(t)\n",
    "gamma_t = sp.Function('gamma')(t)\n",
    "\n",
    "dr_dt = r_t.diff(t)\n",
    "dtheta_dt = theta_t.diff(t)\n",
    "dphi_dt = phi_t.diff(t)\n",
    "dgamma_dt = gamma_t.diff(t)"
   ]
  },
  {
   "cell_type": "code",
   "execution_count": 3,
   "metadata": {},
   "outputs": [
    {
     "data": {
      "text/latex": [
       "$\\displaystyle \\frac{\\dot{\\phi} e^{2} g s_{z} \\sin^{2}{\\left(\\theta \\right)}}{2 M c^{2} r}$"
      ],
      "text/plain": [
       "\\dot{\\phi}*e**2*g*s_z*sin(\\theta)**2/(2*M*c**2*r)"
      ]
     },
     "execution_count": 3,
     "metadata": {},
     "output_type": "execute_result"
    }
   ],
   "source": [
    "mu_cdot_b = ((g * e ** 2) / (2 * M * c ** 2 * r)) * sp.sin(theta)  ** 2 * phi_dot * s_z\n",
    "mu_cdot_b = mu_cdot_b.simplify()\n",
    "mu_cdot_b"
   ]
  },
  {
   "cell_type": "code",
   "execution_count": 4,
   "metadata": {},
   "outputs": [
    {
     "data": {
      "text/latex": [
       "$\\displaystyle - \\frac{M c^{2}}{\\gamma} + \\frac{e^{2}}{r}$"
      ],
      "text/plain": [
       "-M*c**2/\\gamma + e**2/r"
      ]
     },
     "execution_count": 4,
     "metadata": {},
     "output_type": "execute_result"
    }
   ],
   "source": [
    "L_0 = -M * c ** 2 / gamma + e ** 2 /r\n",
    "L_0"
   ]
  },
  {
   "cell_type": "code",
   "execution_count": 5,
   "metadata": {},
   "outputs": [
    {
     "data": {
      "text/latex": [
       "$\\displaystyle - \\frac{M c^{2}}{\\gamma} + \\frac{e^{2}}{r} + \\frac{\\dot{\\phi} e^{2} g s_{z} \\sin^{2}{\\left(\\theta \\right)}}{2 M c^{2} r}$"
      ],
      "text/plain": [
       "-M*c**2/\\gamma + e**2/r + \\dot{\\phi}*e**2*g*s_z*sin(\\theta)**2/(2*M*c**2*r)"
      ]
     },
     "execution_count": 5,
     "metadata": {},
     "output_type": "execute_result"
    }
   ],
   "source": [
    "L = L_0 + mu_cdot_b\n",
    "L"
   ]
  },
  {
   "cell_type": "markdown",
   "metadata": {},
   "source": [
    "## Developing $\\ddot{r}$ equation\n",
    "the Euler-Lagrange equation is: $\\frac{\\partial}{\\partial t} (\\frac{\\partial L}{\\partial \\dot r})= \\frac{\\partial L}{\\partial r}$\n"
   ]
  },
  {
   "cell_type": "code",
   "execution_count": 6,
   "metadata": {},
   "outputs": [],
   "source": [
    "v_squared = r_dot ** 2 + r ** 2 * phi_dot ** 2\n",
    "f_gamma = (1 / sp.sqrt(1 - v ** 2 / c ** 2))"
   ]
  },
  {
   "cell_type": "markdown",
   "metadata": {},
   "source": [
    "Notice that by differentiation by chain rule $\\frac{\\partial L}{\\partial \\dot r} = \\frac{\\partial L}{\\partial \\gamma} \\frac{\\partial \\gamma}{\\partial v} \\frac{\\partial v}{\\partial \\dot{r}} = \\frac{\\partial L}{\\partial v} \\frac{\\partial v}{\\partial \\dot{r}} $"
   ]
  },
  {
   "cell_type": "code",
   "execution_count": 7,
   "metadata": {},
   "outputs": [
    {
     "data": {
      "text/latex": [
       "$\\displaystyle \\frac{M c^{2}}{\\gamma^{2}}$"
      ],
      "text/plain": [
       "M*c**2/\\gamma**2"
      ]
     },
     "execution_count": 7,
     "metadata": {},
     "output_type": "execute_result"
    }
   ],
   "source": [
    "dL_dgamma = L.diff(gamma)\n",
    "dL_dgamma = dL_dgamma\n",
    "dL_dgamma"
   ]
  },
  {
   "cell_type": "code",
   "execution_count": 8,
   "metadata": {},
   "outputs": [
    {
     "data": {
      "text/latex": [
       "$\\displaystyle \\frac{\\gamma^{3} v}{c^{2}}$"
      ],
      "text/plain": [
       "\\gamma**3*v/c**2"
      ]
     },
     "execution_count": 8,
     "metadata": {},
     "output_type": "execute_result"
    }
   ],
   "source": [
    "dgamma_dv = f_gamma.diff(v)\n",
    "dgamma_dv = dgamma_dv.subs(f_gamma, gamma)\n",
    "dgamma_dv"
   ]
  },
  {
   "cell_type": "code",
   "execution_count": 9,
   "metadata": {},
   "outputs": [
    {
     "data": {
      "text/latex": [
       "$\\displaystyle \\frac{\\dot{r}}{v}$"
      ],
      "text/plain": [
       "\\dot{r}/v"
      ]
     },
     "execution_count": 9,
     "metadata": {},
     "output_type": "execute_result"
    }
   ],
   "source": [
    "dv_drdot = sp.sqrt(v_squared).diff(r_dot)\n",
    "dv_drdot = dv_drdot.subs(sp.sqrt(v_squared), v)\n",
    "dv_drdot"
   ]
  },
  {
   "cell_type": "code",
   "execution_count": 10,
   "metadata": {},
   "outputs": [
    {
     "data": {
      "text/latex": [
       "$\\displaystyle M \\dot{r} \\gamma$"
      ],
      "text/plain": [
       "M*\\dot{r}*\\gamma"
      ]
     },
     "execution_count": 10,
     "metadata": {},
     "output_type": "execute_result"
    }
   ],
   "source": [
    "dL_drdot = dL_dgamma * dgamma_dv * dv_drdot\n",
    "dL_drdot = dL_drdot.simplify()\n",
    "dL_drdot"
   ]
  },
  {
   "cell_type": "code",
   "execution_count": 11,
   "metadata": {},
   "outputs": [
    {
     "data": {
      "text/latex": [
       "$\\displaystyle M \\gamma{\\left(t \\right)} \\frac{d}{d t} r{\\left(t \\right)}$"
      ],
      "text/plain": [
       "M*gamma(t)*Derivative(r(t), t)"
      ]
     },
     "execution_count": 11,
     "metadata": {},
     "output_type": "execute_result"
    }
   ],
   "source": [
    "dL_drdot_t = dL_drdot.subs({gamma: gamma_t, r_dot: dr_dt})\n",
    "dL_drdot_t = dL_drdot_t.simplify()\n",
    "dL_drdot_t"
   ]
  },
  {
   "cell_type": "markdown",
   "metadata": {},
   "source": [
    "And here is the left side of the Euler-Lagrange equation:"
   ]
  },
  {
   "cell_type": "code",
   "execution_count": 12,
   "metadata": {},
   "outputs": [
    {
     "data": {
      "text/latex": [
       "$\\displaystyle M \\gamma{\\left(t \\right)} \\frac{d^{2}}{d t^{2}} r{\\left(t \\right)} + M \\frac{d}{d t} \\gamma{\\left(t \\right)} \\frac{d}{d t} r{\\left(t \\right)}$"
      ],
      "text/plain": [
       "M*gamma(t)*Derivative(r(t), (t, 2)) + M*Derivative(gamma(t), t)*Derivative(r(t), t)"
      ]
     },
     "execution_count": 12,
     "metadata": {},
     "output_type": "execute_result"
    }
   ],
   "source": [
    "d_dt_dL_drdot = dL_drdot_t.diff(t)\n",
    "d_dt_dL_drdot"
   ]
  },
  {
   "cell_type": "markdown",
   "metadata": {},
   "source": [
    "Now lets start with the right side of the Euler-Lagrange equation $\\frac{\\partial L}{\\partial r}$,\n",
    "Notice that by differentiation by chain rule:\n",
    "\n",
    "$\\frac{\\partial L}{\\partial r} = \\frac{\\partial L}{\\partial v} \\frac{\\partial v}{\\partial r} - e ^ 2  / r ^ 2 - {\\frac{ge^2}{2Mc^2r^2}}sin(\\theta)^2\\dot\\phi s_z$\n",
    "\n",
    "Notice that $\\frac{\\partial L}{\\partial v} = \\frac{\\partial L}{\\partial \\gamma} \\frac{\\partial \\gamma}{\\partial v}$"
   ]
  },
  {
   "cell_type": "code",
   "execution_count": 13,
   "metadata": {},
   "outputs": [
    {
     "data": {
      "text/latex": [
       "$\\displaystyle M \\gamma v$"
      ],
      "text/plain": [
       "M*\\gamma*v"
      ]
     },
     "execution_count": 13,
     "metadata": {},
     "output_type": "execute_result"
    }
   ],
   "source": [
    "dL_dv = dL_dgamma * dgamma_dv\n",
    "dL_dv = dL_dv.simplify()\n",
    "dL_dv"
   ]
  },
  {
   "cell_type": "code",
   "execution_count": 14,
   "metadata": {},
   "outputs": [
    {
     "data": {
      "text/latex": [
       "$\\displaystyle \\frac{\\dot{\\phi}^{2} r}{v}$"
      ],
      "text/plain": [
       "\\dot{\\phi}**2*r/v"
      ]
     },
     "execution_count": 14,
     "metadata": {},
     "output_type": "execute_result"
    }
   ],
   "source": [
    "dv_dr = sp.sqrt(v_squared).diff(r)\n",
    "dv_dr = dv_dr.subs(sp.sqrt(v_squared), v)\n",
    "dv_dr"
   ]
  },
  {
   "cell_type": "code",
   "execution_count": 15,
   "metadata": {},
   "outputs": [
    {
     "data": {
      "text/latex": [
       "$\\displaystyle M \\dot{\\phi}^{2} \\gamma r - \\frac{e^{2}}{r^{2}} - \\frac{\\dot{\\phi} e^{2} g s_{z} \\sin^{2}{\\left(\\theta \\right)}}{2 M c^{2} r^{2}}$"
      ],
      "text/plain": [
       "M*\\dot{\\phi}**2*\\gamma*r - e**2/r**2 - \\dot{\\phi}*e**2*g*s_z*sin(\\theta)**2/(2*M*c**2*r**2)"
      ]
     },
     "execution_count": 15,
     "metadata": {},
     "output_type": "execute_result"
    }
   ],
   "source": [
    "dL_dr = dL_dv * dv_dr - e ** 2 / r ** 2 + mu_cdot_b.diff(r)\n",
    "dL_dr = dL_dr.simplify()\n",
    "dL_dr"
   ]
  },
  {
   "cell_type": "code",
   "execution_count": 16,
   "metadata": {},
   "outputs": [
    {
     "data": {
      "text/latex": [
       "$\\displaystyle - r{\\left(t \\right)} \\left(\\frac{d}{d t} \\phi{\\left(t \\right)}\\right)^{2} + \\frac{d^{2}}{d t^{2}} r{\\left(t \\right)} + \\frac{\\frac{d}{d t} \\gamma{\\left(t \\right)} \\frac{d}{d t} r{\\left(t \\right)}}{\\gamma{\\left(t \\right)}} + \\frac{e^{2}}{M \\gamma{\\left(t \\right)} r^{2}{\\left(t \\right)}} + \\frac{e^{2} g s_{z} \\sin^{2}{\\left(\\theta \\right)} \\frac{d}{d t} \\phi{\\left(t \\right)}}{2 M^{2} c^{2} \\gamma{\\left(t \\right)} r^{2}{\\left(t \\right)}}$"
      ],
      "text/plain": [
       "-r(t)*Derivative(phi(t), t)**2 + Derivative(r(t), (t, 2)) + Derivative(gamma(t), t)*Derivative(r(t), t)/gamma(t) + e**2/(M*gamma(t)*r(t)**2) + e**2*g*s_z*sin(\\theta)**2*Derivative(phi(t), t)/(2*M**2*c**2*gamma(t)*r(t)**2)"
      ]
     },
     "execution_count": 16,
     "metadata": {},
     "output_type": "execute_result"
    }
   ],
   "source": [
    "r_ddot_eq = d_dt_dL_drdot - dL_dr.subs({r: r_t, gamma: gamma_t, phi_dot: phi_t.diff(t)})\n",
    "r_ddot_eq = (r_ddot_eq / M / gamma_t).simplify()\n",
    "r_ddot_eq.simplify()"
   ]
  },
  {
   "cell_type": "markdown",
   "metadata": {},
   "source": [
    "### Developing $\\dot{\\phi}$ equation\n",
    "Lets find what $\\dot{\\phi}$ equals to, using the Euler-Lagrange equation for $\\phi$:\n",
    "\n",
    "Notice that:\n",
    "$\\frac{\\partial L}{\\partial \\dot{\\phi}} = \\frac{\\partial L}{\\partial v} \\frac{\\partial v}{\\partial \\dot{\\phi}}$"
   ]
  },
  {
   "cell_type": "code",
   "execution_count": 17,
   "metadata": {},
   "outputs": [
    {
     "data": {
      "text/latex": [
       "$\\displaystyle \\frac{\\dot{\\phi} r^{2}}{v}$"
      ],
      "text/plain": [
       "\\dot{\\phi}*r**2/v"
      ]
     },
     "execution_count": 17,
     "metadata": {},
     "output_type": "execute_result"
    }
   ],
   "source": [
    "dv_dphidot = sp.sqrt(v_squared).diff(phi_dot)\n",
    "dv_dphidot = dv_dphidot.subs(sp.sqrt(v_squared), v)\n",
    "dv_dphidot"
   ]
  },
  {
   "cell_type": "code",
   "execution_count": 18,
   "metadata": {},
   "outputs": [
    {
     "data": {
      "text/latex": [
       "$\\displaystyle M \\dot{\\phi} \\gamma r^{2}$"
      ],
      "text/plain": [
       "M*\\dot{\\phi}*\\gamma*r**2"
      ]
     },
     "execution_count": 18,
     "metadata": {},
     "output_type": "execute_result"
    }
   ],
   "source": [
    "dL_dphidot = dL_dv * dv_dphidot\n",
    "dL_dphidot"
   ]
  },
  {
   "cell_type": "markdown",
   "metadata": {},
   "source": [
    "From the Euler-Lagrange equation: $\\frac{\\partial}{\\partial t} (\\frac{\\partial L}{\\partial \\dot{\\phi}}) = 0 \\to \\gamma M r^2 \\dot{\\phi} = k \\hbar \\to \\dot{\\phi} = \\frac{k \\hbar}{\\gamma M r^2}$"
   ]
  },
  {
   "cell_type": "code",
   "execution_count": 19,
   "metadata": {},
   "outputs": [],
   "source": [
    "v_t = sp.Function('v')(t)"
   ]
  },
  {
   "cell_type": "code",
   "execution_count": 20,
   "metadata": {},
   "outputs": [
    {
     "data": {
      "text/latex": [
       "$\\displaystyle \\frac{\\gamma^{3}{\\left(t \\right)} v{\\left(t \\right)} \\frac{d}{d t} v{\\left(t \\right)}}{c^{2}}$"
      ],
      "text/plain": [
       "gamma(t)**3*v(t)*Derivative(v(t), t)/c**2"
      ]
     },
     "execution_count": 20,
     "metadata": {},
     "output_type": "execute_result"
    }
   ],
   "source": [
    "f_gamma_t = f_gamma.subs(v, v_t)\n",
    "dgamma_dt = f_gamma_t.diff(t)\n",
    "dgamma_dt = dgamma_dt.subs(f_gamma_t, gamma_t) \n",
    "dgamma_dt"
   ]
  },
  {
   "cell_type": "code",
   "execution_count": 21,
   "metadata": {},
   "outputs": [
    {
     "data": {
      "text/latex": [
       "$\\displaystyle \\frac{\\hbar^{2} k^{2} \\left(- \\dot{r}^{2} + c^{2}\\right)}{r^{2} \\left(M^{2} c^{2} r^{2} + \\hbar^{2} k^{2}\\right)}$"
      ],
      "text/plain": [
       "hbar**2*k**2*(-\\dot{r}**2 + c**2)/(r**2*(M**2*c**2*r**2 + hbar**2*k**2))"
      ]
     },
     "execution_count": 21,
     "metadata": {},
     "output_type": "execute_result"
    }
   ],
   "source": [
    "gamma_eq = f_gamma.subs({v: sp.sqrt(v_squared)})\n",
    "phi_dot_eq = k * hbar / gamma / M / r ** 2\n",
    "phi_dot_eq_subs = phi_dot_eq.subs({gamma: gamma_eq})\n",
    "phi_dot_squated_eq = phi_dot_eq_subs ** 2\n",
    "phi_dot_s = sp.solve(phi_dot_squated_eq - phi_dot ** 2, phi_dot)[1]\n",
    "phi_dot_s_squared = phi_dot_s ** 2\n",
    "phi_dot_s_squared"
   ]
  },
  {
   "cell_type": "code",
   "execution_count": 22,
   "metadata": {},
   "outputs": [
    {
     "data": {
      "text/latex": [
       "$\\displaystyle \\frac{\\hbar k \\sqrt{c^{2} - \\left(\\frac{d}{d t} r{\\left(t \\right)}\\right)^{2}}}{\\sqrt{M^{2} c^{2} r^{2}{\\left(t \\right)} + \\hbar^{2} k^{2}} r{\\left(t \\right)}}$"
      ],
      "text/plain": [
       "hbar*k*sqrt(c**2 - Derivative(r(t), t)**2)/(sqrt(M**2*c**2*r(t)**2 + hbar**2*k**2)*r(t))"
      ]
     },
     "execution_count": 22,
     "metadata": {},
     "output_type": "execute_result"
    }
   ],
   "source": [
    "phi_dot_s_t = phi_dot_s.subs({r_dot: dr_dt, r: r_t, gamma: gamma_t})\n",
    "phi_dot_s_t"
   ]
  },
  {
   "cell_type": "code",
   "execution_count": 23,
   "metadata": {},
   "outputs": [
    {
     "data": {
      "text/latex": [
       "$\\displaystyle \\frac{- \\frac{M^{2} c^{2} \\hbar^{2} k^{2} \\left(c^{2} - \\left(\\frac{d}{d t} r{\\left(t \\right)}\\right)^{2}\\right) r{\\left(t \\right)} \\frac{d}{d t} r{\\left(t \\right)}}{\\left(M^{2} c^{2} r^{2}{\\left(t \\right)} + \\hbar^{2} k^{2}\\right)^{2}} - \\frac{\\hbar^{2} k^{2} \\frac{d}{d t} r{\\left(t \\right)} \\frac{d^{2}}{d t^{2}} r{\\left(t \\right)}}{M^{2} c^{2} r^{2}{\\left(t \\right)} + \\hbar^{2} k^{2}} + \\frac{d}{d t} r{\\left(t \\right)} \\frac{d^{2}}{d t^{2}} r{\\left(t \\right)}}{v{\\left(t \\right)}}$"
      ],
      "text/plain": [
       "(-M**2*c**2*hbar**2*k**2*(c**2 - Derivative(r(t), t)**2)*r(t)*Derivative(r(t), t)/(M**2*c**2*r(t)**2 + hbar**2*k**2)**2 - hbar**2*k**2*Derivative(r(t), t)*Derivative(r(t), (t, 2))/(M**2*c**2*r(t)**2 + hbar**2*k**2) + Derivative(r(t), t)*Derivative(r(t), (t, 2)))/v(t)"
      ]
     },
     "execution_count": 23,
     "metadata": {},
     "output_type": "execute_result"
    }
   ],
   "source": [
    "f_v_t = sp.sqrt(v_squared).subs({r_dot: dr_dt, r: r_t, phi_dot: phi_dot_s_t})\n",
    "dv_dt = f_v_t.diff(t).subs(f_v_t, v_t)\n",
    "dv_dt"
   ]
  },
  {
   "cell_type": "code",
   "execution_count": 24,
   "metadata": {},
   "outputs": [
    {
     "data": {
      "text/latex": [
       "$\\displaystyle \\frac{\\left(- \\frac{M^{2} c^{2} \\hbar^{2} k^{2} \\left(c^{2} - \\left(\\frac{d}{d t} r{\\left(t \\right)}\\right)^{2}\\right) r{\\left(t \\right)} \\frac{d}{d t} r{\\left(t \\right)}}{\\left(M^{2} c^{2} r^{2}{\\left(t \\right)} + \\hbar^{2} k^{2}\\right)^{2}} - \\frac{\\hbar^{2} k^{2} \\frac{d}{d t} r{\\left(t \\right)} \\frac{d^{2}}{d t^{2}} r{\\left(t \\right)}}{M^{2} c^{2} r^{2}{\\left(t \\right)} + \\hbar^{2} k^{2}} + \\frac{d}{d t} r{\\left(t \\right)} \\frac{d^{2}}{d t^{2}} r{\\left(t \\right)}\\right) \\gamma^{3}{\\left(t \\right)}}{c^{2}}$"
      ],
      "text/plain": [
       "(-M**2*c**2*hbar**2*k**2*(c**2 - Derivative(r(t), t)**2)*r(t)*Derivative(r(t), t)/(M**2*c**2*r(t)**2 + hbar**2*k**2)**2 - hbar**2*k**2*Derivative(r(t), t)*Derivative(r(t), (t, 2))/(M**2*c**2*r(t)**2 + hbar**2*k**2) + Derivative(r(t), t)*Derivative(r(t), (t, 2)))*gamma(t)**3/c**2"
      ]
     },
     "execution_count": 24,
     "metadata": {},
     "output_type": "execute_result"
    }
   ],
   "source": [
    "dgamma_dt_subs = dgamma_dt.subs(v_t.diff(t), dv_dt)\n",
    "dgamma_dt_subs"
   ]
  },
  {
   "cell_type": "code",
   "execution_count": 25,
   "metadata": {},
   "outputs": [
    {
     "data": {
      "text/latex": [
       "$\\displaystyle \\frac{1}{\\gamma^{2} r{\\left(t \\right)}} = \\frac{M^{2} \\left(c^{2} - \\left(\\frac{d}{d t} r{\\left(t \\right)}\\right)^{2}\\right) r{\\left(t \\right)}}{M^{2} c^{2} r^{2}{\\left(t \\right)} + \\hbar^{2} k^{2}}$"
      ],
      "text/plain": [
       "Eq(1/(\\gamma**2*r(t)), M**2*(c**2 - Derivative(r(t), t)**2)*r(t)/(M**2*c**2*r(t)**2 + hbar**2*k**2))"
      ]
     },
     "execution_count": 25,
     "metadata": {},
     "output_type": "execute_result"
    }
   ],
   "source": [
    "f_gamma_v = f_gamma.subs(v**2, v_squared).simplify().subs(phi_dot, phi_dot_s).simplify().subs({r_dot: dr_dt, r: r_t, gamma: gamma_t})\n",
    "gamma_eq_0 = sp.Eq(gamma, f_gamma_v)\n",
    "gamma_eq_0 = sp.Eq(gamma_eq_0.lhs ** 2, gamma_eq_0.rhs ** 2)\n",
    "gamma_eq_0 = sp.Eq(1 / gamma_eq_0.lhs, 1 / gamma_eq_0.rhs)\n",
    "gamma_eq_0 = sp.Eq(gamma_eq_0.lhs / r_t, gamma_eq_0.rhs / r_t)\n",
    "gamma_eq_0 = gamma_eq_0.simplify()\n",
    "gamma_eq_0"
   ]
  },
  {
   "cell_type": "code",
   "execution_count": 26,
   "metadata": {},
   "outputs": [
    {
     "data": {
      "text/latex": [
       "$\\displaystyle \\frac{\\left(M^{2} \\gamma^{2} r^{3}{\\left(t \\right)} \\frac{d^{2}}{d t^{2}} r{\\left(t \\right)} - \\hbar^{2} k^{2}\\right) \\gamma^{3}{\\left(t \\right)} \\frac{d}{d t} r{\\left(t \\right)}}{\\gamma^{2} \\left(M^{2} c^{2} r^{2}{\\left(t \\right)} + \\hbar^{2} k^{2}\\right) r{\\left(t \\right)}}$"
      ],
      "text/plain": [
       "(M**2*\\gamma**2*r(t)**3*Derivative(r(t), (t, 2)) - hbar**2*k**2)*gamma(t)**3*Derivative(r(t), t)/(\\gamma**2*(M**2*c**2*r(t)**2 + hbar**2*k**2)*r(t))"
      ]
     },
     "execution_count": 26,
     "metadata": {},
     "output_type": "execute_result"
    }
   ],
   "source": [
    "dgamma_dt_subs = dgamma_dt_subs.subs(gamma_eq_0.rhs, gamma_eq_0.lhs).simplify()\n",
    "dgamma_dt_subs"
   ]
  },
  {
   "cell_type": "code",
   "execution_count": 27,
   "metadata": {},
   "outputs": [
    {
     "data": {
      "text/latex": [
       "$\\displaystyle \\frac{\\sqrt{1 + \\frac{\\hbar^{2} k^{2}}{M^{2} c^{2} r^{2}}}}{\\sqrt{- \\frac{\\dot{r}^{2}}{c^{2}} + 1}}$"
      ],
      "text/plain": [
       "sqrt(1 + hbar**2*k**2/(M**2*c**2*r**2))/sqrt(-\\dot{r}**2/c**2 + 1)"
      ]
     },
     "execution_count": 27,
     "metadata": {},
     "output_type": "execute_result"
    }
   ],
   "source": [
    "f_gamma_simplified = f_gamma.subs(v, sp.sqrt(v_squared))\n",
    "f_gamma_simplified = f_gamma_simplified.subs(phi_dot, phi_dot_s).simplify() \n",
    "\n",
    "replacement_a1 = sp.sqrt(M**2 * c**2 * r**2 + hbar**2 * k**2)\n",
    "replacement_a2 = M * c * r * sp.sqrt(1 + (hbar * k / M / c / r) ** 2)\n",
    "\n",
    "f_gamma_simplified = f_gamma_simplified.replace(replacement_a1, replacement_a2)\n",
    "\n",
    "replacement_b1 = 1 / sp.sqrt(-r_dot**2 + c**2)\n",
    "replacement_b2 = 1 / (c * sp.sqrt(1 - r_dot**2 / c**2))\n",
    "\n",
    "f_gamma_simplified = f_gamma_simplified.replace(replacement_b1, replacement_b2)\n",
    "\n",
    "f_gamma_simplified"
   ]
  },
  {
   "cell_type": "markdown",
   "metadata": {},
   "source": [
    "Ensure my simplification is correct:"
   ]
  },
  {
   "cell_type": "code",
   "execution_count": 28,
   "metadata": {},
   "outputs": [
    {
     "data": {
      "text/latex": [
       "$\\displaystyle 0$"
      ],
      "text/plain": [
       "0"
      ]
     },
     "execution_count": 28,
     "metadata": {},
     "output_type": "execute_result"
    }
   ],
   "source": [
    "f_gamma_simplified.simplify() - f_gamma.subs(v, sp.sqrt(v_squared)).simplify().subs(phi_dot, phi_dot_s).simplify()"
   ]
  },
  {
   "cell_type": "code",
   "execution_count": 29,
   "metadata": {},
   "outputs": [
    {
     "data": {
      "text/latex": [
       "$\\displaystyle \\frac{1}{\\gamma^{2} \\left(- \\frac{\\dot{r}^{2}}{c^{2}} + 1\\right)} = \\frac{1}{1 + \\frac{\\hbar^{2} k^{2}}{M^{2} c^{2} r^{2}}}$"
      ],
      "text/plain": [
       "Eq(1/(\\gamma**2*(-\\dot{r}**2/c**2 + 1)), 1/(1 + hbar**2*k**2/(M**2*c**2*r**2)))"
      ]
     },
     "execution_count": 29,
     "metadata": {},
     "output_type": "execute_result"
    }
   ],
   "source": [
    "gamma_eq_ = sp.Eq(gamma, f_gamma_simplified)\n",
    "gamma_eq_ = sp.Eq(gamma_eq_.lhs**2, gamma_eq_.rhs**2)\n",
    "gamma_eq_ = sp.Eq(1 / gamma_eq_.lhs, 1 / gamma_eq_.rhs)\n",
    "denominator = -(r_dot / c) ** 2 + 1\n",
    "gamma_eq_ = sp.Eq(gamma_eq_.lhs / denominator, gamma_eq_.rhs / denominator)\n",
    "gamma_eq_"
   ]
  },
  {
   "cell_type": "code",
   "execution_count": 30,
   "metadata": {},
   "outputs": [
    {
     "data": {
      "text/latex": [
       "$\\displaystyle \\frac{\\dot{r} \\gamma \\left(\\frac{\\ddot{r} \\gamma^{2}}{c^{2}} - \\frac{\\hbar^{2} k^{2}}{M^{2} c^{2} r^{3}}\\right)}{1 + \\frac{\\hbar^{2} k^{2}}{M^{2} c^{2} r^{2}}}$"
      ],
      "text/plain": [
       "\\dot{r}*\\gamma*(\\ddot{r}*\\gamma**2/c**2 - hbar**2*k**2/(M**2*c**2*r**3))/(1 + hbar**2*k**2/(M**2*c**2*r**2))"
      ]
     },
     "execution_count": 30,
     "metadata": {},
     "output_type": "execute_result"
    }
   ],
   "source": [
    "dgamma_dt_simplified = dgamma_dt_subs.subs({\n",
    "    dr_dt.diff(t): r_ddot, \n",
    "    dr_dt: r_dot, \n",
    "    r_t: r, \n",
    "    gamma_t: gamma\n",
    "})\n",
    "\n",
    "replacement_a1 = M ** 2 * r_ddot * gamma ** 2 * r ** 3 - hbar ** 2 * k ** 2\n",
    "replacement_a2 = M ** 2 * r ** 3 * c ** 2 * (r_ddot * gamma ** 2 / c ** 2 - hbar ** 2 * k ** 2 / M ** 2 / r ** 3 / c ** 2)\n",
    "\n",
    "dgamma_dt_simplified = dgamma_dt_simplified.replace(replacement_a1, replacement_a2)\n",
    "\n",
    "replacement_b3 = 1 / (M ** 2 * c ** 2 * r ** 2 + k ** 2 * hbar ** 2)\n",
    "replacement_b4 = 1 / ((M ** 2 * c ** 2 * r ** 2) * (1 + k ** 2 * hbar ** 2 / M ** 2 / c ** 2 / r ** 2))\n",
    "\n",
    "dgamma_dt_simplified = dgamma_dt_simplified.replace(replacement_b3, replacement_b4)\n",
    "dgamma_dt_simplified"
   ]
  },
  {
   "cell_type": "markdown",
   "metadata": {},
   "source": [
    "Ensure my simplification is correct:"
   ]
  },
  {
   "cell_type": "code",
   "execution_count": 31,
   "metadata": {},
   "outputs": [
    {
     "data": {
      "text/latex": [
       "$\\displaystyle 0$"
      ],
      "text/plain": [
       "0"
      ]
     },
     "execution_count": 31,
     "metadata": {},
     "output_type": "execute_result"
    }
   ],
   "source": [
    "dgamma_dt_simplified.simplify() - dgamma_dt_subs.subs({\n",
    "    dr_dt.diff(t): r_ddot, \n",
    "    dr_dt: r_dot, \n",
    "    r_t: r, \n",
    "    gamma_t: gamma\n",
    "}).simplify()"
   ]
  },
  {
   "cell_type": "code",
   "execution_count": 32,
   "metadata": {},
   "outputs": [
    {
     "data": {
      "text/latex": [
       "$\\displaystyle \\frac{\\dot{r} \\left(\\frac{\\ddot{r} \\gamma^{2}}{c^{2}} - \\frac{\\hbar^{2} k^{2}}{M^{2} c^{2} r^{3}}\\right)}{\\gamma \\left(- \\frac{\\dot{r}^{2}}{c^{2}} + 1\\right)}$"
      ],
      "text/plain": [
       "\\dot{r}*(\\ddot{r}*\\gamma**2/c**2 - hbar**2*k**2/(M**2*c**2*r**3))/(\\gamma*(-\\dot{r}**2/c**2 + 1))"
      ]
     },
     "execution_count": 32,
     "metadata": {},
     "output_type": "execute_result"
    }
   ],
   "source": [
    "dgamma_dt_simplified = dgamma_dt_simplified.replace(gamma_eq_.rhs, gamma_eq_.lhs)\n",
    "dgamma_dt_simplified"
   ]
  },
  {
   "cell_type": "code",
   "execution_count": 33,
   "metadata": {},
   "outputs": [
    {
     "data": {
      "text/latex": [
       "$\\displaystyle \\frac{M^{3} \\ddot{r} \\gamma^{2} c^{4} r^{4} - M^{2} \\dot{r}^{2} \\gamma c^{2} e^{2} r^{2} + M^{2} \\gamma c^{4} e^{2} r^{2} - M c^{4} \\hbar^{2} k^{2} r - \\frac{\\dot{r}^{2} e^{2} g \\hbar k s_{z} \\sin^{2}{\\left(\\theta \\right)}}{2} + \\frac{c^{2} e^{2} g \\hbar k s_{z} \\sin^{2}{\\left(\\theta \\right)}}{2}}{M^{3} \\gamma^{2} c^{2} r^{4} \\left(- \\dot{r}^{2} + c^{2}\\right)}$"
      ],
      "text/plain": [
       "(M**3*\\ddot{r}*\\gamma**2*c**4*r**4 - M**2*\\dot{r}**2*\\gamma*c**2*e**2*r**2 + M**2*\\gamma*c**4*e**2*r**2 - M*c**4*hbar**2*k**2*r - \\dot{r}**2*e**2*g*hbar*k*s_z*sin(\\theta)**2/2 + c**2*e**2*g*hbar*k*s_z*sin(\\theta)**2/2)/(M**3*\\gamma**2*c**2*r**4*(-\\dot{r}**2 + c**2))"
      ]
     },
     "execution_count": 33,
     "metadata": {},
     "output_type": "execute_result"
    }
   ],
   "source": [
    "r_ddot_eq = r_ddot_eq.subs({dr_dt.diff(t): r_ddot, dr_dt: r_dot, r_t: r, gamma_t.diff(t): gamma_dot, gamma_t: gamma, phi_t.diff(t): phi_dot})\n",
    "r_ddot_eq = r_ddot_eq.subs({gamma_dot: dgamma_dt_simplified.simplify(), phi_dot: phi_dot_eq}).simplify()\n",
    "r_ddot_eq"
   ]
  },
  {
   "cell_type": "code",
   "execution_count": 34,
   "metadata": {},
   "outputs": [
    {
     "data": {
      "text/latex": [
       "$\\displaystyle \\frac{M^{2} \\dot{r}^{2} \\gamma c^{2} e^{2} r^{2} - M^{2} \\gamma c^{4} e^{2} r^{2} + M c^{4} \\hbar^{2} k^{2} r + \\frac{\\dot{r}^{2} e^{2} g \\hbar k s_{z} \\sin^{2}{\\left(\\theta \\right)}}{2} - \\frac{c^{2} e^{2} g \\hbar k s_{z} \\sin^{2}{\\left(\\theta \\right)}}{2}}{M^{3} \\gamma^{2} c^{4} r^{4}}$"
      ],
      "text/plain": [
       "(M**2*\\dot{r}**2*\\gamma*c**2*e**2*r**2 - M**2*\\gamma*c**4*e**2*r**2 + M*c**4*hbar**2*k**2*r + \\dot{r}**2*e**2*g*hbar*k*s_z*sin(\\theta)**2/2 - c**2*e**2*g*hbar*k*s_z*sin(\\theta)**2/2)/(M**3*\\gamma**2*c**4*r**4)"
      ]
     },
     "execution_count": 34,
     "metadata": {},
     "output_type": "execute_result"
    }
   ],
   "source": [
    "r_ddot_s = sp.solve(r_ddot_eq, r_ddot)[0]\n",
    "r_ddot_s"
   ]
  },
  {
   "cell_type": "markdown",
   "metadata": {},
   "source": [
    "## Developing $\\ddot{\\theta}$ equation"
   ]
  },
  {
   "cell_type": "code",
   "execution_count": 35,
   "metadata": {},
   "outputs": [
    {
     "data": {
      "text/latex": [
       "$\\displaystyle \\sqrt{\\dot{\\phi}^{2} r^{2} \\sin^{2}{\\left(\\theta \\right)} + \\dot{\\theta}^{2} r^{2} + \\dot{r}^{2}}$"
      ],
      "text/plain": [
       "sqrt(\\dot{\\phi}**2*r**2*sin(\\theta)**2 + \\dot{\\theta}**2*r**2 + \\dot{r}**2)"
      ]
     },
     "execution_count": 35,
     "metadata": {},
     "output_type": "execute_result"
    }
   ],
   "source": [
    "theta_v = sp.sqrt(r_dot ** 2 + r ** 2 * theta_dot ** 2 + r ** 2 * sp.sin(theta) ** 2 * phi_dot ** 2)\n",
    "theta_v"
   ]
  },
  {
   "cell_type": "markdown",
   "metadata": {},
   "source": [
    "$\\frac{\\partial L}{\\partial \\dot{\\theta}} = \\frac{\\partial L}{\\partial v} \\frac{\\partial v}{\\partial \\dot{\\theta}} $"
   ]
  },
  {
   "cell_type": "code",
   "execution_count": 36,
   "metadata": {},
   "outputs": [
    {
     "data": {
      "text/latex": [
       "$\\displaystyle \\frac{\\dot{\\theta} r^{2}}{v}$"
      ],
      "text/plain": [
       "\\dot{\\theta}*r**2/v"
      ]
     },
     "execution_count": 36,
     "metadata": {},
     "output_type": "execute_result"
    }
   ],
   "source": [
    "dv_dthetadot = theta_v.diff(theta_dot)\n",
    "dv_dthetadot = dv_dthetadot.subs(theta_v, v)\n",
    "dv_dthetadot"
   ]
  },
  {
   "cell_type": "code",
   "execution_count": 37,
   "metadata": {},
   "outputs": [
    {
     "data": {
      "text/latex": [
       "$\\displaystyle \\frac{\\dot{\\phi}^{2} r^{2} \\sin{\\left(\\theta \\right)} \\cos{\\left(\\theta \\right)}}{v}$"
      ],
      "text/plain": [
       "\\dot{\\phi}**2*r**2*sin(\\theta)*cos(\\theta)/v"
      ]
     },
     "execution_count": 37,
     "metadata": {},
     "output_type": "execute_result"
    }
   ],
   "source": [
    "dv_dtheta = theta_v.diff(theta)\n",
    "dv_dtheta = dv_dtheta.subs(theta_v, v)\n",
    "dv_dtheta"
   ]
  },
  {
   "cell_type": "code",
   "execution_count": 38,
   "metadata": {},
   "outputs": [
    {
     "data": {
      "text/latex": [
       "$\\displaystyle M \\dot{\\theta} \\gamma r^{2}$"
      ],
      "text/plain": [
       "M*\\dot{\\theta}*\\gamma*r**2"
      ]
     },
     "execution_count": 38,
     "metadata": {},
     "output_type": "execute_result"
    }
   ],
   "source": [
    "dL_dthetadot = dL_dv * dv_dthetadot\n",
    "dL_dthetadot"
   ]
  },
  {
   "cell_type": "code",
   "execution_count": 39,
   "metadata": {},
   "outputs": [
    {
     "data": {
      "text/latex": [
       "$\\displaystyle M \\dot{\\phi}^{2} \\gamma r^{2} \\sin{\\left(\\theta \\right)} \\cos{\\left(\\theta \\right)}$"
      ],
      "text/plain": [
       "M*\\dot{\\phi}**2*\\gamma*r**2*sin(\\theta)*cos(\\theta)"
      ]
     },
     "execution_count": 39,
     "metadata": {},
     "output_type": "execute_result"
    }
   ],
   "source": [
    "dL_dtheta = dL_dv * dv_dtheta\n",
    "dL_dtheta"
   ]
  },
  {
   "cell_type": "code",
   "execution_count": 40,
   "metadata": {},
   "outputs": [
    {
     "data": {
      "text/latex": [
       "$\\displaystyle M \\gamma{\\left(t \\right)} r^{2}{\\left(t \\right)} \\frac{d^{2}}{d t^{2}} \\theta{\\left(t \\right)} + 2 M \\gamma{\\left(t \\right)} r{\\left(t \\right)} \\frac{d}{d t} r{\\left(t \\right)} \\frac{d}{d t} \\theta{\\left(t \\right)} + M r^{2}{\\left(t \\right)} \\frac{d}{d t} \\gamma{\\left(t \\right)} \\frac{d}{d t} \\theta{\\left(t \\right)}$"
      ],
      "text/plain": [
       "M*gamma(t)*r(t)**2*Derivative(theta(t), (t, 2)) + 2*M*gamma(t)*r(t)*Derivative(r(t), t)*Derivative(theta(t), t) + M*r(t)**2*Derivative(gamma(t), t)*Derivative(theta(t), t)"
      ]
     },
     "execution_count": 40,
     "metadata": {},
     "output_type": "execute_result"
    }
   ],
   "source": [
    "dL_dthetadot_t = dL_dthetadot.subs({gamma: gamma_t, r_dot: dr_dt, r: r_t, theta_dot: dtheta_dt})\n",
    "dL_dthetadot_t = dL_dthetadot_t.simplify()\n",
    "d_dt_dL_dthetadot = dL_dthetadot_t.diff(t)\n",
    "d_dt_dL_dthetadot"
   ]
  },
  {
   "cell_type": "code",
   "execution_count": 41,
   "metadata": {},
   "outputs": [
    {
     "data": {
      "text/latex": [
       "$\\displaystyle \\frac{M \\gamma{\\left(t \\right)} r^{2}{\\left(t \\right)} \\sin{\\left(2 \\theta{\\left(t \\right)} \\right)} \\left(\\frac{d}{d t} \\phi{\\left(t \\right)}\\right)^{2}}{2}$"
      ],
      "text/plain": [
       "M*gamma(t)*r(t)**2*sin(2*theta(t))*Derivative(phi(t), t)**2/2"
      ]
     },
     "execution_count": 41,
     "metadata": {},
     "output_type": "execute_result"
    }
   ],
   "source": [
    "dL_dtheta_t = dL_dtheta.subs({gamma: gamma_t, r_dot: dr_dt, r: r_t, theta_dot: dtheta_dt, theta: theta_t, phi_dot: dphi_dt})\n",
    "dL_dtheta_t = dL_dtheta_t.simplify()\n",
    "dL_dtheta_t"
   ]
  },
  {
   "cell_type": "code",
   "execution_count": 42,
   "metadata": {},
   "outputs": [
    {
     "data": {
      "text/latex": [
       "$\\displaystyle \\frac{\\sin{\\left(2 \\theta{\\left(t \\right)} \\right)} \\left(\\frac{d}{d t} \\phi{\\left(t \\right)}\\right)^{2}}{2} - \\frac{2 \\frac{d}{d t} r{\\left(t \\right)} \\frac{d}{d t} \\theta{\\left(t \\right)}}{r{\\left(t \\right)}} - \\frac{\\frac{d}{d t} \\gamma{\\left(t \\right)} \\frac{d}{d t} \\theta{\\left(t \\right)}}{\\gamma{\\left(t \\right)}}$"
      ],
      "text/plain": [
       "sin(2*theta(t))*Derivative(phi(t), t)**2/2 - 2*Derivative(r(t), t)*Derivative(theta(t), t)/r(t) - Derivative(gamma(t), t)*Derivative(theta(t), t)/gamma(t)"
      ]
     },
     "execution_count": 42,
     "metadata": {},
     "output_type": "execute_result"
    }
   ],
   "source": [
    "theta_ddot_eq_t = sp.solve(d_dt_dL_dthetadot - dL_dtheta_t, dtheta_dt.diff(t))[0]\n",
    "theta_ddot_eq_t = theta_ddot_eq_t.simplify()\n",
    "theta_ddot_eq_t"
   ]
  },
  {
   "cell_type": "code",
   "execution_count": 43,
   "metadata": {},
   "outputs": [
    {
     "data": {
      "text/latex": [
       "$\\displaystyle - \\frac{\\dot{\\gamma} \\dot{\\theta}}{\\gamma} + \\frac{\\dot{\\phi}^{2} \\sin{\\left(2 \\theta \\right)}}{2} - \\frac{2 \\dot{\\theta} \\dot{r}}{r}$"
      ],
      "text/plain": [
       "-\\dot{\\gamma}*\\dot{\\theta}/\\gamma + \\dot{\\phi}**2*sin(2*\\theta)/2 - 2*\\dot{\\theta}*\\dot{r}/r"
      ]
     },
     "execution_count": 43,
     "metadata": {},
     "output_type": "execute_result"
    }
   ],
   "source": [
    "theta_ddot_eq = theta_ddot_eq_t.subs({dr_dt: r_dot, r_t: r, dtheta_dt: theta_dot, theta_t: theta, phi_t.diff(t): phi_dot, gamma_t.diff(t): gamma_dot, gamma_t: gamma})\n",
    "theta_ddot_eq = theta_ddot_eq.simplify()\n",
    "theta_ddot_eq"
   ]
  },
  {
   "cell_type": "code",
   "execution_count": 44,
   "metadata": {},
   "outputs": [
    {
     "data": {
      "text/latex": [
       "$\\displaystyle \\frac{\\dot{\\phi}^{2} \\sin{\\left(2 \\theta \\right)}}{2} - \\frac{2 \\dot{\\theta} \\dot{r}}{r} + \\frac{\\dot{\\theta} \\dot{r} e^{2}}{M \\gamma c^{2} r^{2}} + \\frac{\\dot{\\theta} \\dot{r} e^{2} g \\hbar k s_{z} \\sin^{2}{\\left(\\theta \\right)}}{2 M^{3} \\gamma^{2} c^{4} r^{4}}$"
      ],
      "text/plain": [
       "\\dot{\\phi}**2*sin(2*\\theta)/2 - 2*\\dot{\\theta}*\\dot{r}/r + \\dot{\\theta}*\\dot{r}*e**2/(M*\\gamma*c**2*r**2) + \\dot{\\theta}*\\dot{r}*e**2*g*hbar*k*s_z*sin(\\theta)**2/(2*M**3*\\gamma**2*c**4*r**4)"
      ]
     },
     "execution_count": 44,
     "metadata": {},
     "output_type": "execute_result"
    }
   ],
   "source": [
    "theta_ddot_eq_subs = theta_ddot_eq.subs({gamma_dot: dgamma_dt_simplified}).subs({r_ddot: r_ddot_s}).simplify()\n",
    "theta_ddot_eq_subs"
   ]
  },
  {
   "cell_type": "markdown",
   "metadata": {},
   "source": [
    "## In Summary:\n",
    "- $\\ddot r = \\frac{M^{2} \\dot{r}^{2} \\gamma c^{2} e^{2} r^{2} - M^{2} \\gamma c^{4} e^{2} r^{2} + M c^{4} \\hbar^{2} k^{2} r + \\frac{\\dot{r}^{2} e^{2} g \\hbar k s_{z} \\sin^{2}{\\left(\\theta \\right)}}{2} - \\frac{c^{2} e^{2} g \\hbar k s_{z} \\sin^{2}{\\left(\\theta \\right)}}{2}}{M^{3} \\gamma^{2} c^{4} r^{4}}$\n",
    "\n",
    "- $\\ddot \\theta = \\frac{\\dot{\\phi}^{2} \\sin{\\left(2 \\theta \\right)}}{2} - \\frac{2 \\dot{\\theta} \\dot{r}}{r} + \\frac{\\dot{\\theta} \\dot{r} e^{2}}{M \\gamma c^{2} r^{2}} + \\frac{\\dot{\\theta} \\dot{r} e^{2} g \\hbar k s_{z} \\sin^{2}{\\left(\\theta \\right)}}{2 M^{3} \\gamma^{2} c^{4} r^{4}}$\n",
    "\n",
    "- $M r^2 sin^2(\\theta) \\frac{d^2}{dt^2}\\phi(t) = 0$"
   ]
  }
 ],
 "metadata": {
  "kernelspec": {
   "display_name": ".env",
   "language": "python",
   "name": "python3"
  },
  "language_info": {
   "codemirror_mode": {
    "name": "ipython",
    "version": 3
   },
   "file_extension": ".py",
   "mimetype": "text/x-python",
   "name": "python",
   "nbconvert_exporter": "python",
   "pygments_lexer": "ipython3",
   "version": "3.12.3"
  }
 },
 "nbformat": 4,
 "nbformat_minor": 2
}
