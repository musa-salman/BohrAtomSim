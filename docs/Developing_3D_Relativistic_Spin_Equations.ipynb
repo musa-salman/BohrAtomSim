{
 "cells": [
  {
   "cell_type": "code",
   "execution_count": 2,
   "metadata": {},
   "outputs": [],
   "source": [
    "import sympy as sp"
   ]
  },
  {
   "cell_type": "markdown",
   "metadata": {},
   "source": [
    "Use the Lagrangian formalism to derive equations of motion. \n",
    "The Lagrangian is defined as:\n",
    " \n",
    "${L=L_0+{\\vec \\mu}\\cdot{\\vec B}}$\n",
    "\n",
    "$L_0=3DR$\n",
    "\n",
    "${{\\vec \\mu}\\cdot{\\vec B}={\\frac{ge^2}{2Mc^2r}}sin(\\theta)^2\\dot\\phi s_z}$\n",
    "\n",
    "where:\n",
    "$g=2$ and $s_z=\\frac{\\hbar}{2}$\n",
    "By applying the Euler-Lagrange equation:\n",
    "\n",
    "$\\frac{\\partial}{\\partial t} (\\frac{\\partial L}{\\partial \\dot q})= \\frac{\\partial L}{\\partial q}$"
   ]
  },
  {
   "cell_type": "code",
   "execution_count": 3,
   "metadata": {},
   "outputs": [],
   "source": [
    "t, v = sp.symbols('t v', real=True)\n",
    "r = sp.Symbol('r', real=True, positive=True)\n",
    "v_dot = sp.Symbol('\\\\dot{v}', real=True)\n",
    "theta, phi, gamma = sp.symbols('\\\\theta \\\\phi \\\\gamma', real=True)\n",
    "r_dot, phi_dot, theta_dot, gamma_dot = sp.symbols('\\\\dot{r} \\\\dot{\\\\phi} \\\\dot{\\\\theta} \\\\dot{\\\\gamma}', real=True)\n",
    "r_ddot, theta_ddot, phi_ddot = sp.symbols('\\\\ddot{r} \\\\ddot{\\\\theta} \\\\ddot{\\\\phi}', real=True)\n",
    "k, M, c, e, hbar, g, s_z = sp.symbols('k M c e hbar g s_z', positive = True)\n",
    "\n",
    "r_t = sp.Function('r')(t)\n",
    "theta_t = sp.Function('theta')(t)\n",
    "phi_t = sp.Function('phi')(t)\n",
    "gamma_t = sp.Function('gamma')(t)\n",
    "v_t = sp.Function('v')(t)\n",
    "\n",
    "dr_dt = r_t.diff(t)\n",
    "dtheta_dt = theta_t.diff(t)\n",
    "dphi_dt = phi_t.diff(t)\n",
    "dgamma_dt = gamma_t.diff(t)"
   ]
  },
  {
   "cell_type": "code",
   "execution_count": 4,
   "metadata": {},
   "outputs": [
    {
     "data": {
      "text/plain": [
       "{Derivative(r(t), (t, 2)): \\ddot{r},\n",
       " Derivative(r(t), t): \\dot{r},\n",
       " r(t): r,\n",
       " Derivative(phi(t), (t, 2)): \\ddot{\\phi},\n",
       " Derivative(phi(t), t): \\dot{\\phi},\n",
       " phi(t): \\phi,\n",
       " Derivative(theta(t), (t, 2)): \\ddot{\\theta},\n",
       " Derivative(theta(t), t): \\dot{\\theta},\n",
       " theta(t): \\theta,\n",
       " Derivative(gamma(t), t): \\dot{\\gamma},\n",
       " gamma(t): \\gamma,\n",
       " Derivative(v(t), t): 0,\n",
       " v(t): v}"
      ]
     },
     "execution_count": 4,
     "metadata": {},
     "output_type": "execute_result"
    }
   ],
   "source": [
    "t2v = {\n",
    "    r_t.diff(t).diff(t): r_ddot,\n",
    "    r_t.diff(t): r_dot,\n",
    "    r_t: r, \n",
    "    phi_t.diff(t).diff(t): phi_ddot,\n",
    "    phi_t.diff(t): phi_dot,\n",
    "    phi_t: phi,\n",
    "    theta_t.diff(t).diff(t): theta_ddot,\n",
    "    theta_t.diff(t): theta_dot,\n",
    "    theta_t: theta,\n",
    "    gamma_t.diff(t): gamma_dot,\n",
    "    gamma_t: gamma,\n",
    "    v_t.diff(t): v.diff(t),\n",
    "    v_t: v,\n",
    "}\n",
    "t2v"
   ]
  },
  {
   "cell_type": "code",
   "execution_count": 5,
   "metadata": {},
   "outputs": [
    {
     "data": {
      "text/plain": [
       "{\\ddot{r}: Derivative(r(t), (t, 2)),\n",
       " \\dot{r}: Derivative(r(t), t),\n",
       " r: r(t),\n",
       " \\ddot{\\phi}: Derivative(phi(t), (t, 2)),\n",
       " \\dot{\\phi}: Derivative(phi(t), t),\n",
       " \\phi: phi(t),\n",
       " \\ddot{\\theta}: Derivative(theta(t), (t, 2)),\n",
       " \\dot{\\theta}: Derivative(theta(t), t),\n",
       " \\theta: theta(t),\n",
       " \\dot{\\gamma}: Derivative(gamma(t), t),\n",
       " \\gamma: gamma(t),\n",
       " \\dot{v}: Derivative(v(t), t),\n",
       " v: v(t)}"
      ]
     },
     "execution_count": 5,
     "metadata": {},
     "output_type": "execute_result"
    }
   ],
   "source": [
    "v2t = {\n",
    "    r_ddot: r_t.diff(t).diff(t),\n",
    "    r_dot: r_t.diff(t),\n",
    "    r: r_t,\n",
    "    phi_ddot: phi_t.diff(t).diff(t),\n",
    "    phi_dot: phi_t.diff(t),\n",
    "    phi: phi_t,\n",
    "    theta_ddot: theta_t.diff(t).diff(t),\n",
    "    theta_dot: theta_t.diff(t),\n",
    "    theta: theta_t,\n",
    "    gamma_dot: gamma_t.diff(t),\n",
    "    gamma: gamma_t,\n",
    "    v_dot: v_t.diff(t),\n",
    "    v: v_t,\n",
    "}\n",
    "v2t"
   ]
  },
  {
   "cell_type": "code",
   "execution_count": 6,
   "metadata": {},
   "outputs": [
    {
     "data": {
      "text/latex": [
       "$\\displaystyle \\frac{\\dot{\\phi} e^{2} g s_{z} \\sin^{2}{\\left(\\theta \\right)}}{2 M c^{2} r}$"
      ],
      "text/plain": [
       "\\dot{\\phi}*e**2*g*s_z*sin(\\theta)**2/(2*M*c**2*r)"
      ]
     },
     "execution_count": 6,
     "metadata": {},
     "output_type": "execute_result"
    }
   ],
   "source": [
    "mu_cdot_b = ((g * e ** 2) / (2 * M * c ** 2 * r)) * sp.sin(theta)  ** 2 * phi_dot * s_z\n",
    "mu_cdot_b = mu_cdot_b.simplify()\n",
    "mu_cdot_b"
   ]
  },
  {
   "cell_type": "code",
   "execution_count": 7,
   "metadata": {},
   "outputs": [
    {
     "data": {
      "text/latex": [
       "$\\displaystyle - \\frac{M c^{2}}{\\gamma} + \\frac{e^{2}}{r}$"
      ],
      "text/plain": [
       "-M*c**2/\\gamma + e**2/r"
      ]
     },
     "execution_count": 7,
     "metadata": {},
     "output_type": "execute_result"
    }
   ],
   "source": [
    "L_0 = -M * c ** 2 / gamma + e ** 2 /r\n",
    "L_0"
   ]
  },
  {
   "cell_type": "code",
   "execution_count": 8,
   "metadata": {},
   "outputs": [
    {
     "data": {
      "text/latex": [
       "$\\displaystyle - \\frac{M c^{2}}{\\gamma} + \\frac{e^{2}}{r} + \\frac{\\dot{\\phi} e^{2} g s_{z} \\sin^{2}{\\left(\\theta \\right)}}{2 M c^{2} r}$"
      ],
      "text/plain": [
       "-M*c**2/\\gamma + e**2/r + \\dot{\\phi}*e**2*g*s_z*sin(\\theta)**2/(2*M*c**2*r)"
      ]
     },
     "execution_count": 8,
     "metadata": {},
     "output_type": "execute_result"
    }
   ],
   "source": [
    "L = L_0 + mu_cdot_b\n",
    "L"
   ]
  },
  {
   "cell_type": "markdown",
   "metadata": {},
   "source": [
    "## Developing $\\ddot{r}$ equation\n",
    "the Euler-Lagrange equation is: $\\frac{\\partial}{\\partial t} (\\frac{\\partial L}{\\partial \\dot r})= \\frac{\\partial L}{\\partial r}$\n"
   ]
  },
  {
   "cell_type": "code",
   "execution_count": 9,
   "metadata": {},
   "outputs": [],
   "source": [
    "v_squared = r_dot ** 2 + r ** 2 * theta_dot ** 2 + r ** 2 * sp.sin(theta) ** 2 * phi_dot ** 2\n",
    "f_gamma = (1 / sp.sqrt(1 - v ** 2 / c ** 2))"
   ]
  },
  {
   "cell_type": "markdown",
   "metadata": {},
   "source": [
    "Notice that by differentiation by chain rule $\\frac{\\partial L}{\\partial \\dot r} = \\frac{\\partial L}{\\partial \\gamma} \\frac{\\partial \\gamma}{\\partial v} \\frac{\\partial v}{\\partial \\dot{r}} = \\frac{\\partial L}{\\partial v} \\frac{\\partial v}{\\partial \\dot{r}} $"
   ]
  },
  {
   "cell_type": "code",
   "execution_count": 10,
   "metadata": {},
   "outputs": [
    {
     "data": {
      "text/latex": [
       "$\\displaystyle \\frac{M c^{2}}{\\gamma^{2}}$"
      ],
      "text/plain": [
       "M*c**2/\\gamma**2"
      ]
     },
     "execution_count": 10,
     "metadata": {},
     "output_type": "execute_result"
    }
   ],
   "source": [
    "dL_dgamma = L.diff(gamma)\n",
    "dL_dgamma = dL_dgamma\n",
    "dL_dgamma"
   ]
  },
  {
   "cell_type": "code",
   "execution_count": 11,
   "metadata": {},
   "outputs": [
    {
     "data": {
      "text/latex": [
       "$\\displaystyle \\frac{\\gamma^{3} v}{c^{2}}$"
      ],
      "text/plain": [
       "\\gamma**3*v/c**2"
      ]
     },
     "execution_count": 11,
     "metadata": {},
     "output_type": "execute_result"
    }
   ],
   "source": [
    "dgamma_dv = f_gamma.diff(v)\n",
    "dgamma_dv = dgamma_dv.subs(f_gamma, gamma)\n",
    "dgamma_dv"
   ]
  },
  {
   "cell_type": "code",
   "execution_count": 12,
   "metadata": {},
   "outputs": [
    {
     "data": {
      "text/latex": [
       "$\\displaystyle \\frac{\\dot{r}}{v}$"
      ],
      "text/plain": [
       "\\dot{r}/v"
      ]
     },
     "execution_count": 12,
     "metadata": {},
     "output_type": "execute_result"
    }
   ],
   "source": [
    "dv_drdot = sp.sqrt(v_squared).diff(r_dot)\n",
    "dv_drdot = dv_drdot.subs(sp.sqrt(v_squared), v)\n",
    "dv_drdot"
   ]
  },
  {
   "cell_type": "code",
   "execution_count": 13,
   "metadata": {},
   "outputs": [
    {
     "data": {
      "text/latex": [
       "$\\displaystyle M \\dot{r} \\gamma$"
      ],
      "text/plain": [
       "M*\\dot{r}*\\gamma"
      ]
     },
     "execution_count": 13,
     "metadata": {},
     "output_type": "execute_result"
    }
   ],
   "source": [
    "dL_drdot = dL_dgamma * dgamma_dv * dv_drdot\n",
    "dL_drdot = dL_drdot.simplify()\n",
    "dL_drdot"
   ]
  },
  {
   "cell_type": "code",
   "execution_count": 14,
   "metadata": {},
   "outputs": [
    {
     "data": {
      "text/latex": [
       "$\\displaystyle M \\gamma{\\left(t \\right)} \\frac{d}{d t} r{\\left(t \\right)}$"
      ],
      "text/plain": [
       "M*gamma(t)*Derivative(r(t), t)"
      ]
     },
     "execution_count": 14,
     "metadata": {},
     "output_type": "execute_result"
    }
   ],
   "source": [
    "dL_drdot_t = dL_drdot.subs({gamma: gamma_t, r_dot: dr_dt})\n",
    "dL_drdot_t = dL_drdot_t.simplify()\n",
    "dL_drdot_t"
   ]
  },
  {
   "cell_type": "markdown",
   "metadata": {},
   "source": [
    "And here is the left side of the Euler-Lagrange equation:"
   ]
  },
  {
   "cell_type": "code",
   "execution_count": 15,
   "metadata": {},
   "outputs": [
    {
     "data": {
      "text/latex": [
       "$\\displaystyle M \\gamma{\\left(t \\right)} \\frac{d^{2}}{d t^{2}} r{\\left(t \\right)} + M \\frac{d}{d t} \\gamma{\\left(t \\right)} \\frac{d}{d t} r{\\left(t \\right)}$"
      ],
      "text/plain": [
       "M*gamma(t)*Derivative(r(t), (t, 2)) + M*Derivative(gamma(t), t)*Derivative(r(t), t)"
      ]
     },
     "execution_count": 15,
     "metadata": {},
     "output_type": "execute_result"
    }
   ],
   "source": [
    "d_dt_dL_drdot = dL_drdot_t.diff(t)\n",
    "d_dt_dL_drdot"
   ]
  },
  {
   "cell_type": "markdown",
   "metadata": {},
   "source": [
    "Now lets start with the right side of the Euler-Lagrange equation $\\frac{\\partial L}{\\partial r}$,\n",
    "Notice that by differentiation by chain rule:\n",
    "\n",
    "$\\frac{\\partial L}{\\partial r} = \\frac{\\partial L}{\\partial v} \\frac{\\partial v}{\\partial r} - e ^ 2  / r ^ 2 - {\\frac{ge^2}{2Mc^2r^2}}sin(\\theta)^2\\dot\\phi s_z$\n",
    "\n",
    "Notice that $\\frac{\\partial L}{\\partial v} = \\frac{\\partial L}{\\partial \\gamma} \\frac{\\partial \\gamma}{\\partial v}$"
   ]
  },
  {
   "cell_type": "code",
   "execution_count": 16,
   "metadata": {},
   "outputs": [
    {
     "data": {
      "text/latex": [
       "$\\displaystyle M \\gamma v$"
      ],
      "text/plain": [
       "M*\\gamma*v"
      ]
     },
     "execution_count": 16,
     "metadata": {},
     "output_type": "execute_result"
    }
   ],
   "source": [
    "dL_dv = dL_dgamma * dgamma_dv\n",
    "dL_dv = dL_dv.simplify()\n",
    "dL_dv"
   ]
  },
  {
   "cell_type": "code",
   "execution_count": 17,
   "metadata": {},
   "outputs": [
    {
     "data": {
      "text/latex": [
       "$\\displaystyle \\frac{\\dot{\\phi}^{2} r \\sin^{2}{\\left(\\theta \\right)} + \\dot{\\theta}^{2} r}{v}$"
      ],
      "text/plain": [
       "(\\dot{\\phi}**2*r*sin(\\theta)**2 + \\dot{\\theta}**2*r)/v"
      ]
     },
     "execution_count": 17,
     "metadata": {},
     "output_type": "execute_result"
    }
   ],
   "source": [
    "dv_dr = sp.sqrt(v_squared).diff(r)\n",
    "dv_dr = dv_dr.subs(sp.sqrt(v_squared), v)\n",
    "dv_dr"
   ]
  },
  {
   "cell_type": "code",
   "execution_count": 18,
   "metadata": {},
   "outputs": [
    {
     "data": {
      "text/latex": [
       "$\\displaystyle M \\dot{\\phi}^{2} \\gamma r \\sin^{2}{\\left(\\theta \\right)} + M \\dot{\\theta}^{2} \\gamma r - \\frac{e^{2}}{r^{2}} - \\frac{\\dot{\\phi} e^{2} g s_{z} \\sin^{2}{\\left(\\theta \\right)}}{2 M c^{2} r^{2}}$"
      ],
      "text/plain": [
       "M*\\dot{\\phi}**2*\\gamma*r*sin(\\theta)**2 + M*\\dot{\\theta}**2*\\gamma*r - e**2/r**2 - \\dot{\\phi}*e**2*g*s_z*sin(\\theta)**2/(2*M*c**2*r**2)"
      ]
     },
     "execution_count": 18,
     "metadata": {},
     "output_type": "execute_result"
    }
   ],
   "source": [
    "dL_dr = dL_dv * dv_dr - e ** 2 / r ** 2 + mu_cdot_b.diff(r)\n",
    "dL_dr = dL_dr.simplify()\n",
    "dL_dr"
   ]
  },
  {
   "cell_type": "code",
   "execution_count": 19,
   "metadata": {},
   "outputs": [
    {
     "data": {
      "text/latex": [
       "$\\displaystyle - r{\\left(t \\right)} \\sin^{2}{\\left(\\theta{\\left(t \\right)} \\right)} \\left(\\frac{d}{d t} \\phi{\\left(t \\right)}\\right)^{2} - r{\\left(t \\right)} \\left(\\frac{d}{d t} \\theta{\\left(t \\right)}\\right)^{2} + \\frac{d^{2}}{d t^{2}} r{\\left(t \\right)} + \\frac{\\frac{d}{d t} \\gamma{\\left(t \\right)} \\frac{d}{d t} r{\\left(t \\right)}}{\\gamma{\\left(t \\right)}} + \\frac{e^{2}}{M \\gamma{\\left(t \\right)} r^{2}{\\left(t \\right)}} + \\frac{e^{2} g s_{z} \\sin^{2}{\\left(\\theta{\\left(t \\right)} \\right)} \\frac{d}{d t} \\phi{\\left(t \\right)}}{2 M^{2} c^{2} \\gamma{\\left(t \\right)} r^{2}{\\left(t \\right)}}$"
      ],
      "text/plain": [
       "-r(t)*sin(theta(t))**2*Derivative(phi(t), t)**2 - r(t)*Derivative(theta(t), t)**2 + Derivative(r(t), (t, 2)) + Derivative(gamma(t), t)*Derivative(r(t), t)/gamma(t) + e**2/(M*gamma(t)*r(t)**2) + e**2*g*s_z*sin(theta(t))**2*Derivative(phi(t), t)/(2*M**2*c**2*gamma(t)*r(t)**2)"
      ]
     },
     "execution_count": 19,
     "metadata": {},
     "output_type": "execute_result"
    }
   ],
   "source": [
    "r_ddot_eq = d_dt_dL_drdot - dL_dr.subs({r: r_t, gamma: gamma_t, phi_dot: phi_t.diff(t), theta_dot: theta_t.diff(t), r_dot: r_t.diff(t), theta: theta_t, phi: phi_t, gamma: gamma_t})\n",
    "r_ddot_eq = (r_ddot_eq / M / gamma_t).simplify()\n",
    "r_ddot_eq.simplify()"
   ]
  },
  {
   "cell_type": "code",
   "execution_count": 20,
   "metadata": {},
   "outputs": [
    {
     "data": {
      "text/latex": [
       "$\\displaystyle \\ddot{r} + \\frac{\\dot{\\gamma} \\dot{r}}{\\gamma} - \\dot{\\phi}^{2} r \\sin^{2}{\\left(\\theta \\right)} - \\dot{\\theta}^{2} r + \\frac{e^{2}}{M \\gamma r^{2}} + \\frac{\\dot{\\phi} e^{2} g s_{z} \\sin^{2}{\\left(\\theta \\right)}}{2 M^{2} \\gamma c^{2} r^{2}}$"
      ],
      "text/plain": [
       "\\ddot{r} + \\dot{\\gamma}*\\dot{r}/\\gamma - \\dot{\\phi}**2*r*sin(\\theta)**2 - \\dot{\\theta}**2*r + e**2/(M*\\gamma*r**2) + \\dot{\\phi}*e**2*g*s_z*sin(\\theta)**2/(2*M**2*\\gamma*c**2*r**2)"
      ]
     },
     "execution_count": 20,
     "metadata": {},
     "output_type": "execute_result"
    }
   ],
   "source": [
    "r_ddot_eq = r_ddot_eq.subs(t2v)\n",
    "r_ddot_eq"
   ]
  },
  {
   "cell_type": "code",
   "execution_count": 21,
   "metadata": {},
   "outputs": [
    {
     "data": {
      "text/latex": [
       "$\\displaystyle - \\frac{\\dot{\\gamma} \\dot{r}}{\\gamma} + \\dot{\\phi}^{2} r \\sin^{2}{\\left(\\theta \\right)} + \\dot{\\theta}^{2} r - \\frac{e^{2}}{M \\gamma r^{2}} - \\frac{\\dot{\\phi} e^{2} g s_{z} \\sin^{2}{\\left(\\theta \\right)}}{2 M^{2} \\gamma c^{2} r^{2}}$"
      ],
      "text/plain": [
       "-\\dot{\\gamma}*\\dot{r}/\\gamma + \\dot{\\phi}**2*r*sin(\\theta)**2 + \\dot{\\theta}**2*r - e**2/(M*\\gamma*r**2) - \\dot{\\phi}*e**2*g*s_z*sin(\\theta)**2/(2*M**2*\\gamma*c**2*r**2)"
      ]
     },
     "execution_count": 21,
     "metadata": {},
     "output_type": "execute_result"
    }
   ],
   "source": [
    "r_ddot_s_0 = sp.solve(r_ddot_eq, r_ddot)[0]\n",
    "r_ddot_s_0"
   ]
  },
  {
   "cell_type": "markdown",
   "metadata": {},
   "source": [
    "### Developing $\\dot{\\phi}$ equation\n",
    "Lets find what $\\dot{\\phi}$ equals to, using the Euler-Lagrange equation for $\\phi$:\n",
    "\n",
    "Notice that:\n",
    "$\\frac{\\partial L}{\\partial \\dot{\\phi}} = \\frac{\\partial L}{\\partial v} \\frac{\\partial v}{\\partial \\dot{\\phi}}$"
   ]
  },
  {
   "cell_type": "code",
   "execution_count": 22,
   "metadata": {},
   "outputs": [
    {
     "data": {
      "text/latex": [
       "$\\displaystyle \\frac{\\dot{\\phi} r^{2} \\sin^{2}{\\left(\\theta \\right)}}{v}$"
      ],
      "text/plain": [
       "\\dot{\\phi}*r**2*sin(\\theta)**2/v"
      ]
     },
     "execution_count": 22,
     "metadata": {},
     "output_type": "execute_result"
    }
   ],
   "source": [
    "dv_dphidot = sp.sqrt(v_squared).diff(phi_dot)\n",
    "dv_dphidot = dv_dphidot.subs(sp.sqrt(v_squared), v)\n",
    "dv_dphidot"
   ]
  },
  {
   "cell_type": "code",
   "execution_count": 23,
   "metadata": {},
   "outputs": [
    {
     "data": {
      "text/latex": [
       "$\\displaystyle M \\dot{\\phi} \\gamma r^{2} \\sin^{2}{\\left(\\theta \\right)} + \\frac{e^{2} g s_{z} \\sin^{2}{\\left(\\theta \\right)}}{2 M c^{2} r}$"
      ],
      "text/plain": [
       "M*\\dot{\\phi}*\\gamma*r**2*sin(\\theta)**2 + e**2*g*s_z*sin(\\theta)**2/(2*M*c**2*r)"
      ]
     },
     "execution_count": 23,
     "metadata": {},
     "output_type": "execute_result"
    }
   ],
   "source": [
    "dL_dphidot = dL_dv * dv_dphidot + mu_cdot_b.diff(phi_dot)\n",
    "dL_dphidot"
   ]
  },
  {
   "cell_type": "code",
   "execution_count": 24,
   "metadata": {},
   "outputs": [
    {
     "data": {
      "text/latex": [
       "$\\displaystyle \\frac{\\frac{M c^{2} \\hbar k r}{\\sin^{2}{\\left(\\theta \\right)}} - \\frac{e^{2} g s_{z}}{2}}{M^{2} \\gamma c^{2} r^{3}}$"
      ],
      "text/plain": [
       "(M*c**2*hbar*k*r/sin(\\theta)**2 - e**2*g*s_z/2)/(M**2*\\gamma*c**2*r**3)"
      ]
     },
     "execution_count": 24,
     "metadata": {},
     "output_type": "execute_result"
    }
   ],
   "source": [
    "phi_dot_eq = sp.solve(dL_dphidot - k * hbar, phi_dot)[0]\n",
    "phi_dot_eq"
   ]
  },
  {
   "cell_type": "code",
   "execution_count": 25,
   "metadata": {},
   "outputs": [
    {
     "data": {
      "text/latex": [
       "$\\displaystyle \\frac{\\hbar k}{M \\gamma{\\left(t \\right)} r^{2}{\\left(t \\right)} \\sin^{2}{\\left(\\theta{\\left(t \\right)} \\right)}} - \\frac{e^{2} g s_{z}}{2 M^{2} c^{2} \\gamma{\\left(t \\right)} r^{3}{\\left(t \\right)}}$"
      ],
      "text/plain": [
       "hbar*k/(M*gamma(t)*r(t)**2*sin(theta(t))**2) - e**2*g*s_z/(2*M**2*c**2*gamma(t)*r(t)**3)"
      ]
     },
     "execution_count": 25,
     "metadata": {},
     "output_type": "execute_result"
    }
   ],
   "source": [
    "dphi_dt_eq = phi_dot_eq.subs(v2t)\n",
    "dphi_dt_eq.expand()"
   ]
  },
  {
   "cell_type": "code",
   "execution_count": 26,
   "metadata": {},
   "outputs": [
    {
     "data": {
      "text/latex": [
       "$\\displaystyle - \\frac{\\dot{\\gamma} \\dot{\\phi}}{\\gamma} - \\frac{3 \\dot{\\phi} \\dot{r}}{r} - \\frac{2 \\dot{\\theta} \\hbar k \\cos{\\left(\\theta \\right)}}{M \\gamma r^{2} \\sin^{3}{\\left(\\theta \\right)}} + \\frac{\\dot{r} \\hbar k}{M \\gamma r^{3} \\sin^{2}{\\left(\\theta \\right)}}$"
      ],
      "text/plain": [
       "-\\dot{\\gamma}*\\dot{\\phi}/\\gamma - 3*\\dot{\\phi}*\\dot{r}/r - 2*\\dot{\\theta}*hbar*k*cos(\\theta)/(M*\\gamma*r**2*sin(\\theta)**3) + \\dot{r}*hbar*k/(M*\\gamma*r**3*sin(\\theta)**2)"
      ]
     },
     "execution_count": 26,
     "metadata": {},
     "output_type": "execute_result"
    }
   ],
   "source": [
    "dphi_dtt_eq = dphi_dt_eq.diff(t).subs(t2v).subs(phi_dot_eq, phi_dot)\n",
    "dphi_dtt_eq.expand()"
   ]
  },
  {
   "cell_type": "markdown",
   "metadata": {},
   "source": [
    "From the Euler-Lagrange equation: $\\frac{\\partial}{\\partial t} (\\frac{\\partial L}{\\partial \\dot{\\phi}}) = 0 \\to \\gamma M r^2 \\dot{\\phi} = k \\hbar \\to \\dot{\\phi} = \\frac{k \\hbar}{\\gamma M r^2}$"
   ]
  },
  {
   "cell_type": "code",
   "execution_count": 27,
   "metadata": {},
   "outputs": [
    {
     "data": {
      "text/latex": [
       "$\\displaystyle \\frac{\\gamma^{3}{\\left(t \\right)} v{\\left(t \\right)} \\frac{d}{d t} v{\\left(t \\right)}}{c^{2}}$"
      ],
      "text/plain": [
       "gamma(t)**3*v(t)*Derivative(v(t), t)/c**2"
      ]
     },
     "execution_count": 27,
     "metadata": {},
     "output_type": "execute_result"
    }
   ],
   "source": [
    "f_gamma_t = f_gamma.subs(v, v_t)\n",
    "dgamma_dt_eq = f_gamma_t.diff(t)\n",
    "dgamma_dt_eq = dgamma_dt_eq.subs(f_gamma_t, gamma_t)\n",
    "dgamma_dt_eq"
   ]
  },
  {
   "cell_type": "code",
   "execution_count": 28,
   "metadata": {},
   "outputs": [
    {
     "data": {
      "text/latex": [
       "$\\displaystyle \\frac{r^{2}{\\left(t \\right)} \\sin^{2}{\\left(\\theta{\\left(t \\right)} \\right)} \\frac{d}{d t} \\phi{\\left(t \\right)} \\frac{d^{2}}{d t^{2}} \\phi{\\left(t \\right)} + r^{2}{\\left(t \\right)} \\sin{\\left(\\theta{\\left(t \\right)} \\right)} \\cos{\\left(\\theta{\\left(t \\right)} \\right)} \\left(\\frac{d}{d t} \\phi{\\left(t \\right)}\\right)^{2} \\frac{d}{d t} \\theta{\\left(t \\right)} + r^{2}{\\left(t \\right)} \\frac{d}{d t} \\theta{\\left(t \\right)} \\frac{d^{2}}{d t^{2}} \\theta{\\left(t \\right)} + r{\\left(t \\right)} \\sin^{2}{\\left(\\theta{\\left(t \\right)} \\right)} \\left(\\frac{d}{d t} \\phi{\\left(t \\right)}\\right)^{2} \\frac{d}{d t} r{\\left(t \\right)} + r{\\left(t \\right)} \\frac{d}{d t} r{\\left(t \\right)} \\left(\\frac{d}{d t} \\theta{\\left(t \\right)}\\right)^{2} + \\frac{d}{d t} r{\\left(t \\right)} \\frac{d^{2}}{d t^{2}} r{\\left(t \\right)}}{v{\\left(t \\right)}}$"
      ],
      "text/plain": [
       "(r(t)**2*sin(theta(t))**2*Derivative(phi(t), t)*Derivative(phi(t), (t, 2)) + r(t)**2*sin(theta(t))*cos(theta(t))*Derivative(phi(t), t)**2*Derivative(theta(t), t) + r(t)**2*Derivative(theta(t), t)*Derivative(theta(t), (t, 2)) + r(t)*sin(theta(t))**2*Derivative(phi(t), t)**2*Derivative(r(t), t) + r(t)*Derivative(r(t), t)*Derivative(theta(t), t)**2 + Derivative(r(t), t)*Derivative(r(t), (t, 2)))/v(t)"
      ]
     },
     "execution_count": 28,
     "metadata": {},
     "output_type": "execute_result"
    }
   ],
   "source": [
    "f_v_t = sp.sqrt(v_squared).subs(v2t)\n",
    "dv_dt = f_v_t.diff(t).subs(f_v_t, v_t)\n",
    "dv_dt"
   ]
  },
  {
   "cell_type": "code",
   "execution_count": 29,
   "metadata": {},
   "outputs": [
    {
     "data": {
      "text/latex": [
       "$\\displaystyle \\frac{\\ddot{\\phi} \\dot{\\phi} r^{2} \\sin^{2}{\\left(\\theta \\right)} + \\ddot{\\theta} \\dot{\\theta} r^{2} + \\ddot{r} \\dot{r} + \\dot{\\phi}^{2} \\dot{\\theta} r^{2} \\sin{\\left(\\theta \\right)} \\cos{\\left(\\theta \\right)} + \\dot{\\phi}^{2} \\dot{r} r \\sin^{2}{\\left(\\theta \\right)} + \\dot{\\theta}^{2} \\dot{r} r}{v}$"
      ],
      "text/plain": [
       "(\\ddot{\\phi}*\\dot{\\phi}*r**2*sin(\\theta)**2 + \\ddot{\\theta}*\\dot{\\theta}*r**2 + \\ddot{r}*\\dot{r} + \\dot{\\phi}**2*\\dot{\\theta}*r**2*sin(\\theta)*cos(\\theta) + \\dot{\\phi}**2*\\dot{r}*r*sin(\\theta)**2 + \\dot{\\theta}**2*\\dot{r}*r)/v"
      ]
     },
     "execution_count": 29,
     "metadata": {},
     "output_type": "execute_result"
    }
   ],
   "source": [
    "dv_dt.subs(t2v)"
   ]
  },
  {
   "cell_type": "code",
   "execution_count": 30,
   "metadata": {},
   "outputs": [
    {
     "data": {
      "text/latex": [
       "$\\displaystyle \\frac{\\frac{M c^{2} \\hbar k r{\\left(t \\right)}}{\\sin^{2}{\\left(\\theta{\\left(t \\right)} \\right)}} - \\frac{e^{2} g s_{z}}{2}}{M^{2} c^{2} \\gamma{\\left(t \\right)} r^{3}{\\left(t \\right)}}$"
      ],
      "text/plain": [
       "(M*c**2*hbar*k*r(t)/sin(theta(t))**2 - e**2*g*s_z/2)/(M**2*c**2*gamma(t)*r(t)**3)"
      ]
     },
     "execution_count": 30,
     "metadata": {},
     "output_type": "execute_result"
    }
   ],
   "source": [
    "phi_dot_eq_t = phi_dot_eq.subs({r_dot: dr_dt, r: r_t, gamma: gamma_t, phi_dot: phi_t.diff(t), theta_dot: theta_t.diff(t), theta: theta_t, phi: phi_t, gamma: gamma_t})\n",
    "phi_dot_eq_t"
   ]
  },
  {
   "cell_type": "code",
   "execution_count": 31,
   "metadata": {},
   "outputs": [
    {
     "data": {
      "text/latex": [
       "$\\displaystyle \\frac{c^{2}}{- \\dot{\\phi}^{2} r^{2} \\sin^{2}{\\left(\\theta \\right)} - \\dot{\\theta}^{2} r^{2} - \\dot{r}^{2} + c^{2}}$"
      ],
      "text/plain": [
       "c**2/(-\\dot{\\phi}**2*r**2*sin(\\theta)**2 - \\dot{\\theta}**2*r**2 - \\dot{r}**2 + c**2)"
      ]
     },
     "execution_count": 31,
     "metadata": {},
     "output_type": "execute_result"
    }
   ],
   "source": [
    "f_gamma_squared_subs = (f_gamma.subs(v, sp.sqrt(v_squared)) ** 2).simplify()    \n",
    "f_gamma_squared_subs"
   ]
  },
  {
   "cell_type": "code",
   "execution_count": 32,
   "metadata": {},
   "outputs": [
    {
     "data": {
      "text/latex": [
       "$\\displaystyle \\frac{\\gamma^{3} \\left(\\ddot{\\phi} \\dot{\\phi} r^{2} \\sin^{2}{\\left(\\theta \\right)} + \\ddot{\\theta} \\dot{\\theta} r^{2} + \\ddot{r} \\dot{r} + \\dot{\\phi}^{2} \\dot{\\theta} r^{2} \\sin{\\left(\\theta \\right)} \\cos{\\left(\\theta \\right)} + \\dot{\\phi}^{2} \\dot{r} r \\sin^{2}{\\left(\\theta \\right)} + \\dot{\\theta}^{2} \\dot{r} r\\right)}{c^{2}}$"
      ],
      "text/plain": [
       "\\gamma**3*(\\ddot{\\phi}*\\dot{\\phi}*r**2*sin(\\theta)**2 + \\ddot{\\theta}*\\dot{\\theta}*r**2 + \\ddot{r}*\\dot{r} + \\dot{\\phi}**2*\\dot{\\theta}*r**2*sin(\\theta)*cos(\\theta) + \\dot{\\phi}**2*\\dot{r}*r*sin(\\theta)**2 + \\dot{\\theta}**2*\\dot{r}*r)/c**2"
      ]
     },
     "execution_count": 32,
     "metadata": {},
     "output_type": "execute_result"
    }
   ],
   "source": [
    "dgamma_dt_subs = dgamma_dt_eq.subs(v_t.diff(t), dv_dt).subs(t2v)\n",
    "dgamma_dt_subs"
   ]
  },
  {
   "cell_type": "code",
   "execution_count": 33,
   "metadata": {},
   "outputs": [
    {
     "data": {
      "text/latex": [
       "$\\displaystyle - \\frac{\\dot{\\gamma} \\dot{\\phi}}{\\gamma} - \\frac{3 \\dot{\\phi} \\dot{r}}{r} + \\frac{- \\frac{2 M \\dot{\\theta} c^{2} \\hbar k r \\cos{\\left(\\theta \\right)}}{\\sin^{3}{\\left(\\theta \\right)}} + \\frac{M \\dot{r} c^{2} \\hbar k}{\\sin^{2}{\\left(\\theta \\right)}}}{M^{2} \\gamma c^{2} r^{3}}$"
      ],
      "text/plain": [
       "-\\dot{\\gamma}*\\dot{\\phi}/\\gamma - 3*\\dot{\\phi}*\\dot{r}/r + (-2*M*\\dot{\\theta}*c**2*hbar*k*r*cos(\\theta)/sin(\\theta)**3 + M*\\dot{r}*c**2*hbar*k/sin(\\theta)**2)/(M**2*\\gamma*c**2*r**3)"
      ]
     },
     "execution_count": 33,
     "metadata": {},
     "output_type": "execute_result"
    }
   ],
   "source": [
    "dphi_dtt_eq"
   ]
  },
  {
   "cell_type": "code",
   "execution_count": 34,
   "metadata": {},
   "outputs": [
    {
     "data": {
      "text/latex": [
       "$\\displaystyle \\frac{\\ddot{\\phi} \\dot{\\phi} \\gamma^{3} r^{2} \\sin^{2}{\\left(\\theta \\right)}}{c^{2}} + \\frac{\\ddot{\\theta} \\dot{\\theta} \\gamma^{3} r^{2}}{c^{2}} + \\frac{\\ddot{r} \\dot{r} \\gamma^{3}}{c^{2}} + \\frac{\\dot{\\phi}^{2} \\dot{\\theta} \\gamma^{3} r^{2} \\sin{\\left(\\theta \\right)} \\cos{\\left(\\theta \\right)}}{c^{2}} + \\frac{\\dot{\\phi}^{2} \\dot{r} \\gamma^{3} r \\sin^{2}{\\left(\\theta \\right)}}{c^{2}} + \\frac{\\dot{\\theta}^{2} \\dot{r} \\gamma^{3} r}{c^{2}}$"
      ],
      "text/plain": [
       "\\ddot{\\phi}*\\dot{\\phi}*\\gamma**3*r**2*sin(\\theta)**2/c**2 + \\ddot{\\theta}*\\dot{\\theta}*\\gamma**3*r**2/c**2 + \\ddot{r}*\\dot{r}*\\gamma**3/c**2 + \\dot{\\phi}**2*\\dot{\\theta}*\\gamma**3*r**2*sin(\\theta)*cos(\\theta)/c**2 + \\dot{\\phi}**2*\\dot{r}*\\gamma**3*r*sin(\\theta)**2/c**2 + \\dot{\\theta}**2*\\dot{r}*\\gamma**3*r/c**2"
      ]
     },
     "execution_count": 34,
     "metadata": {},
     "output_type": "execute_result"
    }
   ],
   "source": [
    "dgamma_dt_simplified = dgamma_dt_subs.expand(mul=True, deep=False, power_exp=False)\n",
    "\n",
    "dgamma_dt_simplified"
   ]
  },
  {
   "cell_type": "code",
   "execution_count": 35,
   "metadata": {},
   "outputs": [
    {
     "data": {
      "text/latex": [
       "$\\displaystyle - \\frac{\\dot{\\gamma} \\dot{\\phi}}{\\gamma} - \\frac{3 \\dot{\\phi} \\dot{r}}{r} - \\frac{2 \\dot{\\theta} \\hbar k \\cos{\\left(\\theta \\right)}}{M \\gamma r^{2} \\sin^{3}{\\left(\\theta \\right)}} + \\frac{\\dot{r} \\hbar k}{M \\gamma r^{3} \\sin^{2}{\\left(\\theta \\right)}}$"
      ],
      "text/plain": [
       "-\\dot{\\gamma}*\\dot{\\phi}/\\gamma - 3*\\dot{\\phi}*\\dot{r}/r - 2*\\dot{\\theta}*hbar*k*cos(\\theta)/(M*\\gamma*r**2*sin(\\theta)**3) + \\dot{r}*hbar*k/(M*\\gamma*r**3*sin(\\theta)**2)"
      ]
     },
     "execution_count": 35,
     "metadata": {},
     "output_type": "execute_result"
    }
   ],
   "source": [
    "dphi_dtt_eq.expand()"
   ]
  },
  {
   "cell_type": "code",
   "execution_count": 36,
   "metadata": {},
   "outputs": [
    {
     "data": {
      "text/latex": [
       "$\\displaystyle \\frac{\\gamma^{2} \\left(2 M \\ddot{\\theta} \\dot{\\theta} \\gamma r^{3} + 2 M \\ddot{r} \\dot{r} \\gamma r + M \\dot{\\phi}^{2} \\dot{\\theta} \\gamma r^{3} \\sin{\\left(2 \\theta \\right)} + 2 M \\dot{\\phi}^{2} \\dot{r} \\gamma r^{2} \\cos{\\left(2 \\theta \\right)} - 2 M \\dot{\\phi}^{2} \\dot{r} \\gamma r^{2} + 2 M \\dot{\\theta}^{2} \\dot{r} \\gamma r^{2} - \\frac{4 \\dot{\\phi} \\dot{\\theta} \\hbar k r}{\\tan{\\left(\\theta \\right)}} + 2 \\dot{\\phi} \\dot{r} \\hbar k\\right)}{M r \\left(- \\dot{\\phi}^{2} \\gamma^{2} r^{2} \\cos{\\left(2 \\theta \\right)} + \\dot{\\phi}^{2} \\gamma^{2} r^{2} + 2 c^{2}\\right)}$"
      ],
      "text/plain": [
       "\\gamma**2*(2*M*\\ddot{\\theta}*\\dot{\\theta}*\\gamma*r**3 + 2*M*\\ddot{r}*\\dot{r}*\\gamma*r + M*\\dot{\\phi}**2*\\dot{\\theta}*\\gamma*r**3*sin(2*\\theta) + 2*M*\\dot{\\phi}**2*\\dot{r}*\\gamma*r**2*cos(2*\\theta) - 2*M*\\dot{\\phi}**2*\\dot{r}*\\gamma*r**2 + 2*M*\\dot{\\theta}**2*\\dot{r}*\\gamma*r**2 - 4*\\dot{\\phi}*\\dot{\\theta}*hbar*k*r/tan(\\theta) + 2*\\dot{\\phi}*\\dot{r}*hbar*k)/(M*r*(-\\dot{\\phi}**2*\\gamma**2*r**2*cos(2*\\theta) + \\dot{\\phi}**2*\\gamma**2*r**2 + 2*c**2))"
      ]
     },
     "execution_count": 36,
     "metadata": {},
     "output_type": "execute_result"
    }
   ],
   "source": [
    "gamma_dot_eq = sp.solve(dgamma_dt_simplified.subs(phi_ddot, dphi_dtt_eq).simplify() - gamma_dot, gamma_dot)[0]\n",
    "gamma_dot_eq"
   ]
  },
  {
   "cell_type": "code",
   "execution_count": 37,
   "metadata": {},
   "outputs": [
    {
     "data": {
      "text/latex": [
       "$\\displaystyle - \\dot{\\phi}^{2} r + \\frac{\\dot{\\phi} \\hbar k}{M \\gamma r \\sin^{2}{\\left(\\theta \\right)}} = \\frac{\\dot{\\phi} e^{2} g s_{z}}{2 M^{2} \\gamma c^{2} r^{2}}$"
      ],
      "text/plain": [
       "Eq(-\\dot{\\phi}**2*r + \\dot{\\phi}*hbar*k/(M*\\gamma*r*sin(\\theta)**2), \\dot{\\phi}*e**2*g*s_z/(2*M**2*\\gamma*c**2*r**2))"
      ]
     },
     "execution_count": 37,
     "metadata": {},
     "output_type": "execute_result"
    }
   ],
   "source": [
    "phi_dot_eq_0 = sp.Eq(phi_dot, phi_dot_eq.expand())\n",
    "expr = phi_dot * r\n",
    "phi_dot_eq_0 = sp.Eq(phi_dot_eq_0.lhs * expr, (phi_dot_eq_0.rhs * expr).expand())\n",
    "expr = phi_dot * k * hbar / M / gamma / r / sp.sin(theta) ** 2\n",
    "phi_dot_eq_0 = sp.Eq(phi_dot_eq_0.lhs - expr, (phi_dot_eq_0.rhs - expr).expand())\n",
    "phi_dot_eq_0 = sp.Eq(-phi_dot_eq_0.lhs, -phi_dot_eq_0.rhs)\n",
    "phi_dot_eq_0"
   ]
  },
  {
   "cell_type": "code",
   "execution_count": 38,
   "metadata": {},
   "outputs": [
    {
     "data": {
      "text/latex": [
       "$\\displaystyle - \\frac{\\dot{\\gamma} \\dot{r}}{\\gamma} + 2 \\dot{\\phi}^{2} r \\sin^{2}{\\left(\\theta \\right)} + \\dot{\\theta}^{2} r - \\frac{\\dot{\\phi} \\hbar k}{M \\gamma r} - \\frac{e^{2}}{M \\gamma r^{2}}$"
      ],
      "text/plain": [
       "-\\dot{\\gamma}*\\dot{r}/\\gamma + 2*\\dot{\\phi}**2*r*sin(\\theta)**2 + \\dot{\\theta}**2*r - \\dot{\\phi}*hbar*k/(M*\\gamma*r) - e**2/(M*\\gamma*r**2)"
      ]
     },
     "execution_count": 38,
     "metadata": {},
     "output_type": "execute_result"
    }
   ],
   "source": [
    "r_ddot_s_1 = r_ddot_s_0.subs(phi_dot_eq_0.rhs, phi_dot_eq_0.lhs).simplify()\n",
    "r_ddot_s_1"
   ]
  },
  {
   "cell_type": "code",
   "execution_count": 39,
   "metadata": {},
   "outputs": [
    {
     "data": {
      "text/latex": [
       "$\\displaystyle \\frac{\\gamma^{2} \\left(\\frac{M \\ddot{\\theta} \\dot{\\theta} \\gamma r^{4} \\sin{\\left(2 \\theta \\right)}}{2} - \\frac{M \\dot{\\phi}^{2} \\dot{\\theta} \\gamma r^{4} \\cos^{2}{\\left(2 \\theta \\right)}}{4} + \\frac{M \\dot{\\phi}^{2} \\dot{\\theta} \\gamma r^{4}}{4} + M \\dot{\\theta}^{2} \\dot{r} \\gamma r^{3} \\sin{\\left(2 \\theta \\right)} - \\dot{\\phi} \\dot{\\theta} \\hbar k r^{2} \\cos{\\left(2 \\theta \\right)} - \\dot{\\phi} \\dot{\\theta} \\hbar k r^{2} - \\frac{\\dot{r} e^{2} \\sin{\\left(2 \\theta \\right)}}{2}\\right)}{M r^{2} \\left(\\dot{\\phi}^{2} \\gamma^{2} r^{2} \\sin^{2}{\\left(\\theta \\right)} + \\dot{r}^{2} \\gamma^{2} + c^{2}\\right) \\cos^{2}{\\left(\\theta \\right)} \\tan{\\left(\\theta \\right)}}$"
      ],
      "text/plain": [
       "\\gamma**2*(M*\\ddot{\\theta}*\\dot{\\theta}*\\gamma*r**4*sin(2*\\theta)/2 - M*\\dot{\\phi}**2*\\dot{\\theta}*\\gamma*r**4*cos(2*\\theta)**2/4 + M*\\dot{\\phi}**2*\\dot{\\theta}*\\gamma*r**4/4 + M*\\dot{\\theta}**2*\\dot{r}*\\gamma*r**3*sin(2*\\theta) - \\dot{\\phi}*\\dot{\\theta}*hbar*k*r**2*cos(2*\\theta) - \\dot{\\phi}*\\dot{\\theta}*hbar*k*r**2 - \\dot{r}*e**2*sin(2*\\theta)/2)/(M*r**2*(\\dot{\\phi}**2*\\gamma**2*r**2*sin(\\theta)**2 + \\dot{r}**2*\\gamma**2 + c**2)*cos(\\theta)**2*tan(\\theta))"
      ]
     },
     "execution_count": 39,
     "metadata": {},
     "output_type": "execute_result"
    }
   ],
   "source": [
    "gamma_dot_eq_0 = sp.solve(gamma_dot_eq.subs(r_ddot, r_ddot_s_1).simplify() - gamma_dot, gamma_dot)[0].simplify()\n",
    "gamma_dot_eq_0"
   ]
  },
  {
   "cell_type": "code",
   "execution_count": 40,
   "metadata": {},
   "outputs": [
    {
     "data": {
      "text/latex": [
       "$\\displaystyle - \\frac{\\dot{\\gamma} \\dot{r}}{\\gamma} + 2 \\dot{\\phi}^{2} r \\sin^{2}{\\left(\\theta \\right)} + \\dot{\\theta}^{2} r - \\frac{\\dot{\\phi} \\hbar k}{M \\gamma r} - \\frac{e^{2}}{M \\gamma r^{2}}$"
      ],
      "text/plain": [
       "-\\dot{\\gamma}*\\dot{r}/\\gamma + 2*\\dot{\\phi}**2*r*sin(\\theta)**2 + \\dot{\\theta}**2*r - \\dot{\\phi}*hbar*k/(M*\\gamma*r) - e**2/(M*\\gamma*r**2)"
      ]
     },
     "execution_count": 40,
     "metadata": {},
     "output_type": "execute_result"
    }
   ],
   "source": [
    "r_ddot_s_1"
   ]
  },
  {
   "cell_type": "markdown",
   "metadata": {},
   "source": [
    "## Developing $\\ddot{\\theta}$ equation"
   ]
  },
  {
   "cell_type": "code",
   "execution_count": 41,
   "metadata": {},
   "outputs": [
    {
     "data": {
      "text/latex": [
       "$\\displaystyle \\sqrt{\\dot{\\phi}^{2} r^{2} \\sin^{2}{\\left(\\theta \\right)} + \\dot{\\theta}^{2} r^{2} + \\dot{r}^{2}}$"
      ],
      "text/plain": [
       "sqrt(\\dot{\\phi}**2*r**2*sin(\\theta)**2 + \\dot{\\theta}**2*r**2 + \\dot{r}**2)"
      ]
     },
     "execution_count": 41,
     "metadata": {},
     "output_type": "execute_result"
    }
   ],
   "source": [
    "theta_v = sp.sqrt(r_dot ** 2 + r ** 2 * theta_dot ** 2 + r ** 2 * sp.sin(theta) ** 2 * phi_dot ** 2)\n",
    "theta_v"
   ]
  },
  {
   "cell_type": "markdown",
   "metadata": {},
   "source": [
    "$\\frac{\\partial L}{\\partial \\dot{\\theta}} = \\frac{\\partial L}{\\partial v} \\frac{\\partial v}{\\partial \\dot{\\theta}} $"
   ]
  },
  {
   "cell_type": "code",
   "execution_count": 42,
   "metadata": {},
   "outputs": [
    {
     "data": {
      "text/latex": [
       "$\\displaystyle \\frac{\\dot{\\theta} r^{2}}{v}$"
      ],
      "text/plain": [
       "\\dot{\\theta}*r**2/v"
      ]
     },
     "execution_count": 42,
     "metadata": {},
     "output_type": "execute_result"
    }
   ],
   "source": [
    "dv_dthetadot = theta_v.diff(theta_dot)\n",
    "dv_dthetadot = dv_dthetadot.subs(theta_v, v)\n",
    "dv_dthetadot"
   ]
  },
  {
   "cell_type": "code",
   "execution_count": 43,
   "metadata": {},
   "outputs": [
    {
     "data": {
      "text/latex": [
       "$\\displaystyle \\frac{\\dot{\\phi}^{2} r^{2} \\sin{\\left(\\theta \\right)} \\cos{\\left(\\theta \\right)}}{v}$"
      ],
      "text/plain": [
       "\\dot{\\phi}**2*r**2*sin(\\theta)*cos(\\theta)/v"
      ]
     },
     "execution_count": 43,
     "metadata": {},
     "output_type": "execute_result"
    }
   ],
   "source": [
    "dv_dtheta = theta_v.diff(theta)\n",
    "dv_dtheta = dv_dtheta.subs(theta_v, v)\n",
    "dv_dtheta"
   ]
  },
  {
   "cell_type": "code",
   "execution_count": 44,
   "metadata": {},
   "outputs": [
    {
     "data": {
      "text/latex": [
       "$\\displaystyle M \\dot{\\theta} \\gamma r^{2}$"
      ],
      "text/plain": [
       "M*\\dot{\\theta}*\\gamma*r**2"
      ]
     },
     "execution_count": 44,
     "metadata": {},
     "output_type": "execute_result"
    }
   ],
   "source": [
    "dL_dthetadot = dL_dv * dv_dthetadot\n",
    "dL_dthetadot"
   ]
  },
  {
   "cell_type": "code",
   "execution_count": 45,
   "metadata": {},
   "outputs": [
    {
     "data": {
      "text/latex": [
       "$\\displaystyle M \\dot{\\phi}^{2} \\gamma r^{2} \\sin{\\left(\\theta \\right)} \\cos{\\left(\\theta \\right)}$"
      ],
      "text/plain": [
       "M*\\dot{\\phi}**2*\\gamma*r**2*sin(\\theta)*cos(\\theta)"
      ]
     },
     "execution_count": 45,
     "metadata": {},
     "output_type": "execute_result"
    }
   ],
   "source": [
    "dL_dtheta = dL_dv * dv_dtheta\n",
    "dL_dtheta"
   ]
  },
  {
   "cell_type": "code",
   "execution_count": 46,
   "metadata": {},
   "outputs": [
    {
     "data": {
      "text/latex": [
       "$\\displaystyle M \\gamma{\\left(t \\right)} r^{2}{\\left(t \\right)} \\frac{d^{2}}{d t^{2}} \\theta{\\left(t \\right)} + 2 M \\gamma{\\left(t \\right)} r{\\left(t \\right)} \\frac{d}{d t} r{\\left(t \\right)} \\frac{d}{d t} \\theta{\\left(t \\right)} + M r^{2}{\\left(t \\right)} \\frac{d}{d t} \\gamma{\\left(t \\right)} \\frac{d}{d t} \\theta{\\left(t \\right)}$"
      ],
      "text/plain": [
       "M*gamma(t)*r(t)**2*Derivative(theta(t), (t, 2)) + 2*M*gamma(t)*r(t)*Derivative(r(t), t)*Derivative(theta(t), t) + M*r(t)**2*Derivative(gamma(t), t)*Derivative(theta(t), t)"
      ]
     },
     "execution_count": 46,
     "metadata": {},
     "output_type": "execute_result"
    }
   ],
   "source": [
    "dL_dthetadot_t = dL_dthetadot.subs({gamma: gamma_t, r_dot: dr_dt, r: r_t, theta_dot: dtheta_dt})\n",
    "dL_dthetadot_t = dL_dthetadot_t.simplify()\n",
    "d_dt_dL_dthetadot = dL_dthetadot_t.diff(t)\n",
    "d_dt_dL_dthetadot"
   ]
  },
  {
   "cell_type": "code",
   "execution_count": 47,
   "metadata": {},
   "outputs": [
    {
     "data": {
      "text/latex": [
       "$\\displaystyle \\frac{M \\gamma{\\left(t \\right)} r^{2}{\\left(t \\right)} \\sin{\\left(2 \\theta{\\left(t \\right)} \\right)} \\left(\\frac{d}{d t} \\phi{\\left(t \\right)}\\right)^{2}}{2}$"
      ],
      "text/plain": [
       "M*gamma(t)*r(t)**2*sin(2*theta(t))*Derivative(phi(t), t)**2/2"
      ]
     },
     "execution_count": 47,
     "metadata": {},
     "output_type": "execute_result"
    }
   ],
   "source": [
    "dL_dtheta_t = dL_dtheta.subs({gamma: gamma_t, r_dot: dr_dt, r: r_t, theta_dot: dtheta_dt, theta: theta_t, phi_dot: dphi_dt})\n",
    "dL_dtheta_t = dL_dtheta_t.simplify()\n",
    "dL_dtheta_t"
   ]
  },
  {
   "cell_type": "code",
   "execution_count": 48,
   "metadata": {},
   "outputs": [
    {
     "data": {
      "text/latex": [
       "$\\displaystyle \\frac{M \\left(- \\gamma{\\left(t \\right)} r{\\left(t \\right)} \\sin{\\left(2 \\theta{\\left(t \\right)} \\right)} \\left(\\frac{d}{d t} \\phi{\\left(t \\right)}\\right)^{2} + 2 \\gamma{\\left(t \\right)} r{\\left(t \\right)} \\frac{d^{2}}{d t^{2}} \\theta{\\left(t \\right)} + 4 \\gamma{\\left(t \\right)} \\frac{d}{d t} r{\\left(t \\right)} \\frac{d}{d t} \\theta{\\left(t \\right)} + 2 r{\\left(t \\right)} \\frac{d}{d t} \\gamma{\\left(t \\right)} \\frac{d}{d t} \\theta{\\left(t \\right)}\\right) r{\\left(t \\right)}}{2}$"
      ],
      "text/plain": [
       "M*(-gamma(t)*r(t)*sin(2*theta(t))*Derivative(phi(t), t)**2 + 2*gamma(t)*r(t)*Derivative(theta(t), (t, 2)) + 4*gamma(t)*Derivative(r(t), t)*Derivative(theta(t), t) + 2*r(t)*Derivative(gamma(t), t)*Derivative(theta(t), t))*r(t)/2"
      ]
     },
     "execution_count": 48,
     "metadata": {},
     "output_type": "execute_result"
    }
   ],
   "source": [
    "theta_ddot_eq_t = d_dt_dL_dthetadot - dL_dtheta_t\n",
    "theta_ddot_eq_t = theta_ddot_eq_t.simplify()\n",
    "theta_ddot_eq_t"
   ]
  },
  {
   "cell_type": "code",
   "execution_count": 49,
   "metadata": {},
   "outputs": [
    {
     "data": {
      "text/latex": [
       "$\\displaystyle \\frac{M r \\left(2 \\ddot{\\theta} \\gamma r + 2 \\dot{\\gamma} \\dot{\\theta} r - \\dot{\\phi}^{2} \\gamma r \\sin{\\left(2 \\theta \\right)} + 4 \\dot{\\theta} \\dot{r} \\gamma\\right)}{2}$"
      ],
      "text/plain": [
       "M*r*(2*\\ddot{\\theta}*\\gamma*r + 2*\\dot{\\gamma}*\\dot{\\theta}*r - \\dot{\\phi}**2*\\gamma*r*sin(2*\\theta) + 4*\\dot{\\theta}*\\dot{r}*\\gamma)/2"
      ]
     },
     "execution_count": 49,
     "metadata": {},
     "output_type": "execute_result"
    }
   ],
   "source": [
    "theta_ddot_eq = theta_ddot_eq_t.subs(t2v)\n",
    "theta_ddot_eq = theta_ddot_eq.simplify()\n",
    "theta_ddot_eq"
   ]
  },
  {
   "cell_type": "code",
   "execution_count": 50,
   "metadata": {},
   "outputs": [
    {
     "data": {
      "text/latex": [
       "$\\displaystyle \\frac{\\gamma \\left(2 M r \\left(2 \\ddot{\\theta} r - \\dot{\\phi}^{2} r \\sin{\\left(2 \\theta \\right)} + 4 \\dot{\\theta} \\dot{r}\\right) \\left(\\dot{\\phi}^{2} \\gamma^{2} r^{2} \\sin^{2}{\\left(\\theta \\right)} + \\dot{r}^{2} \\gamma^{2} + c^{2}\\right) \\cos^{2}{\\left(\\theta \\right)} \\tan{\\left(\\theta \\right)} - \\dot{\\theta} \\gamma \\left(- 2 M \\ddot{\\theta} \\dot{\\theta} \\gamma r^{4} \\sin{\\left(2 \\theta \\right)} + M \\dot{\\phi}^{2} \\dot{\\theta} \\gamma r^{4} \\cos^{2}{\\left(2 \\theta \\right)} - M \\dot{\\phi}^{2} \\dot{\\theta} \\gamma r^{4} - 4 M \\dot{\\theta}^{2} \\dot{r} \\gamma r^{3} \\sin{\\left(2 \\theta \\right)} + 4 \\dot{\\phi} \\dot{\\theta} \\hbar k r^{2} \\cos{\\left(2 \\theta \\right)} + 4 \\dot{\\phi} \\dot{\\theta} \\hbar k r^{2} + 2 \\dot{r} e^{2} \\sin{\\left(2 \\theta \\right)}\\right)\\right)}{4 \\left(\\dot{\\phi}^{2} \\gamma^{2} r^{2} \\sin^{2}{\\left(\\theta \\right)} + \\dot{r}^{2} \\gamma^{2} + c^{2}\\right) \\cos^{2}{\\left(\\theta \\right)} \\tan{\\left(\\theta \\right)}}$"
      ],
      "text/plain": [
       "\\gamma*(2*M*r*(2*\\ddot{\\theta}*r - \\dot{\\phi}**2*r*sin(2*\\theta) + 4*\\dot{\\theta}*\\dot{r})*(\\dot{\\phi}**2*\\gamma**2*r**2*sin(\\theta)**2 + \\dot{r}**2*\\gamma**2 + c**2)*cos(\\theta)**2*tan(\\theta) - \\dot{\\theta}*\\gamma*(-2*M*\\ddot{\\theta}*\\dot{\\theta}*\\gamma*r**4*sin(2*\\theta) + M*\\dot{\\phi}**2*\\dot{\\theta}*\\gamma*r**4*cos(2*\\theta)**2 - M*\\dot{\\phi}**2*\\dot{\\theta}*\\gamma*r**4 - 4*M*\\dot{\\theta}**2*\\dot{r}*\\gamma*r**3*sin(2*\\theta) + 4*\\dot{\\phi}*\\dot{\\theta}*hbar*k*r**2*cos(2*\\theta) + 4*\\dot{\\phi}*\\dot{\\theta}*hbar*k*r**2 + 2*\\dot{r}*e**2*sin(2*\\theta)))/(4*(\\dot{\\phi}**2*\\gamma**2*r**2*sin(\\theta)**2 + \\dot{r}**2*\\gamma**2 + c**2)*cos(\\theta)**2*tan(\\theta))"
      ]
     },
     "execution_count": 50,
     "metadata": {},
     "output_type": "execute_result"
    }
   ],
   "source": [
    "theta_ddot_eq_subs = theta_ddot_eq.subs({gamma_dot: gamma_dot_eq_0}).simplify()\n",
    "theta_ddot_eq_subs"
   ]
  },
  {
   "cell_type": "code",
   "execution_count": 51,
   "metadata": {},
   "outputs": [
    {
     "data": {
      "text/latex": [
       "$\\displaystyle \\frac{M \\dot{\\phi}^{4} \\gamma^{2} r^{4} \\sin^{4}{\\left(\\theta \\right)} \\cos^{2}{\\left(\\theta \\right)} + \\frac{M \\dot{\\phi}^{2} \\dot{\\theta}^{2} \\gamma^{2} r^{4} \\cos^{2}{\\left(2 \\theta \\right)}}{4} - \\frac{M \\dot{\\phi}^{2} \\dot{\\theta}^{2} \\gamma^{2} r^{4}}{4} - 2 M \\dot{\\phi}^{2} \\dot{\\theta} \\dot{r} \\gamma^{2} r^{3} \\sin^{3}{\\left(\\theta \\right)} \\cos{\\left(\\theta \\right)} + \\frac{M \\dot{\\phi}^{2} \\dot{r}^{2} \\gamma^{2} r^{2} \\left(1 - \\cos{\\left(4 \\theta \\right)}\\right)}{8} + \\frac{M \\dot{\\phi}^{2} c^{2} r^{2} \\left(1 - \\cos{\\left(4 \\theta \\right)}\\right)}{8} - M \\dot{\\theta}^{3} \\dot{r} \\gamma^{2} r^{3} \\sin{\\left(2 \\theta \\right)} - M \\dot{\\theta} \\dot{r}^{3} \\gamma^{2} r \\sin{\\left(2 \\theta \\right)} - M \\dot{\\theta} \\dot{r} c^{2} r \\sin{\\left(2 \\theta \\right)} + \\dot{\\phi} \\dot{\\theta}^{2} \\gamma \\hbar k r^{2} \\cos{\\left(2 \\theta \\right)} + \\dot{\\phi} \\dot{\\theta}^{2} \\gamma \\hbar k r^{2} + \\frac{\\dot{\\theta} \\dot{r} \\gamma e^{2} \\sin{\\left(2 \\theta \\right)}}{2}}{M r^{2} \\left(\\dot{\\phi}^{2} \\gamma^{2} r^{2} \\sin^{2}{\\left(\\theta \\right)} + \\dot{\\theta}^{2} \\gamma^{2} r^{2} + \\dot{r}^{2} \\gamma^{2} + c^{2}\\right) \\sin{\\left(\\theta \\right)} \\cos{\\left(\\theta \\right)}}$"
      ],
      "text/plain": [
       "(M*\\dot{\\phi}**4*\\gamma**2*r**4*sin(\\theta)**4*cos(\\theta)**2 + M*\\dot{\\phi}**2*\\dot{\\theta}**2*\\gamma**2*r**4*cos(2*\\theta)**2/4 - M*\\dot{\\phi}**2*\\dot{\\theta}**2*\\gamma**2*r**4/4 - 2*M*\\dot{\\phi}**2*\\dot{\\theta}*\\dot{r}*\\gamma**2*r**3*sin(\\theta)**3*cos(\\theta) + M*\\dot{\\phi}**2*\\dot{r}**2*\\gamma**2*r**2*(1 - cos(4*\\theta))/8 + M*\\dot{\\phi}**2*c**2*r**2*(1 - cos(4*\\theta))/8 - M*\\dot{\\theta}**3*\\dot{r}*\\gamma**2*r**3*sin(2*\\theta) - M*\\dot{\\theta}*\\dot{r}**3*\\gamma**2*r*sin(2*\\theta) - M*\\dot{\\theta}*\\dot{r}*c**2*r*sin(2*\\theta) + \\dot{\\phi}*\\dot{\\theta}**2*\\gamma*hbar*k*r**2*cos(2*\\theta) + \\dot{\\phi}*\\dot{\\theta}**2*\\gamma*hbar*k*r**2 + \\dot{\\theta}*\\dot{r}*\\gamma*e**2*sin(2*\\theta)/2)/(M*r**2*(\\dot{\\phi}**2*\\gamma**2*r**2*sin(\\theta)**2 + \\dot{\\theta}**2*\\gamma**2*r**2 + \\dot{r}**2*\\gamma**2 + c**2)*sin(\\theta)*cos(\\theta))"
      ]
     },
     "execution_count": 51,
     "metadata": {},
     "output_type": "execute_result"
    }
   ],
   "source": [
    "theta_ddot_s_0 = sp.solve(theta_ddot_eq_subs, theta_ddot)[0]\n",
    "theta_ddot_s_0"
   ]
  },
  {
   "cell_type": "code",
   "execution_count": 52,
   "metadata": {},
   "outputs": [
    {
     "data": {
      "text/latex": [
       "$\\displaystyle - \\frac{\\dot{\\gamma} \\dot{\\theta}}{\\gamma} + \\frac{\\dot{\\phi}^{2} \\sin{\\left(2 \\theta \\right)}}{2} - \\frac{2 \\dot{\\theta} \\dot{r}}{r}$"
      ],
      "text/plain": [
       "-\\dot{\\gamma}*\\dot{\\theta}/\\gamma + \\dot{\\phi}**2*sin(2*\\theta)/2 - 2*\\dot{\\theta}*\\dot{r}/r"
      ]
     },
     "execution_count": 52,
     "metadata": {},
     "output_type": "execute_result"
    }
   ],
   "source": [
    "theta_ddot_s_1 = sp.solve(theta_ddot_eq, theta_ddot)[0]\n",
    "theta_ddot_s_1"
   ]
  },
  {
   "cell_type": "code",
   "execution_count": 53,
   "metadata": {},
   "outputs": [
    {
     "data": {
      "text/latex": [
       "$\\displaystyle \\frac{\\gamma^{2} \\left(2 M \\dot{\\phi}^{2} \\dot{\\theta} \\gamma r^{4} \\sin{\\left(\\theta \\right)} \\cos{\\left(\\theta \\right)} - \\frac{2 \\dot{\\phi} \\dot{\\theta} \\hbar k r^{2}}{\\tan{\\left(\\theta \\right)}} - \\dot{r} e^{2}\\right)}{M r^{2} \\left(\\dot{\\phi}^{2} \\gamma^{2} r^{2} \\sin^{2}{\\left(\\theta \\right)} + \\dot{\\theta}^{2} \\gamma^{2} r^{2} + \\dot{r}^{2} \\gamma^{2} + c^{2}\\right)}$"
      ],
      "text/plain": [
       "\\gamma**2*(2*M*\\dot{\\phi}**2*\\dot{\\theta}*\\gamma*r**4*sin(\\theta)*cos(\\theta) - 2*\\dot{\\phi}*\\dot{\\theta}*hbar*k*r**2/tan(\\theta) - \\dot{r}*e**2)/(M*r**2*(\\dot{\\phi}**2*\\gamma**2*r**2*sin(\\theta)**2 + \\dot{\\theta}**2*\\gamma**2*r**2 + \\dot{r}**2*\\gamma**2 + c**2))"
      ]
     },
     "execution_count": 53,
     "metadata": {},
     "output_type": "execute_result"
    }
   ],
   "source": [
    "gamma_dot_eq_1 = gamma_dot_eq_0.subs(theta_ddot, theta_ddot_s_0).simplify()\n",
    "gamma_dot_eq_1"
   ]
  },
  {
   "cell_type": "code",
   "execution_count": 54,
   "metadata": {},
   "outputs": [
    {
     "data": {
      "text/latex": [
       "$\\displaystyle \\frac{2 \\dot{\\phi}^{2} \\dot{\\theta} \\gamma r^{2} \\sin{\\left(\\theta \\right)} \\cos{\\left(\\theta \\right)}}{c^{2}} - \\frac{2 \\dot{\\phi} \\dot{\\theta} \\hbar k}{M c^{2} \\tan{\\left(\\theta \\right)}} - \\frac{\\dot{r} e^{2}}{M c^{2} r^{2}}$"
      ],
      "text/plain": [
       "2*\\dot{\\phi}**2*\\dot{\\theta}*\\gamma*r**2*sin(\\theta)*cos(\\theta)/c**2 - 2*\\dot{\\phi}*\\dot{\\theta}*hbar*k/(M*c**2*tan(\\theta)) - \\dot{r}*e**2/(M*c**2*r**2)"
      ]
     },
     "execution_count": 54,
     "metadata": {},
     "output_type": "execute_result"
    }
   ],
   "source": [
    "gamma_dot_eq_2 = gamma_dot_eq_1.subs(\n",
    "    (-gamma ** 2 * c ** 2 / f_gamma_squared_subs + gamma ** 2 * c ** 2).expand(),\n",
    "    (-gamma ** 2 * c ** 2 / gamma ** 2 + gamma ** 2 * c ** 2).expand()\n",
    ").expand()\n",
    "gamma_dot_eq_2"
   ]
  },
  {
   "cell_type": "code",
   "execution_count": 55,
   "metadata": {},
   "outputs": [
    {
     "data": {
      "text/latex": [
       "$\\displaystyle - \\frac{\\dot{\\phi}^{2} \\dot{\\theta}^{2} r^{2} \\sin{\\left(2 \\theta \\right)}}{c^{2}} + \\frac{\\dot{\\phi}^{2} \\sin{\\left(2 \\theta \\right)}}{2} - \\frac{2 \\dot{\\theta} \\dot{r}}{r} + \\frac{2 \\dot{\\phi} \\dot{\\theta}^{2} \\hbar k}{M \\gamma c^{2} \\tan{\\left(\\theta \\right)}} + \\frac{\\dot{\\theta} \\dot{r} e^{2}}{M \\gamma c^{2} r^{2}}$"
      ],
      "text/plain": [
       "-\\dot{\\phi}**2*\\dot{\\theta}**2*r**2*sin(2*\\theta)/c**2 + \\dot{\\phi}**2*sin(2*\\theta)/2 - 2*\\dot{\\theta}*\\dot{r}/r + 2*\\dot{\\phi}*\\dot{\\theta}**2*hbar*k/(M*\\gamma*c**2*tan(\\theta)) + \\dot{\\theta}*\\dot{r}*e**2/(M*\\gamma*c**2*r**2)"
      ]
     },
     "execution_count": 55,
     "metadata": {},
     "output_type": "execute_result"
    }
   ],
   "source": [
    "theta_ddot_s_2 = theta_ddot_s_1.subs(gamma_dot, gamma_dot_eq_2).simplify()\n",
    "theta_ddot_s_2"
   ]
  },
  {
   "cell_type": "code",
   "execution_count": 56,
   "metadata": {},
   "outputs": [
    {
     "data": {
      "text/latex": [
       "$\\displaystyle - \\frac{\\dot{\\phi}^{2} \\dot{\\theta} \\dot{r} r^{2} \\sin{\\left(2 \\theta \\right)}}{c^{2}} - \\dot{\\phi}^{2} r \\cos{\\left(2 \\theta \\right)} + \\dot{\\phi}^{2} r + \\dot{\\theta}^{2} r + \\frac{2 \\dot{\\phi} \\dot{\\theta} \\dot{r} \\hbar k}{M \\gamma c^{2} \\tan{\\left(\\theta \\right)}} - \\frac{\\dot{\\phi} \\hbar k}{M \\gamma r} + \\frac{\\dot{r}^{2} e^{2}}{M \\gamma c^{2} r^{2}} - \\frac{e^{2}}{M \\gamma r^{2}}$"
      ],
      "text/plain": [
       "-\\dot{\\phi}**2*\\dot{\\theta}*\\dot{r}*r**2*sin(2*\\theta)/c**2 - \\dot{\\phi}**2*r*cos(2*\\theta) + \\dot{\\phi}**2*r + \\dot{\\theta}**2*r + 2*\\dot{\\phi}*\\dot{\\theta}*\\dot{r}*hbar*k/(M*\\gamma*c**2*tan(\\theta)) - \\dot{\\phi}*hbar*k/(M*\\gamma*r) + \\dot{r}**2*e**2/(M*\\gamma*c**2*r**2) - e**2/(M*\\gamma*r**2)"
      ]
     },
     "execution_count": 56,
     "metadata": {},
     "output_type": "execute_result"
    }
   ],
   "source": [
    "r_ddot_s_2 = r_ddot_s_1.subs(gamma_dot, gamma_dot_eq_2).simplify()\n",
    "r_ddot_s_2"
   ]
  },
  {
   "cell_type": "markdown",
   "metadata": {},
   "source": [
    "## Simplifying the equations"
   ]
  },
  {
   "cell_type": "markdown",
   "metadata": {},
   "source": [
    "### Simplifying $\\ddot{r}$ equation"
   ]
  },
  {
   "cell_type": "code",
   "execution_count": 57,
   "metadata": {},
   "outputs": [
    {
     "data": {
      "text/latex": [
       "$\\displaystyle - \\frac{\\dot{\\phi}^{2} \\dot{\\theta} \\dot{r} r^{2} \\sin{\\left(2 \\theta \\right)}}{c^{2}} - \\dot{\\phi}^{2} r \\cos{\\left(2 \\theta \\right)} + \\dot{\\phi}^{2} r + \\dot{\\theta}^{2} r + \\frac{2 \\dot{\\phi} \\dot{\\theta} \\dot{r} \\hbar k}{M \\gamma c^{2} \\tan{\\left(\\theta \\right)}} - \\frac{\\dot{\\phi} \\hbar k}{M \\gamma r} + \\frac{\\dot{r}^{2} e^{2}}{M \\gamma c^{2} r^{2}} - \\frac{e^{2}}{M \\gamma r^{2}}$"
      ],
      "text/plain": [
       "-\\dot{\\phi}**2*\\dot{\\theta}*\\dot{r}*r**2*sin(2*\\theta)/c**2 - \\dot{\\phi}**2*r*cos(2*\\theta) + \\dot{\\phi}**2*r + \\dot{\\theta}**2*r + 2*\\dot{\\phi}*\\dot{\\theta}*\\dot{r}*hbar*k/(M*\\gamma*c**2*tan(\\theta)) - \\dot{\\phi}*hbar*k/(M*\\gamma*r) + \\dot{r}**2*e**2/(M*\\gamma*c**2*r**2) - e**2/(M*\\gamma*r**2)"
      ]
     },
     "execution_count": 57,
     "metadata": {},
     "output_type": "execute_result"
    }
   ],
   "source": [
    "r_ddot_s_2"
   ]
  },
  {
   "cell_type": "code",
   "execution_count": 58,
   "metadata": {},
   "outputs": [
    {
     "data": {
      "text/latex": [
       "$\\displaystyle 2 \\dot{\\phi}^{2} r \\left(- \\frac{\\dot{\\theta} \\dot{r} r \\cos{\\left(\\theta \\right)}}{c^{2}} + 1\\right) \\sin^{2}{\\left(\\theta \\right)} + \\dot{\\theta}^{2} r + \\frac{2 \\dot{\\phi} \\dot{\\theta} \\dot{r} \\hbar k}{M \\gamma c^{2} \\tan{\\left(\\theta \\right)}} - \\frac{\\dot{\\phi} \\hbar k}{M \\gamma r} + \\frac{e^{2} \\left(\\frac{\\dot{r}^{2}}{c^{2}} - 1\\right)}{M \\gamma r^{2}}$"
      ],
      "text/plain": [
       "2*\\dot{\\phi}**2*r*(-\\dot{\\theta}*\\dot{r}*r*cos(\\theta)/c**2 + 1)*sin(\\theta)**2 + \\dot{\\theta}**2*r + 2*\\dot{\\phi}*\\dot{\\theta}*\\dot{r}*hbar*k/(M*\\gamma*c**2*tan(\\theta)) - \\dot{\\phi}*hbar*k/(M*\\gamma*r) + e**2*(\\dot{r}**2/c**2 - 1)/(M*\\gamma*r**2)"
      ]
     },
     "execution_count": 58,
     "metadata": {},
     "output_type": "execute_result"
    }
   ],
   "source": [
    "r_ddot_s_3 = r_ddot_s_2.subs(sp.cos(2 * theta), 1 - 2 * sp.sin(theta) ** 2\n",
    "        ).subs(sp.sin(2 * theta), 2 * sp.sin(theta) * sp.cos(theta)\n",
    ").collect([phi_dot ** 2 * r]\n",
    ").subs(\n",
    "    r * (-2 * theta_dot * r_dot * r * sp.sin(theta) * sp.cos(theta) / c ** 2 + 2 * sp.sin(theta) ** 2),\n",
    "    r * sp.sin(theta) ** 2 * 2 * (-theta_dot * r_dot * r * sp.cos(theta) / c ** 2 + 1)\n",
    ").collect(e ** 2 / M / gamma / r ** 2)\n",
    "r_ddot_s_3"
   ]
  },
  {
   "cell_type": "markdown",
   "metadata": {},
   "source": [
    "### Simplifying $\\ddot{\\theta}$ equation"
   ]
  },
  {
   "cell_type": "code",
   "execution_count": 60,
   "metadata": {},
   "outputs": [
    {
     "data": {
      "text/latex": [
       "$\\displaystyle - \\frac{\\dot{\\phi}^{2} \\dot{\\theta}^{2} r^{2} \\sin{\\left(2 \\theta \\right)}}{c^{2}} + \\frac{\\dot{\\phi}^{2} \\sin{\\left(2 \\theta \\right)}}{2} - \\frac{2 \\dot{\\theta} \\dot{r}}{r} + \\frac{2 \\dot{\\phi} \\dot{\\theta}^{2} \\hbar k}{M \\gamma c^{2} \\tan{\\left(\\theta \\right)}} + \\frac{\\dot{\\theta} \\dot{r} e^{2}}{M \\gamma c^{2} r^{2}}$"
      ],
      "text/plain": [
       "-\\dot{\\phi}**2*\\dot{\\theta}**2*r**2*sin(2*\\theta)/c**2 + \\dot{\\phi}**2*sin(2*\\theta)/2 - 2*\\dot{\\theta}*\\dot{r}/r + 2*\\dot{\\phi}*\\dot{\\theta}**2*hbar*k/(M*\\gamma*c**2*tan(\\theta)) + \\dot{\\theta}*\\dot{r}*e**2/(M*\\gamma*c**2*r**2)"
      ]
     },
     "execution_count": 60,
     "metadata": {},
     "output_type": "execute_result"
    }
   ],
   "source": [
    "theta_ddot_s_2"
   ]
  },
  {
   "cell_type": "code",
   "execution_count": 61,
   "metadata": {},
   "outputs": [
    {
     "data": {
      "text/latex": [
       "$\\displaystyle \\dot{\\phi}^{2} \\left(- \\frac{2 \\dot{\\theta}^{2} r^{2}}{c^{2}} + 1\\right) \\sin{\\left(\\theta \\right)} \\cos{\\left(\\theta \\right)} - \\frac{2 \\dot{\\theta} \\dot{r} \\left(1 - \\frac{e^{2}}{2 M \\gamma c^{2} r}\\right)}{r} + \\frac{2 \\dot{\\phi} \\dot{\\theta}^{2} \\hbar k}{M \\gamma c^{2} \\tan{\\left(\\theta \\right)}}$"
      ],
      "text/plain": [
       "\\dot{\\phi}**2*(-2*\\dot{\\theta}**2*r**2/c**2 + 1)*sin(\\theta)*cos(\\theta) - 2*\\dot{\\theta}*\\dot{r}*(1 - e**2/(2*M*\\gamma*c**2*r))/r + 2*\\dot{\\phi}*\\dot{\\theta}**2*hbar*k/(M*\\gamma*c**2*tan(\\theta))"
      ]
     },
     "execution_count": 61,
     "metadata": {},
     "output_type": "execute_result"
    }
   ],
   "source": [
    "theta_ddot_s_3 = theta_ddot_s_2.subs(sp.sin(2 * theta), 2 * sp.sin(theta) * sp.cos(theta)\n",
    "            ).collect([phi_dot ** 2 * sp.sin(theta) * sp.cos(theta)]\n",
    "            ).collect([r_dot * theta_dot /  r]\n",
    "            ).subs(r_dot * (-2 + e ** 2 / M / gamma / c ** 2 / r), r_dot * (- e ** 2 / M / gamma / c ** 2 / r / 2 + 1) * -2 )\n",
    "theta_ddot_s_3"
   ]
  },
  {
   "cell_type": "markdown",
   "metadata": {},
   "source": [
    "## In Summary the equations of motion:\n",
    "- $\\ddot r = 2 \\dot{\\phi}^{2} r \\sin^{2}{\\left(\\theta \\right)} \\left(1 - \\frac{\\dot{\\theta} \\dot{r} r \\cos{\\left(\\theta \\right)}}{c^{2}}\\right) + \\dot{\\theta}^{2} r - \\frac{e^{2}}{M \\gamma r^{2}} \\left(1 - (\\frac{\\dot{r}}{c})^2\\right) + \\frac{2 \\dot{\\phi} \\dot{\\theta} \\dot{r} \\hbar k}{M \\gamma c^{2} \\tan{\\left(\\theta \\right)}} - \\frac{\\dot{\\phi} \\hbar k}{M \\gamma r}$\n",
    "\n",
    "- $\\ddot \\theta = \\dot{\\phi}^{2} \\sin{\\left(\\theta \\right)} \\cos{\\left(\\theta \\right)}\\left(1 - \\frac{2 \\dot{\\theta}^{2} r^{2}}{c^{2}}\\right) - \\frac{2 \\dot{\\theta} \\dot{r}}{r}\\left(1 - \\frac{e^{2}}{2 M \\gamma c^{2} r}\\right) + \\frac{2 \\dot{\\phi} \\dot{\\theta}^{2} \\hbar k}{M \\gamma c^{2} \\tan{\\left(\\theta \\right)}}$\n",
    "\n",
    "- $ \\dot \\phi = \\frac{\\hbar k}{M \\gamma r^{2} \\sin^{2}{\\left(\\theta \\right)}} - \\frac{e^{2} g s_{z}}{2 M^{2} \\gamma c^{2} r^{3}}$"
   ]
  }
 ],
 "metadata": {
  "kernelspec": {
   "display_name": "base",
   "language": "python",
   "name": "python3"
  },
  "language_info": {
   "codemirror_mode": {
    "name": "ipython",
    "version": 3
   },
   "file_extension": ".py",
   "mimetype": "text/x-python",
   "name": "python",
   "nbconvert_exporter": "python",
   "pygments_lexer": "ipython3",
   "version": "3.12.2"
  }
 },
 "nbformat": 4,
 "nbformat_minor": 2
}
