{
 "cells": [
  {
   "cell_type": "code",
   "execution_count": 1,
   "metadata": {},
   "outputs": [],
   "source": [
    "import sympy as sp"
   ]
  },
  {
   "cell_type": "code",
   "execution_count": 2,
   "metadata": {},
   "outputs": [],
   "source": [
    "t, v = sp.symbols('t v', real=True)\n",
    "r = sp.Symbol('r', real=True, positive=True)\n",
    "v_dot = sp.Symbol('\\\\dot{v}', real=True)\n",
    "theta, phi = sp.symbols('\\\\theta \\\\phi', real=True)\n",
    "r_dot, phi_dot, theta_dot = sp.symbols('\\\\dot{r} \\\\dot{\\\\phi} \\\\dot{\\\\theta}', real=True)\n",
    "r_ddot, theta_ddot, phi_ddot = sp.symbols('\\\\ddot{r} \\\\ddot{\\\\theta} \\\\ddot{\\\\phi}', real=True)\n",
    "M, c, e = sp.symbols('M c e', positive = True)\n",
    "\n",
    "p_phi, r_0, v_0, theta_rv = sp.symbols('p_{\\\\phi} r_0 v_0 \\\\theta_rv', real=True)\n",
    "\n",
    "U_e = sp.Function('U')(r)\n",
    "\n",
    "r_t = sp.Function('r')(t)\n",
    "theta_t = sp.Function('theta')(t)\n",
    "phi_t = sp.Function('phi')(t)\n",
    "v_t = sp.Function('v')(t)\n",
    "\n",
    "dr_dt = r_t.diff(t)\n",
    "dtheta_dt = theta_t.diff(t)\n",
    "dphi_dt = phi_t.diff(t)"
   ]
  },
  {
   "cell_type": "code",
   "execution_count": 3,
   "metadata": {},
   "outputs": [
    {
     "data": {
      "text/plain": [
       "{Derivative(r(t), (t, 2)): \\ddot{r},\n",
       " Derivative(r(t), t): \\dot{r},\n",
       " r(t): r,\n",
       " Derivative(phi(t), (t, 2)): \\ddot{\\phi},\n",
       " Derivative(phi(t), t): \\dot{\\phi},\n",
       " phi(t): \\phi,\n",
       " Derivative(theta(t), (t, 2)): \\ddot{\\theta},\n",
       " Derivative(theta(t), t): \\dot{\\theta},\n",
       " theta(t): \\theta,\n",
       " Derivative(v(t), t): 0,\n",
       " v(t): v}"
      ]
     },
     "execution_count": 3,
     "metadata": {},
     "output_type": "execute_result"
    }
   ],
   "source": [
    "t2v = {\n",
    "    r_t.diff(t).diff(t): r_ddot,\n",
    "    r_t.diff(t): r_dot,\n",
    "    r_t: r, \n",
    "    phi_t.diff(t).diff(t): phi_ddot,\n",
    "    phi_t.diff(t): phi_dot,\n",
    "    phi_t: phi,\n",
    "    theta_t.diff(t).diff(t): theta_ddot,\n",
    "    theta_t.diff(t): theta_dot,\n",
    "    theta_t: theta,\n",
    "    v_t.diff(t): v.diff(t),\n",
    "    v_t: v,\n",
    "}\n",
    "t2v"
   ]
  },
  {
   "cell_type": "code",
   "execution_count": 4,
   "metadata": {},
   "outputs": [
    {
     "data": {
      "text/plain": [
       "{\\ddot{r}: Derivative(r(t), (t, 2)),\n",
       " \\dot{r}: Derivative(r(t), t),\n",
       " r: r(t),\n",
       " \\ddot{\\phi}: Derivative(phi(t), (t, 2)),\n",
       " \\dot{\\phi}: Derivative(phi(t), t),\n",
       " \\phi: phi(t),\n",
       " \\ddot{\\theta}: Derivative(theta(t), (t, 2)),\n",
       " \\dot{\\theta}: Derivative(theta(t), t),\n",
       " \\theta: theta(t),\n",
       " \\dot{v}: Derivative(v(t), t),\n",
       " v: v(t)}"
      ]
     },
     "execution_count": 4,
     "metadata": {},
     "output_type": "execute_result"
    }
   ],
   "source": [
    "v2t = {\n",
    "    r_ddot: r_t.diff(t).diff(t),\n",
    "    r_dot: r_t.diff(t),\n",
    "    r: r_t,\n",
    "    phi_ddot: phi_t.diff(t).diff(t),\n",
    "    phi_dot: phi_t.diff(t),\n",
    "    phi: phi_t,\n",
    "    theta_ddot: theta_t.diff(t).diff(t),\n",
    "    theta_dot: theta_t.diff(t),\n",
    "    theta: theta_t,\n",
    "    v_dot: v_t.diff(t),\n",
    "    v: v_t,\n",
    "}\n",
    "v2t"
   ]
  },
  {
   "cell_type": "code",
   "execution_count": 5,
   "metadata": {},
   "outputs": [
    {
     "data": {
      "text/latex": [
       "$\\displaystyle 0.5 M v^{2} - U{\\left(r \\right)}$"
      ],
      "text/plain": [
       "0.5*M*v**2 - U(r)"
      ]
     },
     "execution_count": 5,
     "metadata": {},
     "output_type": "execute_result"
    }
   ],
   "source": [
    "L = 1 / 2 * M * v ** 2 - U_e\n",
    "L"
   ]
  },
  {
   "cell_type": "markdown",
   "metadata": {},
   "source": [
    "## Developing $\\ddot{r}$ equation\n",
    "the Euler-Lagrange equation is: $\\frac{\\partial}{\\partial t} (\\frac{\\partial L}{\\partial \\dot r})= \\frac{\\partial L}{\\partial r}$\n"
   ]
  },
  {
   "cell_type": "code",
   "execution_count": 6,
   "metadata": {},
   "outputs": [],
   "source": [
    "v_squared = r_dot ** 2 + r ** 2 * theta_dot ** 2 + r ** 2 * sp.sin(theta) ** 2 * phi_dot ** 2\n",
    "f_gamma = (1 / sp.sqrt(1 - v ** 2 / c ** 2))"
   ]
  },
  {
   "cell_type": "markdown",
   "metadata": {},
   "source": [
    "Notice that by differentiation by chain rule $\\frac{\\partial L}{\\partial \\dot r} = \\frac{\\partial L}{\\partial v} \\frac{\\partial v}{\\partial \\dot{r}} = \\frac{\\partial L}{\\partial v} \\frac{\\partial v}{\\partial \\dot{r}} $"
   ]
  },
  {
   "cell_type": "code",
   "execution_count": 7,
   "metadata": {},
   "outputs": [
    {
     "data": {
      "text/latex": [
       "$\\displaystyle 1.0 M v$"
      ],
      "text/plain": [
       "1.0*M*v"
      ]
     },
     "execution_count": 7,
     "metadata": {},
     "output_type": "execute_result"
    }
   ],
   "source": [
    "dL_dv = L.diff(v)\n",
    "dL_dv"
   ]
  },
  {
   "cell_type": "code",
   "execution_count": 8,
   "metadata": {},
   "outputs": [
    {
     "data": {
      "text/latex": [
       "$\\displaystyle \\frac{\\dot{r}}{v}$"
      ],
      "text/plain": [
       "\\dot{r}/v"
      ]
     },
     "execution_count": 8,
     "metadata": {},
     "output_type": "execute_result"
    }
   ],
   "source": [
    "dv_drdot = sp.sqrt(v_squared).diff(r_dot)\n",
    "dv_drdot = dv_drdot.subs(sp.sqrt(v_squared), v)\n",
    "dv_drdot"
   ]
  },
  {
   "cell_type": "code",
   "execution_count": 9,
   "metadata": {},
   "outputs": [
    {
     "data": {
      "text/latex": [
       "$\\displaystyle 1.0 M \\dot{r}$"
      ],
      "text/plain": [
       "1.0*M*\\dot{r}"
      ]
     },
     "execution_count": 9,
     "metadata": {},
     "output_type": "execute_result"
    }
   ],
   "source": [
    "dL_drdot = dL_dv * dv_drdot\n",
    "dL_drdot = dL_drdot.simplify()\n",
    "dL_drdot"
   ]
  },
  {
   "cell_type": "code",
   "execution_count": 10,
   "metadata": {},
   "outputs": [
    {
     "data": {
      "text/latex": [
       "$\\displaystyle 1.0 M \\frac{d}{d t} r{\\left(t \\right)}$"
      ],
      "text/plain": [
       "1.0*M*Derivative(r(t), t)"
      ]
     },
     "execution_count": 10,
     "metadata": {},
     "output_type": "execute_result"
    }
   ],
   "source": [
    "dL_drdot_t = dL_drdot.subs(v2t)\n",
    "dL_drdot_t = dL_drdot_t.simplify()\n",
    "dL_drdot_t"
   ]
  },
  {
   "cell_type": "markdown",
   "metadata": {},
   "source": [
    "And here is the left side of the Euler-Lagrange equation:"
   ]
  },
  {
   "cell_type": "code",
   "execution_count": 11,
   "metadata": {},
   "outputs": [
    {
     "data": {
      "text/latex": [
       "$\\displaystyle 1.0 M \\frac{d^{2}}{d t^{2}} r{\\left(t \\right)}$"
      ],
      "text/plain": [
       "1.0*M*Derivative(r(t), (t, 2))"
      ]
     },
     "execution_count": 11,
     "metadata": {},
     "output_type": "execute_result"
    }
   ],
   "source": [
    "d_dt_dL_drdot = dL_drdot_t.diff(t)\n",
    "d_dt_dL_drdot"
   ]
  },
  {
   "cell_type": "markdown",
   "metadata": {},
   "source": [
    "Now lets start with the right side of the Euler-Lagrange equation $\\frac{\\partial L}{\\partial r}$,\n",
    "Notice that by differentiation by chain rule:\n",
    "\n",
    "$\\frac{\\partial L}{\\partial r} = \\frac{\\partial L}{\\partial v} \\frac{\\partial v}{\\partial r} - \\frac{\\partial}{\\partial r} U(r)$\n"
   ]
  },
  {
   "cell_type": "code",
   "execution_count": 12,
   "metadata": {},
   "outputs": [
    {
     "data": {
      "text/latex": [
       "$\\displaystyle \\frac{\\dot{\\phi}^{2} r \\sin^{2}{\\left(\\theta \\right)} + \\dot{\\theta}^{2} r}{v}$"
      ],
      "text/plain": [
       "(\\dot{\\phi}**2*r*sin(\\theta)**2 + \\dot{\\theta}**2*r)/v"
      ]
     },
     "execution_count": 12,
     "metadata": {},
     "output_type": "execute_result"
    }
   ],
   "source": [
    "dv_dr = sp.sqrt(v_squared).diff(r)\n",
    "dv_dr = dv_dr.subs(sp.sqrt(v_squared), v)\n",
    "dv_dr"
   ]
  },
  {
   "cell_type": "code",
   "execution_count": 13,
   "metadata": {},
   "outputs": [
    {
     "data": {
      "text/latex": [
       "$\\displaystyle 1.0 M r \\left(\\dot{\\phi}^{2} \\sin^{2}{\\left(\\theta \\right)} + \\dot{\\theta}^{2}\\right) - \\frac{d}{d r} U{\\left(r \\right)}$"
      ],
      "text/plain": [
       "1.0*M*r*(\\dot{\\phi}**2*sin(\\theta)**2 + \\dot{\\theta}**2) - Derivative(U(r), r)"
      ]
     },
     "execution_count": 13,
     "metadata": {},
     "output_type": "execute_result"
    }
   ],
   "source": [
    "dL_dr = dL_dv * dv_dr - U_e.diff(r)\n",
    "dL_dr = dL_dr.simplify()\n",
    "dL_dr"
   ]
  },
  {
   "cell_type": "code",
   "execution_count": 14,
   "metadata": {},
   "outputs": [
    {
     "data": {
      "text/latex": [
       "$\\displaystyle \\frac{- 1.0 M \\left(\\sin^{2}{\\left(\\theta{\\left(t \\right)} \\right)} \\left(\\frac{d}{d t} \\phi{\\left(t \\right)}\\right)^{2} + \\left(\\frac{d}{d t} \\theta{\\left(t \\right)}\\right)^{2}\\right) r{\\left(t \\right)} + 1.0 M \\frac{d^{2}}{d t^{2}} r{\\left(t \\right)} + \\frac{d}{d r{\\left(t \\right)}} U{\\left(r{\\left(t \\right)} \\right)}}{M}$"
      ],
      "text/plain": [
       "(-1.0*M*(sin(theta(t))**2*Derivative(phi(t), t)**2 + Derivative(theta(t), t)**2)*r(t) + 1.0*M*Derivative(r(t), (t, 2)) + Derivative(U(r(t)), r(t)))/M"
      ]
     },
     "execution_count": 14,
     "metadata": {},
     "output_type": "execute_result"
    }
   ],
   "source": [
    "r_ddot_eq = d_dt_dL_drdot - dL_dr.subs(v2t)\n",
    "r_ddot_eq = (r_ddot_eq / M).simplify()\n",
    "r_ddot_eq.simplify()"
   ]
  },
  {
   "cell_type": "code",
   "execution_count": 15,
   "metadata": {},
   "outputs": [
    {
     "data": {
      "text/latex": [
       "$\\displaystyle \\frac{1.0 M \\ddot{r} - 1.0 M r \\left(\\dot{\\phi}^{2} \\sin^{2}{\\left(\\theta \\right)} + \\dot{\\theta}^{2}\\right) + \\frac{d}{d r} U{\\left(r \\right)}}{M}$"
      ],
      "text/plain": [
       "(1.0*M*\\ddot{r} - 1.0*M*r*(\\dot{\\phi}**2*sin(\\theta)**2 + \\dot{\\theta}**2) + Derivative(U(r), r))/M"
      ]
     },
     "execution_count": 15,
     "metadata": {},
     "output_type": "execute_result"
    }
   ],
   "source": [
    "r_ddot_eq = r_ddot_eq.subs(t2v)\n",
    "r_ddot_eq"
   ]
  },
  {
   "cell_type": "code",
   "execution_count": 16,
   "metadata": {},
   "outputs": [
    {
     "data": {
      "text/latex": [
       "$\\displaystyle \\frac{M r \\left(\\dot{\\phi}^{2} \\sin^{2}{\\left(\\theta \\right)} + \\dot{\\theta}^{2}\\right) - \\frac{d}{d r} U{\\left(r \\right)}}{M}$"
      ],
      "text/plain": [
       "(M*r*(\\dot{\\phi}**2*sin(\\theta)**2 + \\dot{\\theta}**2) - Derivative(U(r), r))/M"
      ]
     },
     "execution_count": 16,
     "metadata": {},
     "output_type": "execute_result"
    }
   ],
   "source": [
    "r_ddot_s_0 = sp.solve(r_ddot_eq, r_ddot)[0]\n",
    "r_ddot_s_0"
   ]
  },
  {
   "cell_type": "markdown",
   "metadata": {},
   "source": [
    "### Developing $\\dot{\\phi}$ equation\n",
    "Lets find what $\\dot{\\phi}$ equals to, using the Euler-Lagrange equation for $\\phi$:\n",
    "\n",
    "Notice that:\n",
    "$\\frac{\\partial L}{\\partial \\dot{\\phi}} = \\frac{\\partial L}{\\partial v} \\frac{\\partial v}{\\partial \\dot{\\phi}}$"
   ]
  },
  {
   "cell_type": "code",
   "execution_count": 17,
   "metadata": {},
   "outputs": [
    {
     "data": {
      "text/latex": [
       "$\\displaystyle \\frac{\\dot{\\phi} r^{2} \\sin^{2}{\\left(\\theta \\right)}}{v}$"
      ],
      "text/plain": [
       "\\dot{\\phi}*r**2*sin(\\theta)**2/v"
      ]
     },
     "execution_count": 17,
     "metadata": {},
     "output_type": "execute_result"
    }
   ],
   "source": [
    "dv_dphidot = sp.sqrt(v_squared).diff(phi_dot)\n",
    "dv_dphidot = dv_dphidot.subs(sp.sqrt(v_squared), v)\n",
    "dv_dphidot"
   ]
  },
  {
   "cell_type": "code",
   "execution_count": 18,
   "metadata": {},
   "outputs": [
    {
     "data": {
      "text/latex": [
       "$\\displaystyle 1.0 M \\dot{\\phi} r^{2} \\sin^{2}{\\left(\\theta \\right)}$"
      ],
      "text/plain": [
       "1.0*M*\\dot{\\phi}*r**2*sin(\\theta)**2"
      ]
     },
     "execution_count": 18,
     "metadata": {},
     "output_type": "execute_result"
    }
   ],
   "source": [
    "dL_dphidot = dL_dv * dv_dphidot\n",
    "dL_dphidot"
   ]
  },
  {
   "cell_type": "code",
   "execution_count": 19,
   "metadata": {},
   "outputs": [
    {
     "data": {
      "text/latex": [
       "$\\displaystyle \\frac{p_{\\phi}}{M r^{2} \\sin^{2}{\\left(\\theta \\right)}}$"
      ],
      "text/plain": [
       "p_{\\phi}/(M*r**2*sin(\\theta)**2)"
      ]
     },
     "execution_count": 19,
     "metadata": {},
     "output_type": "execute_result"
    }
   ],
   "source": [
    "phi_dot_eq = sp.solve(dL_dphidot - p_phi, phi_dot)[0]\n",
    "phi_dot_eq"
   ]
  },
  {
   "cell_type": "code",
   "execution_count": 20,
   "metadata": {},
   "outputs": [
    {
     "data": {
      "text/latex": [
       "$\\displaystyle \\frac{p_{\\phi}}{M r^{2}{\\left(t \\right)} \\sin^{2}{\\left(\\theta{\\left(t \\right)} \\right)}}$"
      ],
      "text/plain": [
       "p_{\\phi}/(M*r(t)**2*sin(theta(t))**2)"
      ]
     },
     "execution_count": 20,
     "metadata": {},
     "output_type": "execute_result"
    }
   ],
   "source": [
    "dphi_dt_eq = phi_dot_eq.subs(v2t)\n",
    "dphi_dt_eq.expand()"
   ]
  },
  {
   "cell_type": "code",
   "execution_count": 21,
   "metadata": {},
   "outputs": [
    {
     "data": {
      "text/latex": [
       "$\\displaystyle - \\frac{2 \\dot{\\phi} \\dot{\\theta} \\cos{\\left(\\theta \\right)}}{\\sin{\\left(\\theta \\right)}} - \\frac{2 \\dot{\\phi} \\dot{r}}{r}$"
      ],
      "text/plain": [
       "-2*\\dot{\\phi}*\\dot{\\theta}*cos(\\theta)/sin(\\theta) - 2*\\dot{\\phi}*\\dot{r}/r"
      ]
     },
     "execution_count": 21,
     "metadata": {},
     "output_type": "execute_result"
    }
   ],
   "source": [
    "dphi_dtt_eq = dphi_dt_eq.diff(t).subs(t2v).subs(phi_dot_eq, phi_dot)\n",
    "dphi_dtt_eq.expand()"
   ]
  },
  {
   "cell_type": "markdown",
   "metadata": {},
   "source": [
    "From the Euler-Lagrange equation: $\\frac{\\partial}{\\partial t} (\\frac{\\partial L}{\\partial \\dot{\\phi}}) = 0 \\to \\gamma M r^2 \\dot{\\phi} = p_{\\phi} \\to \\dot{\\phi} = \\frac{p_{\\phi}}{\\gamma M r^2}$"
   ]
  },
  {
   "cell_type": "code",
   "execution_count": 22,
   "metadata": {},
   "outputs": [
    {
     "data": {
      "text/latex": [
       "$\\displaystyle \\frac{r^{2}{\\left(t \\right)} \\sin^{2}{\\left(\\theta{\\left(t \\right)} \\right)} \\frac{d}{d t} \\phi{\\left(t \\right)} \\frac{d^{2}}{d t^{2}} \\phi{\\left(t \\right)} + r^{2}{\\left(t \\right)} \\sin{\\left(\\theta{\\left(t \\right)} \\right)} \\cos{\\left(\\theta{\\left(t \\right)} \\right)} \\left(\\frac{d}{d t} \\phi{\\left(t \\right)}\\right)^{2} \\frac{d}{d t} \\theta{\\left(t \\right)} + r^{2}{\\left(t \\right)} \\frac{d}{d t} \\theta{\\left(t \\right)} \\frac{d^{2}}{d t^{2}} \\theta{\\left(t \\right)} + r{\\left(t \\right)} \\sin^{2}{\\left(\\theta{\\left(t \\right)} \\right)} \\left(\\frac{d}{d t} \\phi{\\left(t \\right)}\\right)^{2} \\frac{d}{d t} r{\\left(t \\right)} + r{\\left(t \\right)} \\frac{d}{d t} r{\\left(t \\right)} \\left(\\frac{d}{d t} \\theta{\\left(t \\right)}\\right)^{2} + \\frac{d}{d t} r{\\left(t \\right)} \\frac{d^{2}}{d t^{2}} r{\\left(t \\right)}}{v{\\left(t \\right)}}$"
      ],
      "text/plain": [
       "(r(t)**2*sin(theta(t))**2*Derivative(phi(t), t)*Derivative(phi(t), (t, 2)) + r(t)**2*sin(theta(t))*cos(theta(t))*Derivative(phi(t), t)**2*Derivative(theta(t), t) + r(t)**2*Derivative(theta(t), t)*Derivative(theta(t), (t, 2)) + r(t)*sin(theta(t))**2*Derivative(phi(t), t)**2*Derivative(r(t), t) + r(t)*Derivative(r(t), t)*Derivative(theta(t), t)**2 + Derivative(r(t), t)*Derivative(r(t), (t, 2)))/v(t)"
      ]
     },
     "execution_count": 22,
     "metadata": {},
     "output_type": "execute_result"
    }
   ],
   "source": [
    "f_v_t = sp.sqrt(v_squared).subs(v2t)\n",
    "dv_dt = f_v_t.diff(t).subs(f_v_t, v_t)\n",
    "dv_dt"
   ]
  },
  {
   "cell_type": "code",
   "execution_count": 23,
   "metadata": {},
   "outputs": [
    {
     "data": {
      "text/latex": [
       "$\\displaystyle \\frac{\\ddot{\\phi} \\dot{\\phi} r^{2} \\sin^{2}{\\left(\\theta \\right)} + \\ddot{\\theta} \\dot{\\theta} r^{2} + \\ddot{r} \\dot{r} + \\dot{\\phi}^{2} \\dot{\\theta} r^{2} \\sin{\\left(\\theta \\right)} \\cos{\\left(\\theta \\right)} + \\dot{\\phi}^{2} \\dot{r} r \\sin^{2}{\\left(\\theta \\right)} + \\dot{\\theta}^{2} \\dot{r} r}{v}$"
      ],
      "text/plain": [
       "(\\ddot{\\phi}*\\dot{\\phi}*r**2*sin(\\theta)**2 + \\ddot{\\theta}*\\dot{\\theta}*r**2 + \\ddot{r}*\\dot{r} + \\dot{\\phi}**2*\\dot{\\theta}*r**2*sin(\\theta)*cos(\\theta) + \\dot{\\phi}**2*\\dot{r}*r*sin(\\theta)**2 + \\dot{\\theta}**2*\\dot{r}*r)/v"
      ]
     },
     "execution_count": 23,
     "metadata": {},
     "output_type": "execute_result"
    }
   ],
   "source": [
    "dv_dt.subs(t2v)"
   ]
  },
  {
   "cell_type": "code",
   "execution_count": 24,
   "metadata": {},
   "outputs": [
    {
     "data": {
      "text/latex": [
       "$\\displaystyle \\frac{p_{\\phi}}{M r^{2}{\\left(t \\right)} \\sin^{2}{\\left(\\theta{\\left(t \\right)} \\right)}}$"
      ],
      "text/plain": [
       "p_{\\phi}/(M*r(t)**2*sin(theta(t))**2)"
      ]
     },
     "execution_count": 24,
     "metadata": {},
     "output_type": "execute_result"
    }
   ],
   "source": [
    "phi_dot_eq_t = phi_dot_eq.subs(v2t)\n",
    "phi_dot_eq_t"
   ]
  },
  {
   "cell_type": "code",
   "execution_count": 25,
   "metadata": {},
   "outputs": [
    {
     "data": {
      "text/latex": [
       "$\\displaystyle - \\dot{\\phi}^{2} r + \\frac{\\dot{\\phi} p_{\\phi}}{M r \\sin^{2}{\\left(\\theta \\right)}} = 0$"
      ],
      "text/plain": [
       "Eq(-\\dot{\\phi}**2*r + \\dot{\\phi}*p_{\\phi}/(M*r*sin(\\theta)**2), 0)"
      ]
     },
     "execution_count": 25,
     "metadata": {},
     "output_type": "execute_result"
    }
   ],
   "source": [
    "phi_dot_eq_0 = sp.Eq(phi_dot, phi_dot_eq.expand())\n",
    "expr = phi_dot * r\n",
    "phi_dot_eq_0 = sp.Eq(phi_dot_eq_0.lhs * expr, (phi_dot_eq_0.rhs * expr).expand())\n",
    "expr = phi_dot * p_phi  / M / r / sp.sin(theta) ** 2\n",
    "phi_dot_eq_0 = sp.Eq(phi_dot_eq_0.lhs - expr, (phi_dot_eq_0.rhs - expr).expand())\n",
    "phi_dot_eq_0 = sp.Eq(-phi_dot_eq_0.lhs, -phi_dot_eq_0.rhs)\n",
    "phi_dot_eq_0"
   ]
  },
  {
   "cell_type": "code",
   "execution_count": 26,
   "metadata": {},
   "outputs": [
    {
     "data": {
      "text/latex": [
       "$\\displaystyle \\frac{M r \\left(\\dot{\\phi}^{2} \\sin^{2}{\\left(\\theta \\right)} + \\dot{\\theta}^{2}\\right) - \\frac{d}{d r} U{\\left(r \\right)}}{M}$"
      ],
      "text/plain": [
       "(M*r*(\\dot{\\phi}**2*sin(\\theta)**2 + \\dot{\\theta}**2) - Derivative(U(r), r))/M"
      ]
     },
     "execution_count": 26,
     "metadata": {},
     "output_type": "execute_result"
    }
   ],
   "source": [
    "r_ddot_s_1 = r_ddot_s_0.subs(phi_dot_eq_0.rhs, phi_dot_eq_0.lhs).simplify()\n",
    "r_ddot_s_1"
   ]
  },
  {
   "cell_type": "code",
   "execution_count": 27,
   "metadata": {},
   "outputs": [
    {
     "data": {
      "text/latex": [
       "$\\displaystyle \\frac{M r \\left(\\dot{\\phi}^{2} \\sin^{2}{\\left(\\theta \\right)} + \\dot{\\theta}^{2}\\right) - \\frac{d}{d r} U{\\left(r \\right)}}{M}$"
      ],
      "text/plain": [
       "(M*r*(\\dot{\\phi}**2*sin(\\theta)**2 + \\dot{\\theta}**2) - Derivative(U(r), r))/M"
      ]
     },
     "execution_count": 27,
     "metadata": {},
     "output_type": "execute_result"
    }
   ],
   "source": [
    "r_ddot_s_1"
   ]
  },
  {
   "cell_type": "markdown",
   "metadata": {},
   "source": [
    "## Developing $\\ddot{\\theta}$ equation"
   ]
  },
  {
   "cell_type": "code",
   "execution_count": 28,
   "metadata": {},
   "outputs": [
    {
     "data": {
      "text/latex": [
       "$\\displaystyle \\sqrt{\\dot{\\phi}^{2} r^{2} \\sin^{2}{\\left(\\theta \\right)} + \\dot{\\theta}^{2} r^{2} + \\dot{r}^{2}}$"
      ],
      "text/plain": [
       "sqrt(\\dot{\\phi}**2*r**2*sin(\\theta)**2 + \\dot{\\theta}**2*r**2 + \\dot{r}**2)"
      ]
     },
     "execution_count": 28,
     "metadata": {},
     "output_type": "execute_result"
    }
   ],
   "source": [
    "theta_v = sp.sqrt(r_dot ** 2 + r ** 2 * theta_dot ** 2 + r ** 2 * sp.sin(theta) ** 2 * phi_dot ** 2)\n",
    "theta_v"
   ]
  },
  {
   "cell_type": "markdown",
   "metadata": {},
   "source": [
    "$\\frac{\\partial L}{\\partial \\dot{\\theta}} = \\frac{\\partial L}{\\partial v} \\frac{\\partial v}{\\partial \\dot{\\theta}} $"
   ]
  },
  {
   "cell_type": "code",
   "execution_count": 29,
   "metadata": {},
   "outputs": [
    {
     "data": {
      "text/latex": [
       "$\\displaystyle \\frac{\\dot{\\theta} r^{2}}{v}$"
      ],
      "text/plain": [
       "\\dot{\\theta}*r**2/v"
      ]
     },
     "execution_count": 29,
     "metadata": {},
     "output_type": "execute_result"
    }
   ],
   "source": [
    "dv_dthetadot = theta_v.diff(theta_dot)\n",
    "dv_dthetadot = dv_dthetadot.subs(theta_v, v)\n",
    "dv_dthetadot"
   ]
  },
  {
   "cell_type": "code",
   "execution_count": 30,
   "metadata": {},
   "outputs": [
    {
     "data": {
      "text/latex": [
       "$\\displaystyle \\frac{\\dot{\\phi}^{2} r^{2} \\sin{\\left(\\theta \\right)} \\cos{\\left(\\theta \\right)}}{v}$"
      ],
      "text/plain": [
       "\\dot{\\phi}**2*r**2*sin(\\theta)*cos(\\theta)/v"
      ]
     },
     "execution_count": 30,
     "metadata": {},
     "output_type": "execute_result"
    }
   ],
   "source": [
    "dv_dtheta = theta_v.diff(theta)\n",
    "dv_dtheta = dv_dtheta.subs(theta_v, v)\n",
    "dv_dtheta"
   ]
  },
  {
   "cell_type": "code",
   "execution_count": 31,
   "metadata": {},
   "outputs": [
    {
     "data": {
      "text/latex": [
       "$\\displaystyle 1.0 M \\dot{\\theta} r^{2}$"
      ],
      "text/plain": [
       "1.0*M*\\dot{\\theta}*r**2"
      ]
     },
     "execution_count": 31,
     "metadata": {},
     "output_type": "execute_result"
    }
   ],
   "source": [
    "dL_dthetadot = dL_dv * dv_dthetadot\n",
    "dL_dthetadot"
   ]
  },
  {
   "cell_type": "code",
   "execution_count": 32,
   "metadata": {},
   "outputs": [
    {
     "data": {
      "text/latex": [
       "$\\displaystyle 1.0 M \\dot{\\phi}^{2} r^{2} \\sin{\\left(\\theta \\right)} \\cos{\\left(\\theta \\right)}$"
      ],
      "text/plain": [
       "1.0*M*\\dot{\\phi}**2*r**2*sin(\\theta)*cos(\\theta)"
      ]
     },
     "execution_count": 32,
     "metadata": {},
     "output_type": "execute_result"
    }
   ],
   "source": [
    "dL_dtheta = dL_dv * dv_dtheta\n",
    "dL_dtheta"
   ]
  },
  {
   "cell_type": "code",
   "execution_count": 33,
   "metadata": {},
   "outputs": [
    {
     "data": {
      "text/latex": [
       "$\\displaystyle 1.0 M r^{2}{\\left(t \\right)} \\frac{d^{2}}{d t^{2}} \\theta{\\left(t \\right)} + 2.0 M r{\\left(t \\right)} \\frac{d}{d t} r{\\left(t \\right)} \\frac{d}{d t} \\theta{\\left(t \\right)}$"
      ],
      "text/plain": [
       "1.0*M*r(t)**2*Derivative(theta(t), (t, 2)) + 2.0*M*r(t)*Derivative(r(t), t)*Derivative(theta(t), t)"
      ]
     },
     "execution_count": 33,
     "metadata": {},
     "output_type": "execute_result"
    }
   ],
   "source": [
    "dL_dthetadot_t = dL_dthetadot.subs(v2t)\n",
    "dL_dthetadot_t = dL_dthetadot_t.simplify()\n",
    "d_dt_dL_dthetadot = dL_dthetadot_t.diff(t)\n",
    "d_dt_dL_dthetadot"
   ]
  },
  {
   "cell_type": "code",
   "execution_count": 34,
   "metadata": {},
   "outputs": [
    {
     "data": {
      "text/latex": [
       "$\\displaystyle 0.5 M r^{2}{\\left(t \\right)} \\sin{\\left(2 \\theta{\\left(t \\right)} \\right)} \\left(\\frac{d}{d t} \\phi{\\left(t \\right)}\\right)^{2}$"
      ],
      "text/plain": [
       "0.5*M*r(t)**2*sin(2*theta(t))*Derivative(phi(t), t)**2"
      ]
     },
     "execution_count": 34,
     "metadata": {},
     "output_type": "execute_result"
    }
   ],
   "source": [
    "dL_dtheta_t = dL_dtheta.subs(v2t)\n",
    "dL_dtheta_t = dL_dtheta_t.simplify()\n",
    "dL_dtheta_t"
   ]
  },
  {
   "cell_type": "code",
   "execution_count": 35,
   "metadata": {},
   "outputs": [
    {
     "data": {
      "text/latex": [
       "$\\displaystyle M \\left(- 0.5 r{\\left(t \\right)} \\sin{\\left(2 \\theta{\\left(t \\right)} \\right)} \\left(\\frac{d}{d t} \\phi{\\left(t \\right)}\\right)^{2} + 1.0 r{\\left(t \\right)} \\frac{d^{2}}{d t^{2}} \\theta{\\left(t \\right)} + 2.0 \\frac{d}{d t} r{\\left(t \\right)} \\frac{d}{d t} \\theta{\\left(t \\right)}\\right) r{\\left(t \\right)}$"
      ],
      "text/plain": [
       "M*(-0.5*r(t)*sin(2*theta(t))*Derivative(phi(t), t)**2 + 1.0*r(t)*Derivative(theta(t), (t, 2)) + 2.0*Derivative(r(t), t)*Derivative(theta(t), t))*r(t)"
      ]
     },
     "execution_count": 35,
     "metadata": {},
     "output_type": "execute_result"
    }
   ],
   "source": [
    "theta_ddot_eq_t = d_dt_dL_dthetadot - dL_dtheta_t\n",
    "theta_ddot_eq_t = theta_ddot_eq_t.simplify()\n",
    "theta_ddot_eq_t"
   ]
  },
  {
   "cell_type": "code",
   "execution_count": 36,
   "metadata": {},
   "outputs": [
    {
     "data": {
      "text/latex": [
       "$\\displaystyle M r \\left(1.0 \\ddot{\\theta} r - 0.5 \\dot{\\phi}^{2} r \\sin{\\left(2 \\theta \\right)} + 2.0 \\dot{\\theta} \\dot{r}\\right)$"
      ],
      "text/plain": [
       "M*r*(1.0*\\ddot{\\theta}*r - 0.5*\\dot{\\phi}**2*r*sin(2*\\theta) + 2.0*\\dot{\\theta}*\\dot{r})"
      ]
     },
     "execution_count": 36,
     "metadata": {},
     "output_type": "execute_result"
    }
   ],
   "source": [
    "theta_ddot_eq = theta_ddot_eq_t.subs(t2v)\n",
    "theta_ddot_eq = theta_ddot_eq.simplify()\n",
    "theta_ddot_eq"
   ]
  },
  {
   "cell_type": "code",
   "execution_count": 37,
   "metadata": {},
   "outputs": [
    {
     "data": {
      "text/latex": [
       "$\\displaystyle 0.5 \\dot{\\phi}^{2} \\sin{\\left(2.0 \\theta \\right)} - \\frac{2.0 \\dot{\\theta} \\dot{r}}{r}$"
      ],
      "text/plain": [
       "0.5*\\dot{\\phi}**2*sin(2.0*\\theta) - 2.0*\\dot{\\theta}*\\dot{r}/r"
      ]
     },
     "execution_count": 37,
     "metadata": {},
     "output_type": "execute_result"
    }
   ],
   "source": [
    "theta_ddot_s_0 = sp.solve(theta_ddot_eq, theta_ddot)[0]\n",
    "theta_ddot_s_0"
   ]
  },
  {
   "cell_type": "code",
   "execution_count": 38,
   "metadata": {},
   "outputs": [
    {
     "data": {
      "text/latex": [
       "$\\displaystyle 0.5 \\dot{\\phi}^{2} \\sin{\\left(2.0 \\theta \\right)} - \\frac{2.0 \\dot{\\theta} \\dot{r}}{r}$"
      ],
      "text/plain": [
       "0.5*\\dot{\\phi}**2*sin(2.0*\\theta) - 2.0*\\dot{\\theta}*\\dot{r}/r"
      ]
     },
     "execution_count": 38,
     "metadata": {},
     "output_type": "execute_result"
    }
   ],
   "source": [
    "theta_ddot_s_1 = sp.solve(theta_ddot_eq, theta_ddot)[0]\n",
    "theta_ddot_s_1"
   ]
  },
  {
   "cell_type": "code",
   "execution_count": 39,
   "metadata": {},
   "outputs": [
    {
     "data": {
      "text/latex": [
       "$\\displaystyle \\dot{\\phi}^{2} r \\sin^{2}{\\left(\\theta \\right)} + \\dot{\\theta}^{2} r - \\frac{\\frac{d}{d r} U{\\left(r \\right)}}{M}$"
      ],
      "text/plain": [
       "\\dot{\\phi}**2*r*sin(\\theta)**2 + \\dot{\\theta}**2*r - Derivative(U(r), r)/M"
      ]
     },
     "execution_count": 39,
     "metadata": {},
     "output_type": "execute_result"
    }
   ],
   "source": [
    "r_ddot_s_1.expand()"
   ]
  },
  {
   "cell_type": "code",
   "execution_count": 41,
   "metadata": {},
   "outputs": [
    {
     "data": {
      "text/latex": [
       "$\\displaystyle \\frac{p_{\\phi}}{M r^{2} \\sin^{2}{\\left(\\theta \\right)}}$"
      ],
      "text/plain": [
       "p_{\\phi}/(M*r**2*sin(\\theta)**2)"
      ]
     },
     "execution_count": 41,
     "metadata": {},
     "output_type": "execute_result"
    }
   ],
   "source": [
    "phi_dot_eq"
   ]
  },
  {
   "cell_type": "code",
   "execution_count": 40,
   "metadata": {},
   "outputs": [
    {
     "data": {
      "text/latex": [
       "$\\displaystyle \\dot{\\theta}^{2} r - \\frac{\\frac{d}{d r} U{\\left(r \\right)}}{M} + \\frac{p_{\\phi}^{2}}{M^{2} r^{3} \\sin^{2}{\\left(\\theta \\right)}}$"
      ],
      "text/plain": [
       "\\dot{\\theta}**2*r - Derivative(U(r), r)/M + p_{\\phi}**2/(M**2*r**3*sin(\\theta)**2)"
      ]
     },
     "execution_count": 40,
     "metadata": {},
     "output_type": "execute_result"
    }
   ],
   "source": [
    "r_ddot_s_1.subs(phi_dot, phi_dot_eq).expand()"
   ]
  },
  {
   "cell_type": "markdown",
   "metadata": {},
   "source": [
    "## In Summary the equations of motion:\n",
    "- $\\ddot r = \\dot{\\phi}^{2} r \\sin^{2}{\\left(\\theta \\right)} + \\dot{\\theta}^{2} r - \\frac{\\frac{d}{dr}U(r)}{M}$\n",
    "\n",
    "- $\\ddot \\theta = \\dot{\\phi}^{2} \\sin{\\left(\\theta \\right)} \\cos{\\left(\\theta \\right)} - \\frac{2 \\dot{\\theta} \\dot{r}}{r}$\n",
    "\n",
    "- $ \\dot \\phi = \\frac{p_{\\phi}}{M r^{2} \\sin^{2}{\\left(\\theta \\right)}}$"
   ]
  }
 ],
 "metadata": {
  "kernelspec": {
   "display_name": ".venv",
   "language": "python",
   "name": "python3"
  },
  "language_info": {
   "codemirror_mode": {
    "name": "ipython",
    "version": 3
   },
   "file_extension": ".py",
   "mimetype": "text/x-python",
   "name": "python",
   "nbconvert_exporter": "python",
   "pygments_lexer": "ipython3",
   "version": "3.12.3"
  }
 },
 "nbformat": 4,
 "nbformat_minor": 2
}
