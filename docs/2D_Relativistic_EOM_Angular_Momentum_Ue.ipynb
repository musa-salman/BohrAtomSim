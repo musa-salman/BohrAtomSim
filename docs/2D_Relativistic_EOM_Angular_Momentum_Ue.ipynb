{
 "cells": [
  {
   "cell_type": "code",
   "execution_count": 36,
   "metadata": {},
   "outputs": [],
   "source": [
    "import sympy as sp"
   ]
  },
  {
   "cell_type": "markdown",
   "metadata": {},
   "source": [
    "Euler-Lagrange equation:\n",
    "\n",
    "$\\frac{\\partial}{\\partial t} (\\frac{\\partial L}{\\partial \\dot q})= \\frac{\\partial L}{\\partial q}$"
   ]
  },
  {
   "cell_type": "code",
   "execution_count": 37,
   "metadata": {},
   "outputs": [],
   "source": [
    "t, v = sp.symbols('t v', real=True)\n",
    "r = sp.Symbol('r', real=True, positive=True)\n",
    "psi, gamma = sp.symbols('\\\\psi \\\\gamma', real=True)\n",
    "r_dot, psi_dot, gamma_dot = sp.symbols('\\\\dot{r} \\\\dot{\\\\psi} \\\\dot{\\\\gamma}', real=True)\n",
    "r_ddot = sp.symbols('\\\\ddot{r}', real=True)\n",
    "M, c, e = sp.symbols('M c e', positive = True)\n",
    "\n",
    "p_psi, r_0, v_0, theta_rv = sp.symbols('p_psi r_0 v_0 \\\\theta_rv', real=True)\n",
    "\n",
    "U_e = sp.Function('U')(r)\n",
    "\n",
    "r_t = sp.Function('r')(t)\n",
    "psi_t = sp.Function('psi')(t)\n",
    "gamma_t = sp.Function('gamma')(t)\n",
    "U_e_t = sp.Function('p')(r_t)\n",
    "\n",
    "dr_dt = r_t.diff(t)\n",
    "dpsi_dt = psi_t.diff(t)\n",
    "dgamma_dt = gamma_t.diff(t)"
   ]
  },
  {
   "cell_type": "code",
   "execution_count": 38,
   "metadata": {},
   "outputs": [],
   "source": [
    "L = -M * c ** 2 / gamma - U_e"
   ]
  },
  {
   "cell_type": "markdown",
   "metadata": {},
   "source": [
    "## Developing $\\ddot{r}$ equation\n",
    "the Euler-Lagrange equation is: $\\frac{\\partial}{\\partial t} (\\frac{\\partial L}{\\partial \\dot r})= \\frac{\\partial L}{\\partial r}$\n"
   ]
  },
  {
   "cell_type": "code",
   "execution_count": 39,
   "metadata": {},
   "outputs": [],
   "source": [
    "v_squared = r_dot ** 2 + r ** 2 * psi_dot ** 2\n",
    "f_gamma = (1 / sp.sqrt(1 - v ** 2 / c ** 2))"
   ]
  },
  {
   "cell_type": "markdown",
   "metadata": {},
   "source": [
    "Notice that by differentiation by chain rule $\\frac{\\partial L}{\\partial \\dot r} = \\frac{\\partial L}{\\partial \\gamma} \\frac{\\partial \\gamma}{\\partial v} \\frac{\\partial v}{\\partial \\dot{r}} = \\frac{\\partial L}{\\partial v} \\frac{\\partial v}{\\partial \\dot{r}} $"
   ]
  },
  {
   "cell_type": "code",
   "execution_count": 40,
   "metadata": {},
   "outputs": [
    {
     "data": {
      "text/latex": [
       "$\\displaystyle \\frac{M c^{2}}{\\gamma^{2}}$"
      ],
      "text/plain": [
       "M*c**2/\\gamma**2"
      ]
     },
     "execution_count": 40,
     "metadata": {},
     "output_type": "execute_result"
    }
   ],
   "source": [
    "dL_dgamma = L.diff(gamma)\n",
    "dL_dgamma = dL_dgamma\n",
    "dL_dgamma"
   ]
  },
  {
   "cell_type": "code",
   "execution_count": 41,
   "metadata": {},
   "outputs": [
    {
     "data": {
      "text/latex": [
       "$\\displaystyle \\frac{\\gamma^{3} v}{c^{2}}$"
      ],
      "text/plain": [
       "\\gamma**3*v/c**2"
      ]
     },
     "execution_count": 41,
     "metadata": {},
     "output_type": "execute_result"
    }
   ],
   "source": [
    "dgamma_dv = f_gamma.diff(v)\n",
    "dgamma_dv = dgamma_dv.subs(f_gamma, gamma)\n",
    "dgamma_dv"
   ]
  },
  {
   "cell_type": "code",
   "execution_count": 42,
   "metadata": {},
   "outputs": [
    {
     "data": {
      "text/latex": [
       "$\\displaystyle \\frac{\\dot{r}}{v}$"
      ],
      "text/plain": [
       "\\dot{r}/v"
      ]
     },
     "execution_count": 42,
     "metadata": {},
     "output_type": "execute_result"
    }
   ],
   "source": [
    "dv_drdot = sp.sqrt(v_squared).diff(r_dot)\n",
    "dv_drdot = dv_drdot.subs(sp.sqrt(v_squared), v)\n",
    "dv_drdot"
   ]
  },
  {
   "cell_type": "code",
   "execution_count": 43,
   "metadata": {},
   "outputs": [
    {
     "data": {
      "text/latex": [
       "$\\displaystyle M \\dot{r} \\gamma$"
      ],
      "text/plain": [
       "M*\\dot{r}*\\gamma"
      ]
     },
     "execution_count": 43,
     "metadata": {},
     "output_type": "execute_result"
    }
   ],
   "source": [
    "dL_drdot = dL_dgamma * dgamma_dv * dv_drdot\n",
    "dL_drdot = dL_drdot.simplify()\n",
    "dL_drdot"
   ]
  },
  {
   "cell_type": "code",
   "execution_count": 44,
   "metadata": {},
   "outputs": [
    {
     "data": {
      "text/latex": [
       "$\\displaystyle M \\gamma{\\left(t \\right)} \\frac{d}{d t} r{\\left(t \\right)}$"
      ],
      "text/plain": [
       "M*gamma(t)*Derivative(r(t), t)"
      ]
     },
     "execution_count": 44,
     "metadata": {},
     "output_type": "execute_result"
    }
   ],
   "source": [
    "dL_drdot_t = dL_drdot.subs({gamma: gamma_t, r_dot: dr_dt})\n",
    "dL_drdot_t = dL_drdot_t.simplify()\n",
    "dL_drdot_t"
   ]
  },
  {
   "cell_type": "markdown",
   "metadata": {},
   "source": [
    "And here is the left side of the Euler-Lagrange equation:"
   ]
  },
  {
   "cell_type": "code",
   "execution_count": 45,
   "metadata": {},
   "outputs": [
    {
     "data": {
      "text/latex": [
       "$\\displaystyle M \\gamma{\\left(t \\right)} \\frac{d^{2}}{d t^{2}} r{\\left(t \\right)} + M \\frac{d}{d t} \\gamma{\\left(t \\right)} \\frac{d}{d t} r{\\left(t \\right)}$"
      ],
      "text/plain": [
       "M*gamma(t)*Derivative(r(t), (t, 2)) + M*Derivative(gamma(t), t)*Derivative(r(t), t)"
      ]
     },
     "execution_count": 45,
     "metadata": {},
     "output_type": "execute_result"
    }
   ],
   "source": [
    "d_dt_dL_drdot = dL_drdot_t.diff(t)\n",
    "d_dt_dL_drdot"
   ]
  },
  {
   "cell_type": "markdown",
   "metadata": {},
   "source": [
    "Now lets start with the right side of the Euler-Lagrange equation $\\frac{\\partial L}{\\partial r}$,\n",
    "Notice that by differentiation by chain rule:\n",
    "\n",
    "$\\frac{\\partial L}{\\partial r} = \\frac{\\partial L}{\\partial v} \\frac{\\partial v}{\\partial r} - e ^ 2  / r ^ 2$\n",
    "\n",
    "Notice that $\\frac{\\partial L}{\\partial v} = \\frac{\\partial L}{\\partial \\gamma} \\frac{\\partial \\gamma}{\\partial v}$"
   ]
  },
  {
   "cell_type": "code",
   "execution_count": 46,
   "metadata": {},
   "outputs": [
    {
     "data": {
      "text/latex": [
       "$\\displaystyle M \\gamma v$"
      ],
      "text/plain": [
       "M*\\gamma*v"
      ]
     },
     "execution_count": 46,
     "metadata": {},
     "output_type": "execute_result"
    }
   ],
   "source": [
    "dL_dv = dL_dgamma * dgamma_dv\n",
    "dL_dv = dL_dv.simplify()\n",
    "dL_dv"
   ]
  },
  {
   "cell_type": "code",
   "execution_count": 47,
   "metadata": {},
   "outputs": [
    {
     "data": {
      "text/latex": [
       "$\\displaystyle \\frac{\\dot{\\psi}^{2} r}{v}$"
      ],
      "text/plain": [
       "\\dot{\\psi}**2*r/v"
      ]
     },
     "execution_count": 47,
     "metadata": {},
     "output_type": "execute_result"
    }
   ],
   "source": [
    "dv_dr = sp.sqrt(v_squared).diff(r)\n",
    "dv_dr = dv_dr.subs(sp.sqrt(v_squared), v)\n",
    "dv_dr"
   ]
  },
  {
   "cell_type": "code",
   "execution_count": 48,
   "metadata": {},
   "outputs": [
    {
     "data": {
      "text/latex": [
       "$\\displaystyle M \\dot{\\psi}^{2} \\gamma r + \\frac{d}{d r} U{\\left(r \\right)}$"
      ],
      "text/plain": [
       "M*\\dot{\\psi}**2*\\gamma*r + Derivative(U(r), r)"
      ]
     },
     "execution_count": 48,
     "metadata": {},
     "output_type": "execute_result"
    }
   ],
   "source": [
    "dL_dr = dL_dv * dv_dr + U_e.diff(r)\n",
    "dL_dr = dL_dr.simplify()\n",
    "dL_dr"
   ]
  },
  {
   "cell_type": "code",
   "execution_count": 49,
   "metadata": {},
   "outputs": [
    {
     "data": {
      "text/latex": [
       "$\\displaystyle - r{\\left(t \\right)} \\left(\\frac{d}{d t} \\psi{\\left(t \\right)}\\right)^{2} + \\frac{d^{2}}{d t^{2}} r{\\left(t \\right)} + \\frac{\\frac{d}{d t} \\gamma{\\left(t \\right)} \\frac{d}{d t} r{\\left(t \\right)}}{\\gamma{\\left(t \\right)}} - \\frac{\\frac{d}{d r{\\left(t \\right)}} U{\\left(r{\\left(t \\right)} \\right)}}{M \\gamma{\\left(t \\right)}}$"
      ],
      "text/plain": [
       "-r(t)*Derivative(psi(t), t)**2 + Derivative(r(t), (t, 2)) + Derivative(gamma(t), t)*Derivative(r(t), t)/gamma(t) - Derivative(U(r(t)), r(t))/(M*gamma(t))"
      ]
     },
     "execution_count": 49,
     "metadata": {},
     "output_type": "execute_result"
    }
   ],
   "source": [
    "r_ddot_eq = d_dt_dL_drdot - dL_dr.subs({r: r_t, gamma: gamma_t, psi_dot: psi_t.diff(t)})\n",
    "r_ddot_eq = (r_ddot_eq / M / gamma_t).simplify()\n",
    "r_ddot_eq.simplify()"
   ]
  },
  {
   "cell_type": "markdown",
   "metadata": {},
   "source": [
    "### Developing $\\dot{\\phi}$ equation\n",
    "Lets find what $\\dot{\\phi}$ equals to, using the Euler-Lagrange equation for $\\phi$:\n",
    "\n",
    "Notice that:\n",
    "$\\frac{\\partial L}{\\partial \\dot{\\phi}} = \\frac{\\partial L}{\\partial v} \\frac{\\partial v}{\\partial \\dot{\\phi}}$"
   ]
  },
  {
   "cell_type": "code",
   "execution_count": 50,
   "metadata": {},
   "outputs": [
    {
     "data": {
      "text/latex": [
       "$\\displaystyle \\frac{\\dot{\\psi} r^{2}}{v}$"
      ],
      "text/plain": [
       "\\dot{\\psi}*r**2/v"
      ]
     },
     "execution_count": 50,
     "metadata": {},
     "output_type": "execute_result"
    }
   ],
   "source": [
    "dv_dpsidot = sp.sqrt(v_squared).diff(psi_dot)\n",
    "dv_dpsidot = dv_dpsidot.subs(sp.sqrt(v_squared), v)\n",
    "dv_dpsidot"
   ]
  },
  {
   "cell_type": "code",
   "execution_count": 51,
   "metadata": {},
   "outputs": [
    {
     "data": {
      "text/latex": [
       "$\\displaystyle M \\dot{\\psi} \\gamma r^{2}$"
      ],
      "text/plain": [
       "M*\\dot{\\psi}*\\gamma*r**2"
      ]
     },
     "execution_count": 51,
     "metadata": {},
     "output_type": "execute_result"
    }
   ],
   "source": [
    "dL_dpsidot = dL_dv * dv_dpsidot\n",
    "dL_dpsidot"
   ]
  },
  {
   "cell_type": "markdown",
   "metadata": {},
   "source": [
    "From the Euler-Lagrange equation: $\\frac{\\partial}{\\partial t} (\\frac{\\partial L}{\\partial \\dot{\\psi}}) = 0 \\to \\gamma M r^2 \\dot{\\psi} = p_{\\psi} \\to \\dot{\\psi} = \\frac{p_{\\psi}}{\\gamma M r^2}$"
   ]
  },
  {
   "cell_type": "code",
   "execution_count": 52,
   "metadata": {},
   "outputs": [],
   "source": [
    "v_t = sp.Function('v')(t)"
   ]
  },
  {
   "cell_type": "code",
   "execution_count": 53,
   "metadata": {},
   "outputs": [
    {
     "data": {
      "text/latex": [
       "$\\displaystyle \\frac{\\gamma^{3}{\\left(t \\right)} v{\\left(t \\right)} \\frac{d}{d t} v{\\left(t \\right)}}{c^{2}}$"
      ],
      "text/plain": [
       "gamma(t)**3*v(t)*Derivative(v(t), t)/c**2"
      ]
     },
     "execution_count": 53,
     "metadata": {},
     "output_type": "execute_result"
    }
   ],
   "source": [
    "f_gamma_t = f_gamma.subs(v, v_t)\n",
    "dgamma_dt = f_gamma_t.diff(t)\n",
    "dgamma_dt = dgamma_dt.subs(f_gamma_t, gamma_t) \n",
    "dgamma_dt"
   ]
  },
  {
   "cell_type": "code",
   "execution_count": 54,
   "metadata": {},
   "outputs": [
    {
     "data": {
      "text/latex": [
       "$\\displaystyle \\frac{p_{\\psi}^{2} \\left(- \\dot{r}^{2} + c^{2}\\right)}{r^{2} \\left(M^{2} c^{2} r^{2} + p_{\\psi}^{2}\\right)}$"
      ],
      "text/plain": [
       "p_psi**2*(-\\dot{r}**2 + c**2)/(r**2*(M**2*c**2*r**2 + p_psi**2))"
      ]
     },
     "execution_count": 54,
     "metadata": {},
     "output_type": "execute_result"
    }
   ],
   "source": [
    "gamma_eq = f_gamma.subs({v: sp.sqrt(v_squared)})\n",
    "psi_dot_eq = p_psi / gamma / M / r ** 2\n",
    "psi_dot_eq_subs = psi_dot_eq.subs({gamma: gamma_eq})\n",
    "psi_dot_squared_eq = psi_dot_eq_subs ** 2\n",
    "psi_dot_s = sp.solve(psi_dot_squared_eq - psi_dot ** 2, psi_dot)[1]\n",
    "psi_dot_s_squared = psi_dot_s ** 2\n",
    "psi_dot_s_squared"
   ]
  },
  {
   "cell_type": "code",
   "execution_count": 55,
   "metadata": {},
   "outputs": [
    {
     "data": {
      "text/latex": [
       "$\\displaystyle \\frac{p_{\\psi} \\sqrt{c^{2} - \\left(\\frac{d}{d t} r{\\left(t \\right)}\\right)^{2}}}{\\sqrt{M^{2} c^{2} r^{2}{\\left(t \\right)} + p_{\\psi}^{2}} r{\\left(t \\right)}}$"
      ],
      "text/plain": [
       "p_psi*sqrt(c**2 - Derivative(r(t), t)**2)/(sqrt(M**2*c**2*r(t)**2 + p_psi**2)*r(t))"
      ]
     },
     "execution_count": 55,
     "metadata": {},
     "output_type": "execute_result"
    }
   ],
   "source": [
    "psi_dot_s_t = psi_dot_s.subs({r_dot: dr_dt, r: r_t, gamma: gamma_t})\n",
    "psi_dot_s_t"
   ]
  },
  {
   "cell_type": "code",
   "execution_count": 56,
   "metadata": {},
   "outputs": [
    {
     "data": {
      "text/latex": [
       "$\\displaystyle \\frac{- \\frac{M^{2} c^{2} p_{\\psi}^{2} \\left(c^{2} - \\left(\\frac{d}{d t} r{\\left(t \\right)}\\right)^{2}\\right) r{\\left(t \\right)} \\frac{d}{d t} r{\\left(t \\right)}}{\\left(M^{2} c^{2} r^{2}{\\left(t \\right)} + p_{\\psi}^{2}\\right)^{2}} - \\frac{p_{\\psi}^{2} \\frac{d}{d t} r{\\left(t \\right)} \\frac{d^{2}}{d t^{2}} r{\\left(t \\right)}}{M^{2} c^{2} r^{2}{\\left(t \\right)} + p_{\\psi}^{2}} + \\frac{d}{d t} r{\\left(t \\right)} \\frac{d^{2}}{d t^{2}} r{\\left(t \\right)}}{v{\\left(t \\right)}}$"
      ],
      "text/plain": [
       "(-M**2*c**2*p_psi**2*(c**2 - Derivative(r(t), t)**2)*r(t)*Derivative(r(t), t)/(M**2*c**2*r(t)**2 + p_psi**2)**2 - p_psi**2*Derivative(r(t), t)*Derivative(r(t), (t, 2))/(M**2*c**2*r(t)**2 + p_psi**2) + Derivative(r(t), t)*Derivative(r(t), (t, 2)))/v(t)"
      ]
     },
     "execution_count": 56,
     "metadata": {},
     "output_type": "execute_result"
    }
   ],
   "source": [
    "f_v_t = sp.sqrt(v_squared).subs({r_dot: dr_dt, r: r_t, psi_dot: psi_dot_s_t})\n",
    "dv_dt = f_v_t.diff(t).subs(f_v_t, v_t)\n",
    "dv_dt"
   ]
  },
  {
   "cell_type": "code",
   "execution_count": 57,
   "metadata": {},
   "outputs": [
    {
     "data": {
      "text/latex": [
       "$\\displaystyle \\frac{\\left(- \\frac{M^{2} c^{2} p_{\\psi}^{2} \\left(c^{2} - \\left(\\frac{d}{d t} r{\\left(t \\right)}\\right)^{2}\\right) r{\\left(t \\right)} \\frac{d}{d t} r{\\left(t \\right)}}{\\left(M^{2} c^{2} r^{2}{\\left(t \\right)} + p_{\\psi}^{2}\\right)^{2}} - \\frac{p_{\\psi}^{2} \\frac{d}{d t} r{\\left(t \\right)} \\frac{d^{2}}{d t^{2}} r{\\left(t \\right)}}{M^{2} c^{2} r^{2}{\\left(t \\right)} + p_{\\psi}^{2}} + \\frac{d}{d t} r{\\left(t \\right)} \\frac{d^{2}}{d t^{2}} r{\\left(t \\right)}\\right) \\gamma^{3}{\\left(t \\right)}}{c^{2}}$"
      ],
      "text/plain": [
       "(-M**2*c**2*p_psi**2*(c**2 - Derivative(r(t), t)**2)*r(t)*Derivative(r(t), t)/(M**2*c**2*r(t)**2 + p_psi**2)**2 - p_psi**2*Derivative(r(t), t)*Derivative(r(t), (t, 2))/(M**2*c**2*r(t)**2 + p_psi**2) + Derivative(r(t), t)*Derivative(r(t), (t, 2)))*gamma(t)**3/c**2"
      ]
     },
     "execution_count": 57,
     "metadata": {},
     "output_type": "execute_result"
    }
   ],
   "source": [
    "dgamma_dt_subs = dgamma_dt.subs(v_t.diff(t), dv_dt)\n",
    "dgamma_dt_subs"
   ]
  },
  {
   "cell_type": "code",
   "execution_count": 58,
   "metadata": {},
   "outputs": [
    {
     "data": {
      "text/latex": [
       "$\\displaystyle \\frac{1}{\\gamma^{2} r{\\left(t \\right)}} = \\frac{M^{2} \\left(c^{2} - \\left(\\frac{d}{d t} r{\\left(t \\right)}\\right)^{2}\\right) r{\\left(t \\right)}}{M^{2} c^{2} r^{2}{\\left(t \\right)} + p_{\\psi}^{2}}$"
      ],
      "text/plain": [
       "Eq(1/(\\gamma**2*r(t)), M**2*(c**2 - Derivative(r(t), t)**2)*r(t)/(M**2*c**2*r(t)**2 + p_psi**2))"
      ]
     },
     "execution_count": 58,
     "metadata": {},
     "output_type": "execute_result"
    }
   ],
   "source": [
    "f_gamma_v = f_gamma.subs(v**2, v_squared).simplify().subs(psi_dot, psi_dot_s).simplify().subs({r_dot: dr_dt, r: r_t, gamma: gamma_t})\n",
    "gamma_eq_0 = sp.Eq(gamma, f_gamma_v)\n",
    "gamma_eq_0 = sp.Eq(gamma_eq_0.lhs ** 2, gamma_eq_0.rhs ** 2)\n",
    "gamma_eq_0 = sp.Eq(1 / gamma_eq_0.lhs, 1 / gamma_eq_0.rhs)\n",
    "gamma_eq_0 = sp.Eq(gamma_eq_0.lhs / r_t, gamma_eq_0.rhs / r_t)\n",
    "gamma_eq_0 = gamma_eq_0.simplify()\n",
    "gamma_eq_0"
   ]
  },
  {
   "cell_type": "code",
   "execution_count": 59,
   "metadata": {},
   "outputs": [
    {
     "data": {
      "text/latex": [
       "$\\displaystyle \\frac{\\left(M^{2} \\gamma^{2} r^{3}{\\left(t \\right)} \\frac{d^{2}}{d t^{2}} r{\\left(t \\right)} - p_{\\psi}^{2}\\right) \\gamma^{3}{\\left(t \\right)} \\frac{d}{d t} r{\\left(t \\right)}}{\\gamma^{2} \\left(M^{2} c^{2} r^{2}{\\left(t \\right)} + p_{\\psi}^{2}\\right) r{\\left(t \\right)}}$"
      ],
      "text/plain": [
       "(M**2*\\gamma**2*r(t)**3*Derivative(r(t), (t, 2)) - p_psi**2)*gamma(t)**3*Derivative(r(t), t)/(\\gamma**2*(M**2*c**2*r(t)**2 + p_psi**2)*r(t))"
      ]
     },
     "execution_count": 59,
     "metadata": {},
     "output_type": "execute_result"
    }
   ],
   "source": [
    "dgamma_dt_subs = dgamma_dt_subs.subs(gamma_eq_0.rhs, gamma_eq_0.lhs).simplify()\n",
    "dgamma_dt_subs"
   ]
  },
  {
   "cell_type": "code",
   "execution_count": 60,
   "metadata": {},
   "outputs": [
    {
     "data": {
      "text/latex": [
       "$\\displaystyle \\frac{\\sqrt{1 + \\frac{p_{\\psi}^{2}}{M^{2} c^{2} r^{2}}}}{\\sqrt{- \\frac{\\dot{r}^{2}}{c^{2}} + 1}}$"
      ],
      "text/plain": [
       "sqrt(1 + p_psi**2/(M**2*c**2*r**2))/sqrt(-\\dot{r}**2/c**2 + 1)"
      ]
     },
     "execution_count": 60,
     "metadata": {},
     "output_type": "execute_result"
    }
   ],
   "source": [
    "f_gamma_simplified = f_gamma.subs(v, sp.sqrt(v_squared))\n",
    "f_gamma_simplified = f_gamma_simplified.subs(psi_dot, psi_dot_s).simplify() \n",
    "\n",
    "replacement_a1 = sp.sqrt(M**2 * c**2 * r**2 + (p_psi**2))\n",
    "replacement_a2 = M * c * r * sp.sqrt(1 + (p_psi / M / c / r) ** 2)\n",
    "\n",
    "f_gamma_simplified = f_gamma_simplified.replace(replacement_a1, replacement_a2)\n",
    "\n",
    "replacement_b1 = 1 / sp.sqrt(-r_dot**2 + c**2)\n",
    "replacement_b2 = 1 / (c * sp.sqrt(1 - r_dot**2 / c**2))\n",
    "\n",
    "f_gamma_simplified = f_gamma_simplified.replace(replacement_b1, replacement_b2)\n",
    "\n",
    "f_gamma_simplified"
   ]
  },
  {
   "cell_type": "markdown",
   "metadata": {},
   "source": [
    "Ensure my simplification is correct:"
   ]
  },
  {
   "cell_type": "code",
   "execution_count": 61,
   "metadata": {},
   "outputs": [
    {
     "data": {
      "text/latex": [
       "$\\displaystyle 0$"
      ],
      "text/plain": [
       "0"
      ]
     },
     "execution_count": 61,
     "metadata": {},
     "output_type": "execute_result"
    }
   ],
   "source": [
    "f_gamma_simplified.simplify() - f_gamma.subs(v, sp.sqrt(v_squared)).simplify().subs(psi_dot, psi_dot_s).simplify()"
   ]
  },
  {
   "cell_type": "code",
   "execution_count": 62,
   "metadata": {},
   "outputs": [
    {
     "data": {
      "text/latex": [
       "$\\displaystyle \\frac{1}{\\gamma^{2} \\left(- \\frac{\\dot{r}^{2}}{c^{2}} + 1\\right)} = \\frac{1}{1 + \\frac{p_{\\psi}^{2}}{M^{2} c^{2} r^{2}}}$"
      ],
      "text/plain": [
       "Eq(1/(\\gamma**2*(-\\dot{r}**2/c**2 + 1)), 1/(1 + p_psi**2/(M**2*c**2*r**2)))"
      ]
     },
     "execution_count": 62,
     "metadata": {},
     "output_type": "execute_result"
    }
   ],
   "source": [
    "gamma_eq_ = sp.Eq(gamma, f_gamma_simplified)\n",
    "gamma_eq_ = sp.Eq(gamma_eq_.lhs**2, gamma_eq_.rhs**2)\n",
    "gamma_eq_ = sp.Eq(1 / gamma_eq_.lhs, 1 / gamma_eq_.rhs)\n",
    "denominator = -(r_dot / c) ** 2 + 1\n",
    "gamma_eq_ = sp.Eq(gamma_eq_.lhs / denominator, gamma_eq_.rhs / denominator)\n",
    "gamma_eq_"
   ]
  },
  {
   "cell_type": "code",
   "execution_count": 63,
   "metadata": {},
   "outputs": [
    {
     "data": {
      "text/latex": [
       "$\\displaystyle \\frac{\\dot{r} \\gamma \\left(\\frac{\\ddot{r} \\gamma^{2}}{c^{2}} - \\frac{p_{\\psi}^{2}}{M^{2} c^{2} r^{3}}\\right)}{1 + \\frac{p_{\\psi}^{2}}{M^{2} c^{2} r^{2}}}$"
      ],
      "text/plain": [
       "\\dot{r}*\\gamma*(\\ddot{r}*\\gamma**2/c**2 - p_psi**2/(M**2*c**2*r**3))/(1 + p_psi**2/(M**2*c**2*r**2))"
      ]
     },
     "execution_count": 63,
     "metadata": {},
     "output_type": "execute_result"
    }
   ],
   "source": [
    "dgamma_dt_simplified = dgamma_dt_subs.subs({\n",
    "    dr_dt.diff(t): r_ddot, \n",
    "    dr_dt: r_dot, \n",
    "    r_t: r, \n",
    "    gamma_t: gamma\n",
    "})\n",
    "\n",
    "replacement_a1 = M ** 2 * r_ddot * gamma ** 2 * r ** 3 - p_psi ** 2\n",
    "replacement_a2 = M ** 2 * r ** 3 * c ** 2 * (r_ddot * gamma ** 2 / c ** 2 - p_psi ** 2 / M ** 2 / r ** 3 / c ** 2)\n",
    "\n",
    "dgamma_dt_simplified = dgamma_dt_simplified.replace(replacement_a1, replacement_a2)\n",
    "\n",
    "replacement_b3 = 1 / (M ** 2 * c ** 2 * r ** 2 + p_psi ** 2)\n",
    "replacement_b4 = 1 / ((M ** 2 * c ** 2 * r ** 2) * (1 + p_psi ** 2 / M ** 2 / c ** 2 / r ** 2))\n",
    "\n",
    "dgamma_dt_simplified = dgamma_dt_simplified.replace(replacement_b3, replacement_b4)\n",
    "dgamma_dt_simplified"
   ]
  },
  {
   "cell_type": "markdown",
   "metadata": {},
   "source": [
    "Ensure my simplification is correct:"
   ]
  },
  {
   "cell_type": "code",
   "execution_count": 64,
   "metadata": {},
   "outputs": [
    {
     "data": {
      "text/latex": [
       "$\\displaystyle 0$"
      ],
      "text/plain": [
       "0"
      ]
     },
     "execution_count": 64,
     "metadata": {},
     "output_type": "execute_result"
    }
   ],
   "source": [
    "dgamma_dt_simplified.simplify() - dgamma_dt_subs.subs({\n",
    "    dr_dt.diff(t): r_ddot, \n",
    "    dr_dt: r_dot, \n",
    "    r_t: r, \n",
    "    gamma_t: gamma\n",
    "}).simplify()"
   ]
  },
  {
   "cell_type": "code",
   "execution_count": 65,
   "metadata": {},
   "outputs": [
    {
     "data": {
      "text/latex": [
       "$\\displaystyle \\frac{\\dot{r} \\left(\\frac{\\ddot{r} \\gamma^{2}}{c^{2}} - \\frac{p_{\\psi}^{2}}{M^{2} c^{2} r^{3}}\\right)}{\\gamma \\left(- \\frac{\\dot{r}^{2}}{c^{2}} + 1\\right)}$"
      ],
      "text/plain": [
       "\\dot{r}*(\\ddot{r}*\\gamma**2/c**2 - p_psi**2/(M**2*c**2*r**3))/(\\gamma*(-\\dot{r}**2/c**2 + 1))"
      ]
     },
     "execution_count": 65,
     "metadata": {},
     "output_type": "execute_result"
    }
   ],
   "source": [
    "dgamma_dt_simplified = dgamma_dt_simplified.replace(gamma_eq_.rhs, gamma_eq_.lhs)\n",
    "dgamma_dt_simplified"
   ]
  },
  {
   "cell_type": "code",
   "execution_count": 66,
   "metadata": {},
   "outputs": [
    {
     "data": {
      "text/latex": [
       "$\\displaystyle \\frac{M^{2} \\ddot{r} \\gamma^{2} c^{2} r^{3} + M \\dot{r}^{2} \\gamma r^{3} \\frac{d}{d r} U{\\left(r \\right)} - M \\gamma c^{2} r^{3} \\frac{d}{d r} U{\\left(r \\right)} - c^{2} p_{\\psi}^{2}}{M^{2} \\gamma^{2} r^{3} \\left(- \\dot{r}^{2} + c^{2}\\right)}$"
      ],
      "text/plain": [
       "(M**2*\\ddot{r}*\\gamma**2*c**2*r**3 + M*\\dot{r}**2*\\gamma*r**3*Derivative(U(r), r) - M*\\gamma*c**2*r**3*Derivative(U(r), r) - c**2*p_psi**2)/(M**2*\\gamma**2*r**3*(-\\dot{r}**2 + c**2))"
      ]
     },
     "execution_count": 66,
     "metadata": {},
     "output_type": "execute_result"
    }
   ],
   "source": [
    "r_ddot_eq = r_ddot_eq.subs({dr_dt.diff(t): r_ddot, dr_dt: r_dot, r_t: r, gamma_t.diff(t): gamma_dot, gamma_t: gamma, psi_t.diff(t): psi_dot})\n",
    "r_ddot_eq = r_ddot_eq.subs({gamma_dot: dgamma_dt_simplified.simplify(), psi_dot: psi_dot_eq}).simplify()\n",
    "r_ddot_eq"
   ]
  },
  {
   "cell_type": "code",
   "execution_count": 67,
   "metadata": {},
   "outputs": [
    {
     "data": {
      "text/latex": [
       "$\\displaystyle - \\frac{\\dot{r}^{2} \\frac{d}{d r} U{\\left(r \\right)}}{M \\gamma c^{2}} + \\frac{\\frac{d}{d r} U{\\left(r \\right)}}{M \\gamma} + \\frac{p_{\\psi}^{2}}{M^{2} \\gamma^{2} r^{3}}$"
      ],
      "text/plain": [
       "-\\dot{r}**2*Derivative(U(r), r)/(M*\\gamma*c**2) + Derivative(U(r), r)/(M*\\gamma) + p_psi**2/(M**2*\\gamma**2*r**3)"
      ]
     },
     "execution_count": 67,
     "metadata": {},
     "output_type": "execute_result"
    }
   ],
   "source": [
    "r_ddot_s = sp.solve(r_ddot_eq, r_ddot)[0]\n",
    "r_ddot_s"
   ]
  },
  {
   "cell_type": "markdown",
   "metadata": {},
   "source": [
    "## Simplifying the equations"
   ]
  },
  {
   "cell_type": "markdown",
   "metadata": {},
   "source": [
    "### Simplifying $\\ddot{r}$ equation"
   ]
  },
  {
   "cell_type": "code",
   "execution_count": 68,
   "metadata": {},
   "outputs": [
    {
     "data": {
      "text/latex": [
       "$\\displaystyle - \\frac{\\dot{r}^{2} \\frac{d}{d r} U{\\left(r \\right)}}{M \\gamma c^{2}} + \\frac{\\frac{d}{d r} U{\\left(r \\right)}}{M \\gamma} + \\frac{p_{\\psi}^{2}}{M^{2} \\gamma^{2} r^{3}}$"
      ],
      "text/plain": [
       "-\\dot{r}**2*Derivative(U(r), r)/(M*\\gamma*c**2) + Derivative(U(r), r)/(M*\\gamma) + p_psi**2/(M**2*\\gamma**2*r**3)"
      ]
     },
     "execution_count": 68,
     "metadata": {},
     "output_type": "execute_result"
    }
   ],
   "source": [
    "r_ddot_s"
   ]
  },
  {
   "cell_type": "code",
   "execution_count": 69,
   "metadata": {},
   "outputs": [
    {
     "data": {
      "text/latex": [
       "$\\displaystyle \\frac{\\left(- \\frac{\\dot{r}^{2}}{c^{2}} + 1\\right) \\frac{d}{d r} U{\\left(r \\right)}}{M \\gamma} + \\frac{p_{\\psi}^{2}}{M^{2} \\gamma^{2} r^{3}}$"
      ],
      "text/plain": [
       "(-\\dot{r}**2/c**2 + 1)*Derivative(U(r), r)/(M*\\gamma) + p_psi**2/(M**2*\\gamma**2*r**3)"
      ]
     },
     "execution_count": 69,
     "metadata": {},
     "output_type": "execute_result"
    }
   ],
   "source": [
    "r_ddot_s_0 = r_ddot_s.collect(U_e.diff(r)).collect(1 / M / gamma)\n",
    "r_ddot_s_0"
   ]
  },
  {
   "cell_type": "markdown",
   "metadata": {},
   "source": [
    "## In Summary the equations of motion:\n",
    "- $\\vec{p_{\\psi}} = M \\vec{r_0} \\times \\vec{v_0} \\to p_{\\psi} = M |\\vec{r_0}| |\\vec{v_0}| sin(\\theta)$\n",
    "- $\\ddot r =  \\frac{p_{\\psi}^{2}}{M^{2} \\gamma^{2} r^{3}} + \\frac{\\frac{d}{d r} U{\\left(r \\right)}} {M \\gamma} \\left(1 - (\\frac{\\dot{r}}{c})^2\\right)$\n",
    "\n",
    "- $ \\dot \\psi = \\frac{p_{\\psi}}{M \\gamma r^{2}}$"
   ]
  }
 ],
 "metadata": {
  "kernelspec": {
   "display_name": ".venv",
   "language": "python",
   "name": "python3"
  },
  "language_info": {
   "codemirror_mode": {
    "name": "ipython",
    "version": 3
   },
   "file_extension": ".py",
   "mimetype": "text/x-python",
   "name": "python",
   "nbconvert_exporter": "python",
   "pygments_lexer": "ipython3",
   "version": "3.12.3"
  }
 },
 "nbformat": 4,
 "nbformat_minor": 2
}
