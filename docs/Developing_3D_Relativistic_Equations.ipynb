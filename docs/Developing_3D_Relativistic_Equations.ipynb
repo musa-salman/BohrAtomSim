{
 "cells": [
  {
   "cell_type": "code",
   "execution_count": 1,
   "metadata": {},
   "outputs": [],
   "source": [
    "import sympy as sp"
   ]
  },
  {
   "cell_type": "markdown",
   "metadata": {},
   "source": [
    "Euler-Lagrange equation:\n",
    "\n",
    "$\\frac{\\partial}{\\partial t} (\\frac{\\partial L}{\\partial \\dot q})= \\frac{\\partial L}{\\partial q}$"
   ]
  },
  {
   "cell_type": "code",
   "execution_count": 2,
   "metadata": {},
   "outputs": [],
   "source": [
    "t, v = sp.symbols('t v', real=True)\n",
    "r = sp.Symbol('r', real=True, positive=True)\n",
    "theta, phi, gamma = sp.symbols('\\\\theta \\\\phi \\\\gamma', real=True)\n",
    "r_dot, phi_dot, theta_dot, gamma_dot = sp.symbols('\\\\dot{r} \\\\dot{\\\\phi} \\\\dot{\\\\theta} \\\\dot{\\\\gamma}', real=True)\n",
    "r_ddot, theta_ddot = sp.symbols('\\\\ddot{r} \\\\ddot{\\\\theta}', real=True)\n",
    "k, M, c, e, hbar = sp.symbols('k M c e hbar', positive = True)\n",
    "\n",
    "\n",
    "r_t = sp.Function('r')(t)\n",
    "theta_t = sp.Function('theta')(t)\n",
    "phi_t = sp.Function('phi')(t)\n",
    "gamma_t = sp.Function('gamma')(t)\n",
    "\n",
    "dr_dt = r_t.diff(t)\n",
    "dtheta_dt = theta_t.diff(t)\n",
    "dphi_dt = phi_t.diff(t)\n",
    "dgamma_dt = gamma_t.diff(t)"
   ]
  },
  {
   "cell_type": "code",
   "execution_count": 3,
   "metadata": {},
   "outputs": [],
   "source": [
    "L = -M * c ** 2 / gamma + e ** 2 /r"
   ]
  }
 ],
 "metadata": {
  "kernelspec": {
   "display_name": ".env",
   "language": "python",
   "name": "python3"
  },
  "language_info": {
   "codemirror_mode": {
    "name": "ipython",
    "version": 3
   },
   "file_extension": ".py",
   "mimetype": "text/x-python",
   "name": "python",
   "nbconvert_exporter": "python",
   "pygments_lexer": "ipython3",
   "version": "3.12.3"
  }
 },
 "nbformat": 4,
 "nbformat_minor": 2
}
